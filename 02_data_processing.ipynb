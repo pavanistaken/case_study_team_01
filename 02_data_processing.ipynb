{
 "cells": [
  {
   "cell_type": "markdown",
   "metadata": {},
   "source": [
    "# Purpose"
   ]
  },
  {
   "cell_type": "markdown",
   "metadata": {},
   "source": [
    "\n",
    "This notebook demonstrates the data pipeline from raw tables to analytical datasets. At the end of this activity, train & test data sets are created from raw data.\n",
    "\n"
   ]
  },
  {
   "cell_type": "markdown",
   "metadata": {},
   "source": [
    "## Imports"
   ]
  },
  {
   "cell_type": "code",
   "execution_count": 41,
   "metadata": {},
   "outputs": [
    {
     "name": "stdout",
     "output_type": "stream",
     "text": [
      "The autoreload extension is already loaded. To reload it, use:\n",
      "  %reload_ext autoreload\n"
     ]
    }
   ],
   "source": [
    "%load_ext autoreload\n",
    "%autoreload 2"
   ]
  },
  {
   "cell_type": "code",
   "execution_count": 42,
   "metadata": {},
   "outputs": [],
   "source": [
    "import os\n",
    "import os.path as op\n",
    "import shutil\n",
    "\n",
    "# standard third party imports\n",
    "import numpy as np\n",
    "import pandas as pd\n",
    "import seaborn as sns\n",
    "import scipy.stats as stats\n",
    "from sklearn.model_selection import train_test_split\n",
    "pd.options.mode.use_inf_as_na = True\n",
    "\n",
    "from datetime import datetime\n",
    "from dateutil.relativedelta import relativedelta"
   ]
  },
  {
   "cell_type": "code",
   "execution_count": 43,
   "metadata": {},
   "outputs": [],
   "source": [
    "import warnings\n",
    "\n",
    "warnings.filterwarnings('ignore', message=\"The sklearn.metrics.classification module\", category=FutureWarning)\n",
    "warnings.filterwarnings('ignore', message=\".*title_format is deprecated. Please use title instead.*\")\n",
    "warnings.filterwarnings('ignore', message=\"optional dependency `torch` is not available. - skipping import of NN models.\")"
   ]
  },
  {
   "cell_type": "code",
   "execution_count": 44,
   "metadata": {},
   "outputs": [],
   "source": [
    "# standard code-template imports\n",
    "from ta_lib.core.api import (\n",
    "    create_context, get_dataframe, get_feature_names_from_column_transformer, get_package_path,\n",
    "    display_as_tabs, string_cleaning, merge_info, initialize_environment\n",
    ")\n",
    "import ta_lib.core.api as dataset\n",
    "import ta_lib.eda.api as ta_analysis\n",
    "import ta_lib.reports.api as reports\n",
    "\n",
    "os.environ['TA_DEBUG'] = \"False\"\n",
    "os.environ['TA_ALLOW_EXCEPTIONS'] = \"True\"\n",
    "\n",
    "# Initialization\n",
    "initialize_environment(debug=False, hide_warnings=True)"
   ]
  },
  {
   "cell_type": "markdown",
   "metadata": {},
   "source": [
    "## Utility functions"
   ]
  },
  {
   "cell_type": "code",
   "execution_count": 45,
   "metadata": {},
   "outputs": [
    {
     "name": "stdout",
     "output_type": "stream",
     "text": [
      "['/raw/product', '/raw/opportunity', '/cleaned/target', '/cleaned/product', '/cleaned/opportunity', '/processed/merged', '/train/merged/features', '/train/merged/target', '/test/merged/features', '/test/merged/target', '/score/merged/output']\n"
     ]
    }
   ],
   "source": [
    "config_path = op.join('conf', 'config.yml')\n",
    "context = create_context(config_path)\n",
    "print(dataset.list_datasets(context))"
   ]
  },
  {
   "cell_type": "markdown",
   "metadata": {},
   "source": [
    "## Load, Clean, and Engineer data"
   ]
  },
  {
   "cell_type": "code",
   "execution_count": 46,
   "metadata": {},
   "outputs": [],
   "source": [
    "from statistics import mode\n",
    "# Loading raw datasets in a loop\n",
    "data = dict()\n",
    "\n",
    "for i in dataset.list_datasets(context):\n",
    "    if '/raw/' in i:\n",
    "        dataset_name = i.replace('/raw/','')\n",
    "        key_ = dataset_name+'_df'\n",
    "        data[key_] = dataset.load_dataset(context,i)\n",
    "        \n",
    "        # Standardize column names\n",
    "        data[key_].columns = string_cleaning(data[key_].columns,lower=True).str.replace(' ','_')\n",
    "        \n",
    "        # Changes\n",
    "        if key_ == 'opportunity_df':\n",
    "            # Fill na values with default values\n",
    "            data[key_]['opportunity_id'] = data[key_]['opportunity_id'].apply(lambda x: 'opp_' + str(x))\n",
    "            data[key_]['customer_name'] = data[key_]['customer_name'].apply(lambda x: 'cus_' + x.split(' ')[1])\n",
    "            data[key_]['transition_from_timestamp'] = data[key_]['transition_from_timestamp'].fillna(data[key_]['transition_to_timestamp']).astype('int64').copy()\n",
    "            data[key_]['transition_from_stage_name'] = data[key_]['transition_from_stage_name'].fillna('Stage 0').astype('object').copy()\n",
    "            data[key_]['opportunity_type'] = data[key_]['opportunity_type'].fillna(data[key_]['opportunity_type'].mode()[0]).copy()\n",
    "            \n",
    "            # Fill na values in opportunity_status\n",
    "            temp_df = data[key_].groupby(['transition_to_stage'])['opportunity_status'].apply(lambda x: mode(list(x))).to_dict()\n",
    "            data[key_]['opportunity_status'] = data[key_]['transition_to_stage'].map(temp_df)\n",
    "            \n",
    "            # Data type change for dates\n",
    "            data[key_]['decision_date'] = pd.to_datetime(data[key_]['decision_date'], unit='D', origin='1899-12-30')\n",
    "            data[key_]['creation_date'] = pd.to_datetime(data[key_]['creation_date'], unit='D', origin='1899-12-30')\n",
    "\n",
    "            data[key_]['transition_from_datetime'] = pd.to_datetime(data[key_]['transition_from_timestamp'], format='%Y%m%d%H%M%S')\n",
    "            data[key_]['transition_to_datetime'] = pd.to_datetime(data[key_]['transition_to_timestamp'], format='%Y%m%d%H%M%S')\n",
    "            \n",
    "            # Feature Addition\n",
    "            stage_level = {'Stage 6': 1, 'Stage 5': 1, 'Stage 3': 2, 'Stage 2': 3, 'Stage 4': 4, 'Stage 9': 4, 'Stage 1': -4, 'Stage 8': -4, 'Stage 7': 0}\n",
    "            data[key_]['stage_level'] = data[key_]['transition_to_stage'].map(stage_level)\n",
    "            data[key_]['stage_level'] = data[key_]['stage_level']/data[key_]['stage_level'].max()\n",
    "            \n",
    "            data[key_]['transition_time_days'] = ((data[key_]['transition_to_datetime'] - data[key_]['transition_from_datetime']).dt.total_seconds()/(3600*24)).round(2)\n",
    "            data[key_]['decision_time_days'] = ((data[key_]['decision_date'] - data[key_]['creation_date']).dt.total_seconds()/(3600*24)).round(2)\n",
    "            data[key_]['early_stages'] = data[key_]['transition_from_stage_name'].apply(lambda x: x in ['Stage 0', 'Stage 5', 'Stage 6'])\n",
    "            \n",
    "            # Replacing Geography NA values to 1.\n",
    "            data[key_]['geography'].replace('Geo NA','Geo 1', inplace=True)\n",
    "                        \n",
    "            # Drop columns with missing values more than 50%\n",
    "            data[key_].drop(['risk_status'], axis=1, inplace=True)\n",
    "            \n",
    "            # Convertion Label\n",
    "            data[key_]['did_convert'] = data[key_]['opportunity_status'] == 'Closed/Won'\n",
    "\n",
    "        elif key_ == 'product_df':\n",
    "            # Dropping NA in Product Status Column\n",
    "            data[key_].dropna(inplace=True)\n",
    "            \n",
    "            data[key_]['opportunity_id'] = data[key_]['opportunity_id'].apply(lambda x: 'opp_' + str(x))\n",
    "            data[key_]['product_id'] = data[key_]['product_id'].apply(lambda x: 'pro_' + str(x))\n",
    "            data[key_]['decision_date'] = pd.to_datetime(data[key_]['decision_date'], unit='D', origin='1899-12-30')\n",
    "            data[key_]['snapshot_datetime'] = pd.to_datetime(data[key_]['snapshot_time'], format='%Y%m%d%H%M%S')\n",
    "            \n",
    "            # Drop columns with no value\n",
    "            data[key_].drop(['product_segment_name'], axis=1, inplace=True)\n",
    "                        \n",
    "            # Convertion Label\n",
    "            data[key_]['target'] = data[key_]['product_status'].apply(lambda x: x in ['Win Approved', 'Win Submitted'])*1         \n",
    "        \n",
    "        # Drop duplicates\n",
    "        data[key_].drop_duplicates(inplace=True)\n",
    "        \n",
    "        # Save processed data\n",
    "        dataset.save_dataset(context, data[key_], 'cleaned/'+ dataset_name)"
   ]
  },
  {
   "cell_type": "markdown",
   "metadata": {},
   "source": [
    "### Merge Opportunity with Product"
   ]
  },
  {
   "cell_type": "code",
   "execution_count": 47,
   "metadata": {},
   "outputs": [],
   "source": [
    "merge = data['opportunity_df'].merge(data['product_df'], how='inner', \n",
    "                                     left_on=['opportunity_id','transition_to_timestamp'],\n",
    "                                     right_on=['opportunity_id','snapshot_time'])"
   ]
  },
  {
   "cell_type": "code",
   "execution_count": 48,
   "metadata": {},
   "outputs": [
    {
     "data": {
      "text/plain": [
       "(97901, 30)"
      ]
     },
     "execution_count": 48,
     "metadata": {},
     "output_type": "execute_result"
    }
   ],
   "source": [
    "merge.shape"
   ]
  },
  {
   "cell_type": "code",
   "execution_count": 49,
   "metadata": {},
   "outputs": [],
   "source": [
    "# Remove Duplicate Values from specified features\n",
    "duplicated_features = list(set(merge.columns) - {'transition_to_timestamp', 'transition_from_timestamp', 'transition_to_datetime','transition_time_days','transition_from_datetime','snapshot_datetime','snapshot_time'})\n",
    "merge_trimmed = merge.drop_duplicates(duplicated_features).copy()"
   ]
  },
  {
   "cell_type": "markdown",
   "metadata": {},
   "source": [
    "### Encoding Features with relavant Target Value."
   ]
  },
  {
   "cell_type": "code",
   "execution_count": 50,
   "metadata": {},
   "outputs": [],
   "source": [
    "# Target Encoding the Categorical Features\n",
    "cat_columns = list(set(merge_trimmed.select_dtypes(include=['object','bool']).columns) - set(['customer_name','opportunity_id','oppo_pro_tr_time_geo_id']))\n",
    "\n",
    "merge_target_encoded = merge_trimmed.copy()\n",
    "\n",
    "for col in cat_columns:\n",
    "    temp_map = merge_target_encoded.groupby([col])['target'].mean().to_dict()\n",
    "    merge_target_encoded[col] = merge_target_encoded[col].map(temp_map)"
   ]
  },
  {
   "cell_type": "code",
   "execution_count": 51,
   "metadata": {},
   "outputs": [
    {
     "name": "stderr",
     "output_type": "stream",
     "text": [
      "elementwise comparison failed; this will raise an error in the future.\n"
     ]
    },
    {
     "data": {},
     "metadata": {},
     "output_type": "display_data"
    },
    {
     "data": {
      "application/vnd.holoviews_exec.v0+json": "",
      "text/html": [
       "<div id='2288'>\n",
       "\n",
       "\n",
       "\n",
       "\n",
       "\n",
       "  <div class=\"bk-root\" id=\"00b0e11c-5f44-452d-8879-c33294a9bc44\" data-root-id=\"2288\"></div>\n",
       "</div>\n",
       "<script type=\"application/javascript\">(function(root) {\n",
       "  function embed_document(root) {\n",
       "  var docs_json = {\"6c697b6e-c580-4a81-9c05-64b4548ef32e\":{\"roots\":{\"references\":[{\"attributes\":{\"editor\":{\"id\":\"2296\"},\"field\":\"Variable Name\",\"formatter\":{\"id\":\"2295\"},\"title\":\"Variable Name\",\"width\":null},\"id\":\"2297\",\"type\":\"TableColumn\"},{\"attributes\":{},\"id\":\"2310\",\"type\":\"StringFormatter\"},{\"attributes\":{\"client_comm_id\":\"60349517ad9442dea9e5920b2dfc3591\",\"comm_id\":\"b89f0794ea6e4d75a5e17c2e22281993\",\"plot_id\":\"2288\"},\"id\":\"2330\",\"type\":\"panel.models.comm_manager.CommManager\"},{\"attributes\":{},\"id\":\"2295\",\"type\":\"StringFormatter\"},{\"attributes\":{\"columns\":[{\"id\":\"2292\"},{\"id\":\"2297\"},{\"id\":\"2302\"},{\"id\":\"2307\"},{\"id\":\"2312\"},{\"id\":\"2317\"}],\"editable\":true,\"fit_columns\":true,\"height\":780,\"index_position\":null,\"margin\":[5,10,5,10],\"name\":\"merge - 15937 rows\",\"source\":{\"id\":\"2289\"},\"view\":{\"id\":\"2321\"}},\"id\":\"2320\",\"type\":\"DataTable\"},{\"attributes\":{\"editor\":{\"id\":\"2306\"},\"field\":\"No of Unique\",\"formatter\":{\"id\":\"2305\"},\"title\":\"No of Unique\",\"width\":null},\"id\":\"2307\",\"type\":\"TableColumn\"},{\"attributes\":{},\"id\":\"2290\",\"type\":\"StringFormatter\"},{\"attributes\":{},\"id\":\"2315\",\"type\":\"NumberFormatter\"},{\"attributes\":{\"editor\":{\"id\":\"2291\"},\"field\":\"index\",\"formatter\":{\"id\":\"2290\"},\"title\":\"index\",\"width\":null},\"id\":\"2292\",\"type\":\"TableColumn\"},{\"attributes\":{\"source\":{\"id\":\"2289\"}},\"id\":\"2321\",\"type\":\"CDSView\"},{\"attributes\":{\"editor\":{\"id\":\"2316\"},\"field\":\"Null_Values\",\"formatter\":{\"id\":\"2315\"},\"title\":\"Null_Values\",\"width\":null},\"id\":\"2317\",\"type\":\"TableColumn\"},{\"attributes\":{},\"id\":\"2305\",\"type\":\"StringFormatter\"},{\"attributes\":{\"child\":{\"id\":\"2320\"},\"name\":\"merge - 15937 rows\",\"title\":\"merge - 15937 rows\"},\"id\":\"2323\",\"type\":\"Panel\"},{\"attributes\":{},\"id\":\"2300\",\"type\":\"StringFormatter\"},{\"attributes\":{},\"id\":\"2291\",\"type\":\"StringEditor\"},{\"attributes\":{\"editor\":{\"id\":\"2301\"},\"field\":\"Datatype\",\"formatter\":{\"id\":\"2300\"},\"title\":\"Datatype\",\"width\":null},\"id\":\"2302\",\"type\":\"TableColumn\"},{\"attributes\":{},\"id\":\"2301\",\"type\":\"StringEditor\"},{\"attributes\":{},\"id\":\"2324\",\"type\":\"UnionRenderers\"},{\"attributes\":{},\"id\":\"2296\",\"type\":\"StringEditor\"},{\"attributes\":{},\"id\":\"2322\",\"type\":\"Selection\"},{\"attributes\":{\"editor\":{\"id\":\"2311\"},\"field\":\"Samples\",\"formatter\":{\"id\":\"2310\"},\"title\":\"Samples\",\"width\":null},\"id\":\"2312\",\"type\":\"TableColumn\"},{\"attributes\":{\"margin\":[0,0,0,0],\"tabs\":[{\"id\":\"2323\"}]},\"id\":\"2288\",\"type\":\"Tabs\"},{\"attributes\":{},\"id\":\"2306\",\"type\":\"StringEditor\"},{\"attributes\":{},\"id\":\"2311\",\"type\":\"StringEditor\"},{\"attributes\":{},\"id\":\"2316\",\"type\":\"IntEditor\"},{\"attributes\":{\"data\":{\"Datatype\":[\"object\",\"float64\",\"int64\",\"float64\",\"int64\",\"object\",\"datetime64[ns]\",\"datetime64[ns]\",\"float64\",\"float64\",\"float64\",\"float64\",\"float64\",\"float64\",\"float64\",\"datetime64[ns]\",\"datetime64[ns]\",\"float64\",\"float64\",\"float64\",\"float64\",\"float64\",\"float64\",\"int64\",\"int64\",\"int64\",\"datetime64[ns]\",\"int64\",\"datetime64[ns]\",\"int32\"],\"No of Unique\":[\"2524\",\"9\",\"748\",\"8\",\"769\",\"1652\",\"294\",\"477\",\"3\",\"2\",\"16\",\"7\",\"13\",\"5\",\"22\",\"769\",\"748\",\"6\",\"313\",\"515\",\"2\",\"2\",\"28\",\"2\",\"2742\",\"1084\",\"487\",\"748\",\"748\",\"2\"],\"Null_Values\":[0,0,0,0,0,0,0,0,0,0,0,0,0,0,0,0,0,0,0,0,0,0,0,0,0,0,0,0,0,0],\"Samples\":[\"['opp_5', 'opp_19', 'opp_46', 'opp_47', 'opp_93']\",\"[0.29758576874205844, 0.970139565076274, 0.09140767824497258, 0.845679012345679, 0.03225806451612903]\",\"[20150213050002, 20150316130001, 20150317130001, 20150323210001, 20150511050004]\",\"[0.5695150115473441, 0.9500870574579222, 0.3626465661641541, 0.8591549295774648, 0.2008130081300813]\",\"[20150211130001, 20150304210002, 20150316130001, 20150317130001, 20150503210003]\",\"['cus_83', 'cus_216', 'cus_108', 'cus_117', 'cus_286']\",\"[numpy.datetime64('2015-02-11T00:00:00.000000000'), numpy.datetime64('2015-02-12T00:00:00.000000000'), numpy.datetime64('2015-02-13T00:00:00.000000000'), numpy.datetime64('2015-02-14T00:00:00.000000000'), numpy.datetime64('2015-02-16T00:00:00.000000000')]\",\"[numpy.datetime64('2015-03-12T00:00:00.000000000'), numpy.datetime64('2015-08-14T00:00:00.000000000'), numpy.datetime64('2015-06-01T00:00:00.000000000'), numpy.datetime64('2015-06-02T00:00:00.000000000'), numpy.datetime64('2015-06-08T00:00:00.000000000')]\",\"[0.16670356431259686, 0.9669512966476913, 0.031088082901554404]\",\"[0.4996138996138996, 0.30851063829787234]\",\"[0.4642375168690958, 0.3676371022342586, 0.4, 0.4401496259351621, 0.3442622950819672]\",\"[0.48946558758611464, 0.4309090909090909, 0.13043478260869565, 0.2765957446808511, 0.0]\",\"[0.4998362266622994, 0.3516295025728988, 0.6310679611650486, 0.20224719101123595, 0.1276595744680851]\",\"[0.2304230423042304, 0.46487752161383283, 0.5256550218340611, 0.44449013157894735, 0.550499001996008]\",\"[0.4943373733359825, 0.49786259541984734, 0.5245901639344263, 0.41926477431363424, 0.21428571428571427]\",\"[numpy.datetime64('2015-02-11T13:00:01.000000000'), numpy.datetime64('2015-03-04T21:00:02.000000000'), numpy.datetime64('2015-03-16T13:00:01.000000000'), numpy.datetime64('2015-03-17T13:00:01.000000000'), numpy.datetime64('2015-05-03T21:00:03.000000000')]\",\"[numpy.datetime64('2015-02-13T05:00:02.000000000'), numpy.datetime64('2015-03-16T13:00:01.000000000'), numpy.datetime64('2015-03-17T13:00:01.000000000'), numpy.datetime64('2015-03-23T21:00:01.000000000'), numpy.datetime64('2015-05-11T05:00:04.000000000')]\",\"[0.5, 1.0, 0.25, 0.75, -1.0]\",\"[1.67, 11.67, 1.0, 6.33, 7.33]\",\"[29.0, 184.0, 110.0, 111.0, 117.0]\",\"[0.6465371621621622, 0.23433874709976799]\",\"[0.15853531675855612, 0.9669512966476913]\",\"[0.75, 0.6, 0.6666666666666666, 0.0, 1.0]\",\"[0, 1]\",\"[230400, 0, 647500, 880000, 1056000]\",\"[1200, 200000, 400000, 2500, 3000]\",\"[numpy.datetime64('2015-03-12T00:00:00.000000000'), numpy.datetime64('2015-03-16T00:00:00.000000000'), numpy.datetime64('2015-08-14T00:00:00.000000000'), numpy.datetime64('2015-08-18T00:00:00.000000000'), numpy.datetime64('2015-06-01T00:00:00.000000000')]\",\"[20150213050002, 20150316130001, 20150317130001, 20150323210001, 20150511050004]\",\"[numpy.datetime64('2015-02-13T05:00:02.000000000'), numpy.datetime64('2015-03-16T13:00:01.000000000'), numpy.datetime64('2015-03-17T13:00:01.000000000'), numpy.datetime64('2015-03-23T21:00:01.000000000'), numpy.datetime64('2015-05-11T05:00:04.000000000')]\",\"[0, 1]\"],\"Variable Name\":[\"opportunity_id\",\"transition_to_stage\",\"transition_to_timestamp\",\"transition_from_stage_name\",\"transition_from_timestamp\",\"customer_name\",\"creation_date\",\"decision_date_x\",\"opportunity_status\",\"opportunity_type\",\"core_consumption_market\",\"core_product_segment\",\"core_sales_segment\",\"geography\",\"core_product_application\",\"transition_from_datetime\",\"transition_to_datetime\",\"stage_level\",\"transition_time_days\",\"decision_time_days\",\"early_stages\",\"did_convert\",\"product_id\",\"product_status\",\"product_$\",\"product_quantity\",\"decision_date_y\",\"snapshot_time\",\"snapshot_datetime\",\"target\"],\"index\":[\"opportunity_id\",\"transition_to_stage\",\"transition_to_timestamp\",\"transition_from_stage_name\",\"transition_from_timestamp\",\"customer_name\",\"creation_date\",\"decision_date_x\",\"opportunity_status\",\"opportunity_type\",\"core_consumption_market\",\"core_product_segment\",\"core_sales_segment\",\"geography\",\"core_product_application\",\"transition_from_datetime\",\"transition_to_datetime\",\"stage_level\",\"transition_time_days\",\"decision_time_days\",\"early_stages\",\"did_convert\",\"product_id\",\"product_status\",\"product_$\",\"product_quantity\",\"decision_date_y\",\"snapshot_time\",\"snapshot_datetime\",\"target\"]},\"selected\":{\"id\":\"2322\"},\"selection_policy\":{\"id\":\"2324\"}},\"id\":\"2289\",\"type\":\"ColumnDataSource\"}],\"root_ids\":[\"2288\",\"2330\"]},\"title\":\"Bokeh Application\",\"version\":\"2.2.3\"}};\n",
       "  var render_items = [{\"docid\":\"6c697b6e-c580-4a81-9c05-64b4548ef32e\",\"root_ids\":[\"2288\"],\"roots\":{\"2288\":\"00b0e11c-5f44-452d-8879-c33294a9bc44\"}}];\n",
       "  root.Bokeh.embed.embed_items_notebook(docs_json, render_items);\n",
       "  }\n",
       "if (root.Bokeh !== undefined) {\n",
       "    embed_document(root);\n",
       "  } else {\n",
       "    var attempts = 0;\n",
       "    var timer = setInterval(function(root) {\n",
       "      if (root.Bokeh !== undefined) {\n",
       "        clearInterval(timer);\n",
       "        embed_document(root);\n",
       "      } else if (document.readyState == \"complete\") {\n",
       "        attempts++;\n",
       "        if (attempts > 100) {\n",
       "          clearInterval(timer);\n",
       "          console.log(\"Bokeh: ERROR: Unable to run BokehJS code because BokehJS library is missing\");\n",
       "        }\n",
       "      }\n",
       "    }, 10, root)\n",
       "  }\n",
       "})(window);</script>"
      ],
      "text/plain": [
       "Tabs\n",
       "    [0] DataFrame(name='merge - 15937 rows', value=                          ...)"
      ]
     },
     "execution_count": 51,
     "metadata": {
      "application/vnd.holoviews_exec.v0+json": {
       "id": "2288"
      }
     },
     "output_type": "execute_result"
    }
   ],
   "source": [
    "summaries = [ta_analysis.get_variable_summary(merge_target_encoded).assign(Null_Values=pd.Series(merge_target_encoded.isna().sum()))]\n",
    "display_as_tabs([(('{0} - {1} rows'.format('merge', str(merge_target_encoded.shape[0]))), summaries[0])])"
   ]
  },
  {
   "cell_type": "markdown",
   "metadata": {},
   "source": [
    "## Assignment Questions"
   ]
  },
  {
   "cell_type": "code",
   "execution_count": 52,
   "metadata": {},
   "outputs": [],
   "source": [
    "# Statistical Significance\n",
    "alpha = 0.05"
   ]
  },
  {
   "cell_type": "markdown",
   "metadata": {},
   "source": [
    "#### 1. Is time taken between stage transitions significantly different across geographies?\n",
    "* `h0` : Geographies have __same__ population mean for stage transition time.\n",
    "* `h1` : Geographies have __different__ population mean for stage transition time."
   ]
  },
  {
   "cell_type": "code",
   "execution_count": 53,
   "metadata": {},
   "outputs": [
    {
     "name": "stdout",
     "output_type": "stream",
     "text": [
      "geography\n",
      "Geo 1    4.53\n",
      "Geo 2    5.12\n",
      "Geo 3    5.13\n",
      "Geo 4    5.18\n",
      "Geo 5    5.18\n",
      "Name: transition_time_days, dtype: float64\n"
     ]
    },
    {
     "data": {},
     "metadata": {},
     "output_type": "display_data"
    },
    {
     "data": {
      "application/vnd.holoviews_exec.v0+json": "",
      "text/html": [
       "<div id='2341'>\n",
       "\n",
       "\n",
       "\n",
       "\n",
       "\n",
       "  <div class=\"bk-root\" id=\"56806a27-eece-46e7-abaa-5a9bbc35c0f9\" data-root-id=\"2341\"></div>\n",
       "</div>\n",
       "<script type=\"application/javascript\">(function(root) {\n",
       "  function embed_document(root) {\n",
       "  var docs_json = {\"f8bc4fad-8f8a-453c-a6bd-d545b5816d87\":{\"roots\":{\"references\":[{\"attributes\":{},\"id\":\"2420\",\"type\":\"UnionRenderers\"},{\"attributes\":{},\"id\":\"2405\",\"type\":\"BasicTickFormatter\"},{\"attributes\":{\"data_source\":{\"id\":\"2397\"},\"glyph\":{\"id\":\"2399\"},\"hover_glyph\":null,\"muted_glyph\":null,\"nonselection_glyph\":{\"id\":\"2400\"},\"selection_glyph\":null,\"view\":{\"id\":\"2402\"}},\"id\":\"2401\",\"type\":\"GlyphRenderer\"},{\"attributes\":{},\"id\":\"2421\",\"type\":\"Selection\"},{\"attributes\":{\"margin\":[5,5,5,5],\"name\":\"HSpacer04312\",\"sizing_mode\":\"stretch_width\"},\"id\":\"2342\",\"type\":\"Spacer\"},{\"attributes\":{\"source\":{\"id\":\"2379\"}},\"id\":\"2384\",\"type\":\"CDSView\"},{\"attributes\":{\"data\":{\"xs\":[[[\"Geo 1\",-1.3151869363084839e-06],[\"Geo 1\",-6.7673246993281316e-06],[\"Geo 1\",-3.105148928336445e-05],[\"Geo 1\",-0.0001270580041161718],[\"Geo 1\",-0.00046365975509710886],[\"Geo 1\",-0.0015090570151346323],[\"Geo 1\",-0.00438089283251999],[\"Geo 1\",-0.01134561304876743],[\"Geo 1\",-0.026216989988049458],[\"Geo 1\",-0.05406848682019168],[\"Geo 1\",-0.09955997079645858],[\"Geo 1\",-0.1637816212654154],[\"Geo 1\",-0.24092865416864637],[\"Geo 1\",-0.317389498189226],[\"Geo 1\",-0.37532839626634473],[\"Geo 1\",-0.4],[\"Geo 1\",-0.38675920454399465],[\"Geo 1\",-0.34318368630678875],[\"Geo 1\",-0.2849641773736937],[\"Geo 1\",-0.22858748001227913],[\"Geo 1\",-0.18553577803224353],[\"Geo 1\",-0.16069848627424194],[\"Geo 1\",-0.15430366769127307],[\"Geo 1\",-0.16480190951968],[\"Geo 1\",-0.19052217313443084],[\"Geo 1\",-0.22940961915913627],[\"Geo 1\",-0.2775011553630267],[\"Geo 1\",-0.32756060109116514],[\"Geo 1\",-0.369385340383834],[\"Geo 1\",-0.39247421426650303],[\"Geo 1\",-0.3901057114176303],[\"Geo 1\",-0.362460588465105],[\"Geo 1\",-0.3166257712441344],[\"Geo 1\",-0.2633120842791551],[\"Geo 1\",-0.2123281283460258],[\"Geo 1\",-0.16942822255016846],[\"Geo 1\",-0.13582468887080693],[\"Geo 1\",-0.10978926370061817],[\"Geo 1\",-0.08881468026296428],[\"Geo 1\",-0.07108796475772905],[\"Geo 1\",-0.05589895212718337],[\"Geo 1\",-0.04331503368804732],[\"Geo 1\",-0.03366980165733304],[\"Geo 1\",-0.0272407649720032],[\"Geo 1\",-0.02420241237276266],[\"Geo 1\",-0.024739011992615426],[\"Geo 1\",-0.029128413625455554],[\"Geo 1\",-0.03762068912084056],[\"Geo 1\",-0.050032999144296264],[\"Geo 1\",-0.06520118074248982],[\"Geo 1\",-0.08068771044476769],[\"Geo 1\",-0.09318024296685479],[\"Geo 1\",-0.0996212378755903],[\"Geo 1\",-0.09849685551062975],[\"Geo 1\",-0.09044952612844258],[\"Geo 1\",-0.0778071352550938],[\"Geo 1\",-0.06340371135516536],[\"Geo 1\",-0.04949173485800498],[\"Geo 1\",-0.037295964410484383],[\"Geo 1\",-0.027185016810209496],[\"Geo 1\",-0.019083081003795983],[\"Geo 1\",-0.012787821390060742],[\"Geo 1\",-0.008093167958339509],[\"Geo 1\",-0.004786134886963525],[\"Geo 1\",-0.0026196993953384283],[\"Geo 1\",-0.0013165122782154782],[\"Geo 1\",-0.0006034958875455777],[\"Geo 1\",-0.00025105822095844655],[\"Geo 1\",-9.441487757169188e-05],[\"Geo 1\",-3.203226080310286e-05],[\"Geo 1\",-9.941097227921847e-06],[\"Geo 1\",-3.5799268931263496e-06],[\"Geo 1\",-4.587453318729528e-06],[\"Geo 1\",-1.528315473760165e-05],[\"Geo 1\",-5.1992561108442614e-05],[\"Geo 1\",-0.00015902581640676655],[\"Geo 1\",-0.0004338585005302069],[\"Geo 1\",-0.0010553196533287844],[\"Geo 1\",-0.0022885685926512024],[\"Geo 1\",-0.0044247340379262355],[\"Geo 1\",-0.007626999197040525],[\"Geo 1\",-0.01172096906293253],[\"Geo 1\",-0.01605893084981094],[\"Geo 1\",-0.01961611621481332],[\"Geo 1\",-0.021362531345964855],[\"Geo 1\",-0.020741286457241572],[\"Geo 1\",-0.017954030372679373],[\"Geo 1\",-0.013855796968252527],[\"Geo 1\",-0.009533324054126538],[\"Geo 1\",-0.0058479074376267],[\"Geo 1\",-0.0031981579842205207],[\"Geo 1\",-0.0015593464877364804],[\"Geo 1\",-0.0006778422403231761],[\"Geo 1\",-0.0002626986981380966],[\"Geo 1\",-9.076752671742748e-05],[\"Geo 1\",-2.7960592640206397e-05],[\"Geo 1\",-7.679015288527475e-06],[\"Geo 1\",-1.8802170284424224e-06],[\"Geo 1\",-4.104438194708768e-07],[\"Geo 1\",-7.988086306872388e-08],[\"Geo 1\",7.988086306872388e-08],[\"Geo 1\",4.104438194708768e-07],[\"Geo 1\",1.8802170284424224e-06],[\"Geo 1\",7.679015288527475e-06],[\"Geo 1\",2.7960592640206397e-05],[\"Geo 1\",9.076752671742748e-05],[\"Geo 1\",0.0002626986981380966],[\"Geo 1\",0.0006778422403231761],[\"Geo 1\",0.0015593464877364804],[\"Geo 1\",0.0031981579842205207],[\"Geo 1\",0.0058479074376267],[\"Geo 1\",0.009533324054126538],[\"Geo 1\",0.013855796968252527],[\"Geo 1\",0.017954030372679373],[\"Geo 1\",0.020741286457241572],[\"Geo 1\",0.021362531345964855],[\"Geo 1\",0.01961611621481332],[\"Geo 1\",0.01605893084981094],[\"Geo 1\",0.01172096906293253],[\"Geo 1\",0.007626999197040525],[\"Geo 1\",0.0044247340379262355],[\"Geo 1\",0.0022885685926512024],[\"Geo 1\",0.0010553196533287844],[\"Geo 1\",0.0004338585005302069],[\"Geo 1\",0.00015902581640676655],[\"Geo 1\",5.1992561108442614e-05],[\"Geo 1\",1.528315473760165e-05],[\"Geo 1\",4.587453318729528e-06],[\"Geo 1\",3.5799268931263496e-06],[\"Geo 1\",9.941097227921847e-06],[\"Geo 1\",3.203226080310286e-05],[\"Geo 1\",9.441487757169188e-05],[\"Geo 1\",0.00025105822095844655],[\"Geo 1\",0.0006034958875455777],[\"Geo 1\",0.0013165122782154782],[\"Geo 1\",0.0026196993953384283],[\"Geo 1\",0.004786134886963525],[\"Geo 1\",0.008093167958339509],[\"Geo 1\",0.012787821390060742],[\"Geo 1\",0.019083081003795983],[\"Geo 1\",0.027185016810209496],[\"Geo 1\",0.037295964410484383],[\"Geo 1\",0.04949173485800498],[\"Geo 1\",0.06340371135516536],[\"Geo 1\",0.0778071352550938],[\"Geo 1\",0.09044952612844258],[\"Geo 1\",0.09849685551062975],[\"Geo 1\",0.0996212378755903],[\"Geo 1\",0.09318024296685479],[\"Geo 1\",0.08068771044476769],[\"Geo 1\",0.06520118074248982],[\"Geo 1\",0.050032999144296264],[\"Geo 1\",0.03762068912084056],[\"Geo 1\",0.029128413625455554],[\"Geo 1\",0.024739011992615426],[\"Geo 1\",0.02420241237276266],[\"Geo 1\",0.0272407649720032],[\"Geo 1\",0.03366980165733304],[\"Geo 1\",0.04331503368804732],[\"Geo 1\",0.05589895212718337],[\"Geo 1\",0.07108796475772905],[\"Geo 1\",0.08881468026296428],[\"Geo 1\",0.10978926370061817],[\"Geo 1\",0.13582468887080693],[\"Geo 1\",0.16942822255016846],[\"Geo 1\",0.2123281283460258],[\"Geo 1\",0.2633120842791551],[\"Geo 1\",0.3166257712441344],[\"Geo 1\",0.362460588465105],[\"Geo 1\",0.3901057114176303],[\"Geo 1\",0.39247421426650303],[\"Geo 1\",0.369385340383834],[\"Geo 1\",0.32756060109116514],[\"Geo 1\",0.2775011553630267],[\"Geo 1\",0.22940961915913627],[\"Geo 1\",0.19052217313443084],[\"Geo 1\",0.16480190951968],[\"Geo 1\",0.15430366769127307],[\"Geo 1\",0.16069848627424194],[\"Geo 1\",0.18553577803224353],[\"Geo 1\",0.22858748001227913],[\"Geo 1\",0.2849641773736937],[\"Geo 1\",0.34318368630678875],[\"Geo 1\",0.38675920454399465],[\"Geo 1\",0.4],[\"Geo 1\",0.37532839626634473],[\"Geo 1\",0.317389498189226],[\"Geo 1\",0.24092865416864637],[\"Geo 1\",0.1637816212654154],[\"Geo 1\",0.09955997079645858],[\"Geo 1\",0.05406848682019168],[\"Geo 1\",0.026216989988049458],[\"Geo 1\",0.01134561304876743],[\"Geo 1\",0.00438089283251999],[\"Geo 1\",0.0015090570151346323],[\"Geo 1\",0.00046365975509710886],[\"Geo 1\",0.0001270580041161718],[\"Geo 1\",3.105148928336445e-05],[\"Geo 1\",6.7673246993281316e-06],[\"Geo 1\",1.3151869363084839e-06]],[[\"Geo 3\",-9.73138106872996e-08],[\"Geo 3\",-4.246811888190042e-06],[\"Geo 3\",-9.432599062028577e-05],[\"Geo 3\",-0.0010680336274609124],[\"Geo 3\",-0.006188935786486084],[\"Geo 3\",-0.01854149525361856],[\"Geo 3\",-0.029572169030353524],[\"Geo 3\",-0.027396261985096905],[\"Geo 3\",-0.01829596338981897],[\"Geo 3\",-0.011866954577843999],[\"Geo 3\",-0.008916855274803822],[\"Geo 3\",-0.007932699129418396],[\"Geo 3\",-0.00728482216388894],[\"Geo 3\",-0.007239440225837963],[\"Geo 3\",-0.008811975716189892],[\"Geo 3\",-0.01289905074727412],[\"Geo 3\",-0.023318856971763734],[\"Geo 3\",-0.041487774810944164],[\"Geo 3\",-0.06810967644863096],[\"Geo 3\",-0.10148850189644823],[\"Geo 3\",-0.12507173115495474],[\"Geo 3\",-0.18309960368237124],[\"Geo 3\",-0.32849355841036987],[\"Geo 3\",-0.4],[\"Geo 3\",-0.2690461017925677],[\"Geo 3\",-0.11899185039764933],[\"Geo 3\",-0.06873723796128035],[\"Geo 3\",-0.05064088806621693],[\"Geo 3\",-0.0349402871273129],[\"Geo 3\",-0.035975226821687155],[\"Geo 3\",-0.03983878724768783],[\"Geo 3\",-0.03643473887815701],[\"Geo 3\",-0.029185488676903338],[\"Geo 3\",-0.016644237553158078],[\"Geo 3\",-0.0056669942096757246],[\"Geo 3\",-0.001416955237532085],[\"Geo 3\",-0.0006260432135022151],[\"Geo 3\",-0.0005302508556866908],[\"Geo 3\",-0.0005542482443243561],[\"Geo 3\",-0.0005667236516563868],[\"Geo 3\",-0.00048454179161336097],[\"Geo 3\",-0.000412627123880677],[\"Geo 3\",-0.0005247137620121421],[\"Geo 3\",-0.0007492136289793203],[\"Geo 3\",-0.0008632431372407389],[\"Geo 3\",-0.0009008738880253195],[\"Geo 3\",-0.0010091715709550483],[\"Geo 3\",-0.0010583889735121944],[\"Geo 3\",-0.0010157490084295095],[\"Geo 3\",-0.0009766047649736058],[\"Geo 3\",-0.0008671695484028411],[\"Geo 3\",-0.0007606124560335069],[\"Geo 3\",-0.0008535376974452745],[\"Geo 3\",-0.000993363465482454],[\"Geo 3\",-0.0008660295931385582],[\"Geo 3\",-0.0005987176572799921],[\"Geo 3\",-0.0005006473770399678],[\"Geo 3\",-0.0005112606386397455],[\"Geo 3\",-0.00043950870481083005],[\"Geo 3\",-0.00046134294606813383],[\"Geo 3\",-0.0007469737701481691],[\"Geo 3\",-0.000922465630109586],[\"Geo 3\",-0.0006834430707397178],[\"Geo 3\",-0.00036510562490336984],[\"Geo 3\",-0.00025741455692574605],[\"Geo 3\",-0.000316349601815387],[\"Geo 3\",-0.0004216089455764955],[\"Geo 3\",-0.00043157683031914447],[\"Geo 3\",-0.0003137732315884647],[\"Geo 3\",-0.00018431915607462266],[\"Geo 3\",-0.00011808886621570902],[\"Geo 3\",-0.00011365293269524377],[\"Geo 3\",-0.00015608534652143788],[\"Geo 3\",-0.0001927873953587699],[\"Geo 3\",-0.00016727089496516832],[\"Geo 3\",-0.00012221854868063302],[\"Geo 3\",-0.00015864599581714585],[\"Geo 3\",-0.0002713651602080603],[\"Geo 3\",-0.0003625038143602835],[\"Geo 3\",-0.0003745590707369083],[\"Geo 3\",-0.0002926039554400277],[\"Geo 3\",-0.0001885137530721602],[\"Geo 3\",-0.00037237830298333805],[\"Geo 3\",-0.0020069949213732626],[\"Geo 3\",-0.0065614434862146034],[\"Geo 3\",-0.010986578827866723],[\"Geo 3\",-0.00935352082518087],[\"Geo 3\",-0.0040481932065139364],[\"Geo 3\",-0.0008957186344558159],[\"Geo 3\",-0.0001235317815404873],[\"Geo 3\",-6.133046937703557e-05],[\"Geo 3\",-7.631617025084296e-05],[\"Geo 3\",-7.917627516910432e-05],[\"Geo 3\",-7.048515442118503e-05],[\"Geo 3\",-4.252770219074454e-05],[\"Geo 3\",-1.4232942914201334e-05],[\"Geo 3\",-2.4719730355938035e-06],[\"Geo 3\",-2.1923077895356555e-07],[\"Geo 3\",-9.89237526146134e-09],[\"Geo 3\",-2.2693283218559544e-10],[\"Geo 3\",2.2693283218559544e-10],[\"Geo 3\",9.89237526146134e-09],[\"Geo 3\",2.1923077895356555e-07],[\"Geo 3\",2.4719730355938035e-06],[\"Geo 3\",1.4232942914201334e-05],[\"Geo 3\",4.252770219074454e-05],[\"Geo 3\",7.048515442118503e-05],[\"Geo 3\",7.917627516910432e-05],[\"Geo 3\",7.631617025084296e-05],[\"Geo 3\",6.133046937703557e-05],[\"Geo 3\",0.0001235317815404873],[\"Geo 3\",0.0008957186344558159],[\"Geo 3\",0.0040481932065139364],[\"Geo 3\",0.00935352082518087],[\"Geo 3\",0.010986578827866723],[\"Geo 3\",0.0065614434862146034],[\"Geo 3\",0.0020069949213732626],[\"Geo 3\",0.00037237830298333805],[\"Geo 3\",0.0001885137530721602],[\"Geo 3\",0.0002926039554400277],[\"Geo 3\",0.0003745590707369083],[\"Geo 3\",0.0003625038143602835],[\"Geo 3\",0.0002713651602080603],[\"Geo 3\",0.00015864599581714585],[\"Geo 3\",0.00012221854868063302],[\"Geo 3\",0.00016727089496516832],[\"Geo 3\",0.0001927873953587699],[\"Geo 3\",0.00015608534652143788],[\"Geo 3\",0.00011365293269524377],[\"Geo 3\",0.00011808886621570902],[\"Geo 3\",0.00018431915607462266],[\"Geo 3\",0.0003137732315884647],[\"Geo 3\",0.00043157683031914447],[\"Geo 3\",0.0004216089455764955],[\"Geo 3\",0.000316349601815387],[\"Geo 3\",0.00025741455692574605],[\"Geo 3\",0.00036510562490336984],[\"Geo 3\",0.0006834430707397178],[\"Geo 3\",0.000922465630109586],[\"Geo 3\",0.0007469737701481691],[\"Geo 3\",0.00046134294606813383],[\"Geo 3\",0.00043950870481083005],[\"Geo 3\",0.0005112606386397455],[\"Geo 3\",0.0005006473770399678],[\"Geo 3\",0.0005987176572799921],[\"Geo 3\",0.0008660295931385582],[\"Geo 3\",0.000993363465482454],[\"Geo 3\",0.0008535376974452745],[\"Geo 3\",0.0007606124560335069],[\"Geo 3\",0.0008671695484028411],[\"Geo 3\",0.0009766047649736058],[\"Geo 3\",0.0010157490084295095],[\"Geo 3\",0.0010583889735121944],[\"Geo 3\",0.0010091715709550483],[\"Geo 3\",0.0009008738880253195],[\"Geo 3\",0.0008632431372407389],[\"Geo 3\",0.0007492136289793203],[\"Geo 3\",0.0005247137620121421],[\"Geo 3\",0.000412627123880677],[\"Geo 3\",0.00048454179161336097],[\"Geo 3\",0.0005667236516563868],[\"Geo 3\",0.0005542482443243561],[\"Geo 3\",0.0005302508556866908],[\"Geo 3\",0.0006260432135022151],[\"Geo 3\",0.001416955237532085],[\"Geo 3\",0.0056669942096757246],[\"Geo 3\",0.016644237553158078],[\"Geo 3\",0.029185488676903338],[\"Geo 3\",0.03643473887815701],[\"Geo 3\",0.03983878724768783],[\"Geo 3\",0.035975226821687155],[\"Geo 3\",0.0349402871273129],[\"Geo 3\",0.05064088806621693],[\"Geo 3\",0.06873723796128035],[\"Geo 3\",0.11899185039764933],[\"Geo 3\",0.2690461017925677],[\"Geo 3\",0.4],[\"Geo 3\",0.32849355841036987],[\"Geo 3\",0.18309960368237124],[\"Geo 3\",0.12507173115495474],[\"Geo 3\",0.10148850189644823],[\"Geo 3\",0.06810967644863096],[\"Geo 3\",0.041487774810944164],[\"Geo 3\",0.023318856971763734],[\"Geo 3\",0.01289905074727412],[\"Geo 3\",0.008811975716189892],[\"Geo 3\",0.007239440225837963],[\"Geo 3\",0.00728482216388894],[\"Geo 3\",0.007932699129418396],[\"Geo 3\",0.008916855274803822],[\"Geo 3\",0.011866954577843999],[\"Geo 3\",0.01829596338981897],[\"Geo 3\",0.027396261985096905],[\"Geo 3\",0.029572169030353524],[\"Geo 3\",0.01854149525361856],[\"Geo 3\",0.006188935786486084],[\"Geo 3\",0.0010680336274609124],[\"Geo 3\",9.432599062028577e-05],[\"Geo 3\",4.246811888190042e-06],[\"Geo 3\",9.73138106872996e-08]],[[\"Geo 5\",-8.674237807195302e-08],[\"Geo 5\",-1.453702712423972e-06],[\"Geo 5\",-1.7022788902849193e-05],[\"Geo 5\",-0.00013934937335174363],[\"Geo 5\",-0.0007980899925045682],[\"Geo 5\",-0.003202579502595566],[\"Geo 5\",-0.009028980003399223],[\"Geo 5\",-0.017984174065550678],[\"Geo 5\",-0.025620870861779017],[\"Geo 5\",-0.026874750319415188],[\"Geo 5\",-0.022250090469556637],[\"Geo 5\",-0.01681452526242684],[\"Geo 5\",-0.014008963070497702],[\"Geo 5\",-0.013683768727137266],[\"Geo 5\",-0.014334719495833224],[\"Geo 5\",-0.015052161156161169],[\"Geo 5\",-0.016470944869965264],[\"Geo 5\",-0.02081305774965375],[\"Geo 5\",-0.030605785725733928],[\"Geo 5\",-0.047369251525449727],[\"Geo 5\",-0.07179542567086064],[\"Geo 5\",-0.1034225177577483],[\"Geo 5\",-0.14190970986292356],[\"Geo 5\",-0.19749724453846731],[\"Geo 5\",-0.28546711636496636],[\"Geo 5\",-0.37850455785451564],[\"Geo 5\",-0.4],[\"Geo 5\",-0.3195327749135457],[\"Geo 5\",-0.20159391225006684],[\"Geo 5\",-0.11693504089947754],[\"Geo 5\",-0.07431473687787517],[\"Geo 5\",-0.05468609477931449],[\"Geo 5\",-0.04753398733001732],[\"Geo 5\",-0.04639418228861284],[\"Geo 5\",-0.04425008899583189],[\"Geo 5\",-0.037533876264791634],[\"Geo 5\",-0.026692373735956773],[\"Geo 5\",-0.015173699162717678],[\"Geo 5\",-0.006910981124793736],[\"Geo 5\",-0.0028772576538503335],[\"Geo 5\",-0.001429797182750478],[\"Geo 5\",-0.0009039410324344606],[\"Geo 5\",-0.000617777039828321],[\"Geo 5\",-0.0004576994180501939],[\"Geo 5\",-0.00041039815239731154],[\"Geo 5\",-0.0004250545176652549],[\"Geo 5\",-0.0004886225453322479],[\"Geo 5\",-0.000657046331043816],[\"Geo 5\",-0.0009339788903407469],[\"Geo 5\",-0.001190360913478205],[\"Geo 5\",-0.0012902571390560403],[\"Geo 5\",-0.0012901776020594127],[\"Geo 5\",-0.0014272637904666487],[\"Geo 5\",-0.0018227161851071252],[\"Geo 5\",-0.0022496486492646624],[\"Geo 5\",-0.0023772627814753517],[\"Geo 5\",-0.0022233176420007952],[\"Geo 5\",-0.0020595273339538015],[\"Geo 5\",-0.0019190040578052374],[\"Geo 5\",-0.0016124871564129708],[\"Geo 5\",-0.0011389449164362422],[\"Geo 5\",-0.0007041519524769196],[\"Geo 5\",-0.00043779287756571194],[\"Geo 5\",-0.0003117996095027767],[\"Geo 5\",-0.00025173564154889496],[\"Geo 5\",-0.00021859468948849873],[\"Geo 5\",-0.0002015046516628717],[\"Geo 5\",-0.00018967806835911317],[\"Geo 5\",-0.00017911836979422131],[\"Geo 5\",-0.0001768098797329437],[\"Geo 5\",-0.0001773339993035405],[\"Geo 5\",-0.00015865607251861058],[\"Geo 5\",-0.00011328494310242716],[\"Geo 5\",-6.42459566874797e-05],[\"Geo 5\",-3.946195081328724e-05],[\"Geo 5\",-4.3988756809884394e-05],[\"Geo 5\",-5.9503581433616344e-05],[\"Geo 5\",-6.270417975960663e-05],[\"Geo 5\",-4.7336242169273033e-05],[\"Geo 5\",-2.8555008486120173e-05],[\"Geo 5\",-2.866305364945811e-05],[\"Geo 5\",-6.882421166735745e-05],[\"Geo 5\",-0.00016118371429790285],[\"Geo 5\",-0.0002810275836665812],[\"Geo 5\",-0.000360572152154969],[\"Geo 5\",-0.00037141923442283553],[\"Geo 5\",-0.0004930118640769095],[\"Geo 5\",-0.0013193398362953807],[\"Geo 5\",-0.0038067907027512825],[\"Geo 5\",-0.008195028329023236],[\"Geo 5\",-0.012413358177163039],[\"Geo 5\",-0.01313948655162951],[\"Geo 5\",-0.009711168432100896],[\"Geo 5\",-0.005011040814558991],[\"Geo 5\",-0.0018052731410363493],[\"Geo 5\",-0.000454062720995479],[\"Geo 5\",-7.973456871301374e-05],[\"Geo 5\",-9.775417582275115e-06],[\"Geo 5\",-8.36723281767305e-07],[\"Geo 5\",-5.000187084654673e-08],[\"Geo 5\",5.000187084654673e-08],[\"Geo 5\",8.36723281767305e-07],[\"Geo 5\",9.775417582275115e-06],[\"Geo 5\",7.973456871301374e-05],[\"Geo 5\",0.000454062720995479],[\"Geo 5\",0.0018052731410363493],[\"Geo 5\",0.005011040814558991],[\"Geo 5\",0.009711168432100896],[\"Geo 5\",0.01313948655162951],[\"Geo 5\",0.012413358177163039],[\"Geo 5\",0.008195028329023236],[\"Geo 5\",0.0038067907027512825],[\"Geo 5\",0.0013193398362953807],[\"Geo 5\",0.0004930118640769095],[\"Geo 5\",0.00037141923442283553],[\"Geo 5\",0.000360572152154969],[\"Geo 5\",0.0002810275836665812],[\"Geo 5\",0.00016118371429790285],[\"Geo 5\",6.882421166735745e-05],[\"Geo 5\",2.866305364945811e-05],[\"Geo 5\",2.8555008486120173e-05],[\"Geo 5\",4.7336242169273033e-05],[\"Geo 5\",6.270417975960663e-05],[\"Geo 5\",5.9503581433616344e-05],[\"Geo 5\",4.3988756809884394e-05],[\"Geo 5\",3.946195081328724e-05],[\"Geo 5\",6.42459566874797e-05],[\"Geo 5\",0.00011328494310242716],[\"Geo 5\",0.00015865607251861058],[\"Geo 5\",0.0001773339993035405],[\"Geo 5\",0.0001768098797329437],[\"Geo 5\",0.00017911836979422131],[\"Geo 5\",0.00018967806835911317],[\"Geo 5\",0.0002015046516628717],[\"Geo 5\",0.00021859468948849873],[\"Geo 5\",0.00025173564154889496],[\"Geo 5\",0.0003117996095027767],[\"Geo 5\",0.00043779287756571194],[\"Geo 5\",0.0007041519524769196],[\"Geo 5\",0.0011389449164362422],[\"Geo 5\",0.0016124871564129708],[\"Geo 5\",0.0019190040578052374],[\"Geo 5\",0.0020595273339538015],[\"Geo 5\",0.0022233176420007952],[\"Geo 5\",0.0023772627814753517],[\"Geo 5\",0.0022496486492646624],[\"Geo 5\",0.0018227161851071252],[\"Geo 5\",0.0014272637904666487],[\"Geo 5\",0.0012901776020594127],[\"Geo 5\",0.0012902571390560403],[\"Geo 5\",0.001190360913478205],[\"Geo 5\",0.0009339788903407469],[\"Geo 5\",0.000657046331043816],[\"Geo 5\",0.0004886225453322479],[\"Geo 5\",0.0004250545176652549],[\"Geo 5\",0.00041039815239731154],[\"Geo 5\",0.0004576994180501939],[\"Geo 5\",0.000617777039828321],[\"Geo 5\",0.0009039410324344606],[\"Geo 5\",0.001429797182750478],[\"Geo 5\",0.0028772576538503335],[\"Geo 5\",0.006910981124793736],[\"Geo 5\",0.015173699162717678],[\"Geo 5\",0.026692373735956773],[\"Geo 5\",0.037533876264791634],[\"Geo 5\",0.04425008899583189],[\"Geo 5\",0.04639418228861284],[\"Geo 5\",0.04753398733001732],[\"Geo 5\",0.05468609477931449],[\"Geo 5\",0.07431473687787517],[\"Geo 5\",0.11693504089947754],[\"Geo 5\",0.20159391225006684],[\"Geo 5\",0.3195327749135457],[\"Geo 5\",0.4],[\"Geo 5\",0.37850455785451564],[\"Geo 5\",0.28546711636496636],[\"Geo 5\",0.19749724453846731],[\"Geo 5\",0.14190970986292356],[\"Geo 5\",0.1034225177577483],[\"Geo 5\",0.07179542567086064],[\"Geo 5\",0.047369251525449727],[\"Geo 5\",0.030605785725733928],[\"Geo 5\",0.02081305774965375],[\"Geo 5\",0.016470944869965264],[\"Geo 5\",0.015052161156161169],[\"Geo 5\",0.014334719495833224],[\"Geo 5\",0.013683768727137266],[\"Geo 5\",0.014008963070497702],[\"Geo 5\",0.01681452526242684],[\"Geo 5\",0.022250090469556637],[\"Geo 5\",0.026874750319415188],[\"Geo 5\",0.025620870861779017],[\"Geo 5\",0.017984174065550678],[\"Geo 5\",0.009028980003399223],[\"Geo 5\",0.003202579502595566],[\"Geo 5\",0.0007980899925045682],[\"Geo 5\",0.00013934937335174363],[\"Geo 5\",1.7022788902849193e-05],[\"Geo 5\",1.453702712423972e-06],[\"Geo 5\",8.674237807195302e-08]],[[\"Geo 2\",-8.963693452128313e-08],[\"Geo 2\",-1.4282315167645039e-05],[\"Geo 2\",-0.0006153643188943174],[\"Geo 2\",-0.007211002563169193],[\"Geo 2\",-0.023525145765525383],[\"Geo 2\",-0.024393642800037807],[\"Geo 2\",-0.015339809915346104],[\"Geo 2\",-0.011748784539458103],[\"Geo 2\",-0.009741854219236365],[\"Geo 2\",-0.01004928392855534],[\"Geo 2\",-0.018891559758493298],[\"Geo 2\",-0.04768513799530062],[\"Geo 2\",-0.09520772772037467],[\"Geo 2\",-0.1540740524646252],[\"Geo 2\",-0.3146391579987562],[\"Geo 2\",-0.4],[\"Geo 2\",-0.1844033791255728],[\"Geo 2\",-0.07237082072054932],[\"Geo 2\",-0.042837118125521045],[\"Geo 2\",-0.04212170307058183],[\"Geo 2\",-0.038839641235979216],[\"Geo 2\",-0.021349347356015166],[\"Geo 2\",-0.004728257965356495],[\"Geo 2\",-0.0008672400090622883],[\"Geo 2\",-0.0007548787464843269],[\"Geo 2\",-0.0005453896627923306],[\"Geo 2\",-0.0004258856776721135],[\"Geo 2\",-0.00048563010125293824],[\"Geo 2\",-0.0005620588200536479],[\"Geo 2\",-0.0006023408572839463],[\"Geo 2\",-0.0010435938643369271],[\"Geo 2\",-0.0013544641731767185],[\"Geo 2\",-0.0010423544656086956],[\"Geo 2\",-0.0010660500369581185],[\"Geo 2\",-0.001310932266143725],[\"Geo 2\",-0.0009184226093676608],[\"Geo 2\",-0.00042586352851648824],[\"Geo 2\",-0.0001397762042795369],[\"Geo 2\",-4.727524571377994e-05],[\"Geo 2\",-9.179001774192903e-05],[\"Geo 2\",-0.00017650961332548893],[\"Geo 2\",-0.00032049631943633055],[\"Geo 2\",-0.0003863242201992131],[\"Geo 2\",-0.00035337726612459126],[\"Geo 2\",-0.00023676003989379945],[\"Geo 2\",-0.00024351709143153206],[\"Geo 2\",-0.0004299139626721122],[\"Geo 2\",-0.0004355848919837248],[\"Geo 2\",-0.00029714131995179965],[\"Geo 2\",-0.000337627479316224],[\"Geo 2\",-0.0003745137397979181],[\"Geo 2\",-0.00039369375088010324],[\"Geo 2\",-0.002865907091522339],[\"Geo 2\",-0.009394833348311706],[\"Geo 2\",-0.00837911663859516],[\"Geo 2\",-0.0020167306051159218],[\"Geo 2\",-0.00014235239078477734],[\"Geo 2\",-4.231480188148685e-05],[\"Geo 2\",-3.743303109444063e-05],[\"Geo 2\",-9.449224461562805e-06],[\"Geo 2\",-1.6226862199143566e-06],[\"Geo 2\",-1.6024814777359586e-05],[\"Geo 2\",-7.042387440718747e-05],[\"Geo 2\",-8.349989052049253e-05],[\"Geo 2\",-2.669154065190631e-05],[\"Geo 2\",-2.3002909263333457e-06],[\"Geo 2\",-5.344576255500924e-08],[\"Geo 2\",-3.3478437227653167e-10],[\"Geo 2\",-5.653774249498005e-13],[\"Geo 2\",-2.574145774760542e-16],[\"Geo 2\",-3.1597243646136224e-20],[\"Geo 2\",-1.0456507373329313e-24],[\"Geo 2\",-9.329223219479473e-30],[\"Geo 2\",-2.2440147565997807e-35],[\"Geo 2\",-1.4552155270597166e-41],[\"Geo 2\",-2.5441945556569658e-48],[\"Geo 2\",-1.1992085200047671e-55],[\"Geo 2\",-1.5239140716953935e-63],[\"Geo 2\",-5.220927238898874e-72],[\"Geo 2\",-3.758742301922752e-74],[\"Geo 2\",-1.5482500074577493e-65],[\"Geo 2\",-1.7193372527269447e-57],[\"Geo 2\",-5.147572154403226e-50],[\"Geo 2\",-4.154944243403985e-43],[\"Geo 2\",-9.041684422735171e-37],[\"Geo 2\",-5.304627315271517e-31],[\"Geo 2\",-8.390383218560453e-26],[\"Geo 2\",-3.577915703746995e-21],[\"Geo 2\",-4.1133891582334956e-17],[\"Geo 2\",-1.2749433301529382e-13],[\"Geo 2\",-1.0653770840463932e-10],[\"Geo 2\",-2.4001435004530975e-08],[\"Geo 2\",-1.4577815617559009e-06],[\"Geo 2\",-2.387091603053534e-05],[\"Geo 2\",-0.00010538216212898698],[\"Geo 2\",-0.00012542569376781604],[\"Geo 2\",-4.0246424774069076e-05],[\"Geo 2\",-3.481685098308479e-06],[\"Geo 2\",-8.120318399024437e-08],[\"Geo 2\",-5.10596713904143e-10],[\"Geo 2\",5.10596713904143e-10],[\"Geo 2\",8.120318399024437e-08],[\"Geo 2\",3.481685098308479e-06],[\"Geo 2\",4.0246424774069076e-05],[\"Geo 2\",0.00012542569376781604],[\"Geo 2\",0.00010538216212898698],[\"Geo 2\",2.387091603053534e-05],[\"Geo 2\",1.4577815617559009e-06],[\"Geo 2\",2.4001435004530975e-08],[\"Geo 2\",1.0653770840463932e-10],[\"Geo 2\",1.2749433301529382e-13],[\"Geo 2\",4.1133891582334956e-17],[\"Geo 2\",3.577915703746995e-21],[\"Geo 2\",8.390383218560453e-26],[\"Geo 2\",5.304627315271517e-31],[\"Geo 2\",9.041684422735171e-37],[\"Geo 2\",4.154944243403985e-43],[\"Geo 2\",5.147572154403226e-50],[\"Geo 2\",1.7193372527269447e-57],[\"Geo 2\",1.5482500074577493e-65],[\"Geo 2\",3.758742301922752e-74],[\"Geo 2\",5.220927238898874e-72],[\"Geo 2\",1.5239140716953935e-63],[\"Geo 2\",1.1992085200047671e-55],[\"Geo 2\",2.5441945556569658e-48],[\"Geo 2\",1.4552155270597166e-41],[\"Geo 2\",2.2440147565997807e-35],[\"Geo 2\",9.329223219479473e-30],[\"Geo 2\",1.0456507373329313e-24],[\"Geo 2\",3.1597243646136224e-20],[\"Geo 2\",2.574145774760542e-16],[\"Geo 2\",5.653774249498005e-13],[\"Geo 2\",3.3478437227653167e-10],[\"Geo 2\",5.344576255500924e-08],[\"Geo 2\",2.3002909263333457e-06],[\"Geo 2\",2.669154065190631e-05],[\"Geo 2\",8.349989052049253e-05],[\"Geo 2\",7.042387440718747e-05],[\"Geo 2\",1.6024814777359586e-05],[\"Geo 2\",1.6226862199143566e-06],[\"Geo 2\",9.449224461562805e-06],[\"Geo 2\",3.743303109444063e-05],[\"Geo 2\",4.231480188148685e-05],[\"Geo 2\",0.00014235239078477734],[\"Geo 2\",0.0020167306051159218],[\"Geo 2\",0.00837911663859516],[\"Geo 2\",0.009394833348311706],[\"Geo 2\",0.002865907091522339],[\"Geo 2\",0.00039369375088010324],[\"Geo 2\",0.0003745137397979181],[\"Geo 2\",0.000337627479316224],[\"Geo 2\",0.00029714131995179965],[\"Geo 2\",0.0004355848919837248],[\"Geo 2\",0.0004299139626721122],[\"Geo 2\",0.00024351709143153206],[\"Geo 2\",0.00023676003989379945],[\"Geo 2\",0.00035337726612459126],[\"Geo 2\",0.0003863242201992131],[\"Geo 2\",0.00032049631943633055],[\"Geo 2\",0.00017650961332548893],[\"Geo 2\",9.179001774192903e-05],[\"Geo 2\",4.727524571377994e-05],[\"Geo 2\",0.0001397762042795369],[\"Geo 2\",0.00042586352851648824],[\"Geo 2\",0.0009184226093676608],[\"Geo 2\",0.001310932266143725],[\"Geo 2\",0.0010660500369581185],[\"Geo 2\",0.0010423544656086956],[\"Geo 2\",0.0013544641731767185],[\"Geo 2\",0.0010435938643369271],[\"Geo 2\",0.0006023408572839463],[\"Geo 2\",0.0005620588200536479],[\"Geo 2\",0.00048563010125293824],[\"Geo 2\",0.0004258856776721135],[\"Geo 2\",0.0005453896627923306],[\"Geo 2\",0.0007548787464843269],[\"Geo 2\",0.0008672400090622883],[\"Geo 2\",0.004728257965356495],[\"Geo 2\",0.021349347356015166],[\"Geo 2\",0.038839641235979216],[\"Geo 2\",0.04212170307058183],[\"Geo 2\",0.042837118125521045],[\"Geo 2\",0.07237082072054932],[\"Geo 2\",0.1844033791255728],[\"Geo 2\",0.4],[\"Geo 2\",0.3146391579987562],[\"Geo 2\",0.1540740524646252],[\"Geo 2\",0.09520772772037467],[\"Geo 2\",0.04768513799530062],[\"Geo 2\",0.018891559758493298],[\"Geo 2\",0.01004928392855534],[\"Geo 2\",0.009741854219236365],[\"Geo 2\",0.011748784539458103],[\"Geo 2\",0.015339809915346104],[\"Geo 2\",0.024393642800037807],[\"Geo 2\",0.023525145765525383],[\"Geo 2\",0.007211002563169193],[\"Geo 2\",0.0006153643188943174],[\"Geo 2\",1.4282315167645039e-05],[\"Geo 2\",8.963693452128313e-08]],[[\"Geo 4\",-9.709072528064778e-08],[\"Geo 4\",-4.884507037726068e-06],[\"Geo 4\",-0.00011806273469560124],[\"Geo 4\",-0.0013728502499422703],[\"Geo 4\",-0.007704261721538035],[\"Geo 4\",-0.021050812234046857],[\"Geo 4\",-0.028856953859761128],[\"Geo 4\",-0.022363796581757144],[\"Geo 4\",-0.014343229914732422],[\"Geo 4\",-0.011244943304630649],[\"Geo 4\",-0.009821585770321002],[\"Geo 4\",-0.009560935360733974],[\"Geo 4\",-0.009318715464598561],[\"Geo 4\",-0.008842231272632114],[\"Geo 4\",-0.012559526304089392],[\"Geo 4\",-0.025814609137082518],[\"Geo 4\",-0.0481317917230662],[\"Geo 4\",-0.08042714932671408],[\"Geo 4\",-0.1147059264455722],[\"Geo 4\",-0.15045371404911242],[\"Geo 4\",-0.2655017952689343],[\"Geo 4\",-0.4],[\"Geo 4\",-0.3321566797108244],[\"Geo 4\",-0.1585496067592709],[\"Geo 4\",-0.07977935293101919],[\"Geo 4\",-0.056036502356990536],[\"Geo 4\",-0.039393937517148196],[\"Geo 4\",-0.03976950242352692],[\"Geo 4\",-0.04150921293172599],[\"Geo 4\",-0.036015116508017815],[\"Geo 4\",-0.02518045351164107],[\"Geo 4\",-0.011255146890355632],[\"Geo 4\",-0.0033463374338996415],[\"Geo 4\",-0.0012874726209045407],[\"Geo 4\",-0.0006966941999411538],[\"Geo 4\",-0.0005348278984551458],[\"Geo 4\",-0.0007797618090375528],[\"Geo 4\",-0.0009488648074229135],[\"Geo 4\",-0.0009306862890207301],[\"Geo 4\",-0.0011704095250477317],[\"Geo 4\",-0.0015832366376783307],[\"Geo 4\",-0.0017141811860369857],[\"Geo 4\",-0.0013981717824777945],[\"Geo 4\",-0.0009590448030716908],[\"Geo 4\",-0.0008186849346202539],[\"Geo 4\",-0.0008034096517935429],[\"Geo 4\",-0.000668827626069035],[\"Geo 4\",-0.0005875682058302704],[\"Geo 4\",-0.0006889512275696916],[\"Geo 4\",-0.0009635729037570592],[\"Geo 4\",-0.001127595312571383],[\"Geo 4\",-0.0009158131911049385],[\"Geo 4\",-0.0006138092717792332],[\"Geo 4\",-0.0004334901911548413],[\"Geo 4\",-0.000300369591136446],[\"Geo 4\",-0.00021565484481719905],[\"Geo 4\",-0.0002375330980056566],[\"Geo 4\",-0.00031994352504231697],[\"Geo 4\",-0.0003952387505520249],[\"Geo 4\",-0.00041036933839206],[\"Geo 4\",-0.00031920821926096406],[\"Geo 4\",-0.00025474482996270864],[\"Geo 4\",-0.0003131749250776092],[\"Geo 4\",-0.00037715230704878994],[\"Geo 4\",-0.0003609929163153572],[\"Geo 4\",-0.0003034649614411461],[\"Geo 4\",-0.00021632730895256838],[\"Geo 4\",-0.0001962324822242544],[\"Geo 4\",-0.0002725133277757965],[\"Geo 4\",-0.0002876886929338976],[\"Geo 4\",-0.00022867048183277444],[\"Geo 4\",-0.00025175010140845186],[\"Geo 4\",-0.00036425422717261877],[\"Geo 4\",-0.00035809683718184384],[\"Geo 4\",-0.0002026666803001113],[\"Geo 4\",-0.00020069826600680818],[\"Geo 4\",-0.0012931314540482722],[\"Geo 4\",-0.00553991991214532],[\"Geo 4\",-0.011470161019556252],[\"Geo 4\",-0.011398827597945166],[\"Geo 4\",-0.005436470493995562],[\"Geo 4\",-0.0012448475385578271],[\"Geo 4\",-0.00014136056093370114],[\"Geo 4\",-2.711022375937668e-05],[\"Geo 4\",-4.099603278601422e-05],[\"Geo 4\",-4.177578974594356e-05],[\"Geo 4\",-2.7766439225069765e-05],[\"Geo 4\",-2.389509775372854e-05],[\"Geo 4\",-2.0940797785252952e-05],[\"Geo 4\",-1.044001128017899e-05],[\"Geo 4\",-5.241073718659154e-06],[\"Geo 4\",-2.0008277282539525e-05],[\"Geo 4\",-6.69660529066551e-05],[\"Geo 4\",-0.00010904991507030744],[\"Geo 4\",-8.524250522808687e-05],[\"Geo 4\",-3.19779945642193e-05],[\"Geo 4\",-5.757166994299166e-06],[\"Geo 4\",-4.974265789628878e-07],[\"Geo 4\",-2.0625842859942813e-08],[\"Geo 4\",-4.104468996233203e-10],[\"Geo 4\",4.104468996233203e-10],[\"Geo 4\",2.0625842859942813e-08],[\"Geo 4\",4.974265789628878e-07],[\"Geo 4\",5.757166994299166e-06],[\"Geo 4\",3.19779945642193e-05],[\"Geo 4\",8.524250522808687e-05],[\"Geo 4\",0.00010904991507030744],[\"Geo 4\",6.69660529066551e-05],[\"Geo 4\",2.0008277282539525e-05],[\"Geo 4\",5.241073718659154e-06],[\"Geo 4\",1.044001128017899e-05],[\"Geo 4\",2.0940797785252952e-05],[\"Geo 4\",2.389509775372854e-05],[\"Geo 4\",2.7766439225069765e-05],[\"Geo 4\",4.177578974594356e-05],[\"Geo 4\",4.099603278601422e-05],[\"Geo 4\",2.711022375937668e-05],[\"Geo 4\",0.00014136056093370114],[\"Geo 4\",0.0012448475385578271],[\"Geo 4\",0.005436470493995562],[\"Geo 4\",0.011398827597945166],[\"Geo 4\",0.011470161019556252],[\"Geo 4\",0.00553991991214532],[\"Geo 4\",0.0012931314540482722],[\"Geo 4\",0.00020069826600680818],[\"Geo 4\",0.0002026666803001113],[\"Geo 4\",0.00035809683718184384],[\"Geo 4\",0.00036425422717261877],[\"Geo 4\",0.00025175010140845186],[\"Geo 4\",0.00022867048183277444],[\"Geo 4\",0.0002876886929338976],[\"Geo 4\",0.0002725133277757965],[\"Geo 4\",0.0001962324822242544],[\"Geo 4\",0.00021632730895256838],[\"Geo 4\",0.0003034649614411461],[\"Geo 4\",0.0003609929163153572],[\"Geo 4\",0.00037715230704878994],[\"Geo 4\",0.0003131749250776092],[\"Geo 4\",0.00025474482996270864],[\"Geo 4\",0.00031920821926096406],[\"Geo 4\",0.00041036933839206],[\"Geo 4\",0.0003952387505520249],[\"Geo 4\",0.00031994352504231697],[\"Geo 4\",0.0002375330980056566],[\"Geo 4\",0.00021565484481719905],[\"Geo 4\",0.000300369591136446],[\"Geo 4\",0.0004334901911548413],[\"Geo 4\",0.0006138092717792332],[\"Geo 4\",0.0009158131911049385],[\"Geo 4\",0.001127595312571383],[\"Geo 4\",0.0009635729037570592],[\"Geo 4\",0.0006889512275696916],[\"Geo 4\",0.0005875682058302704],[\"Geo 4\",0.000668827626069035],[\"Geo 4\",0.0008034096517935429],[\"Geo 4\",0.0008186849346202539],[\"Geo 4\",0.0009590448030716908],[\"Geo 4\",0.0013981717824777945],[\"Geo 4\",0.0017141811860369857],[\"Geo 4\",0.0015832366376783307],[\"Geo 4\",0.0011704095250477317],[\"Geo 4\",0.0009306862890207301],[\"Geo 4\",0.0009488648074229135],[\"Geo 4\",0.0007797618090375528],[\"Geo 4\",0.0005348278984551458],[\"Geo 4\",0.0006966941999411538],[\"Geo 4\",0.0012874726209045407],[\"Geo 4\",0.0033463374338996415],[\"Geo 4\",0.011255146890355632],[\"Geo 4\",0.02518045351164107],[\"Geo 4\",0.036015116508017815],[\"Geo 4\",0.04150921293172599],[\"Geo 4\",0.03976950242352692],[\"Geo 4\",0.039393937517148196],[\"Geo 4\",0.056036502356990536],[\"Geo 4\",0.07977935293101919],[\"Geo 4\",0.1585496067592709],[\"Geo 4\",0.3321566797108244],[\"Geo 4\",0.4],[\"Geo 4\",0.2655017952689343],[\"Geo 4\",0.15045371404911242],[\"Geo 4\",0.1147059264455722],[\"Geo 4\",0.08042714932671408],[\"Geo 4\",0.0481317917230662],[\"Geo 4\",0.025814609137082518],[\"Geo 4\",0.012559526304089392],[\"Geo 4\",0.008842231272632114],[\"Geo 4\",0.009318715464598561],[\"Geo 4\",0.009560935360733974],[\"Geo 4\",0.009821585770321002],[\"Geo 4\",0.011244943304630649],[\"Geo 4\",0.014343229914732422],[\"Geo 4\",0.022363796581757144],[\"Geo 4\",0.028856953859761128],[\"Geo 4\",0.021050812234046857],[\"Geo 4\",0.007704261721538035],[\"Geo 4\",0.0013728502499422703],[\"Geo 4\",0.00011806273469560124],[\"Geo 4\",4.884507037726068e-06],[\"Geo 4\",9.709072528064778e-08]]],\"ys\":[{\"__ndarray__\":\"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\",\"dtype\":\"float64\",\"order\":\"little\",\"shape\":[200]},{\"__ndarray__\":\"uxekHnTy/L+CplGBPC/4v0g1/+MEbPO/HohZjZpR7b+spbRSK8vjv3SGHzB4idS/wBhcrZvJl79UA3S6RJDRPx7k3peRTuI/ksaD0gDV6z+BVJQGuK3yP7vF5qPvcPc/9TY5QSc0/D8W1EVvr3sAQLIM7z1L3QJAUEWYDOc+BUDsfUHbgqAHQIi26qkeAgpAJu+TeLpjDEDCJz1HVsUOQC8w8wp5kxBAfsxH8kbEEUDMaJzZFPUSQBoF8cDiJRRAaaFFqLBWFUC3PZqPfocWQAXa7nZMuBdAU3ZDXhrpGEChEphF6BkaQPGu7Cy2ShtAP0tBFIR7HECN55X7UawdQNuD6uIf3R5AFZAf5fYGIEA83snYXZ8gQGMsdMzENyFAi3oewCvQIUCyyMizkmgiQNkWc6f5ACNAAGUdm2CZI0Ans8eOxzEkQE4BcoIuyiRAdk8cdpViJUCdncZp/PolQMTrcF1jkyZA6zkbUcorJ0ASiMVEMcQnQDnWbziYXChAYSQaLP/0KECIcsQfZo0pQK/AbhPNJSpA1g4ZBzS+KkD9XMP6mlYrQCSrbe4B7ytAS/kX4miHLEBzR8LVzx8tQJmVbMk2uC1AweMWvZ1QLkDpMcGwBOkuQA+Aa6RrgS9AG+cKTOkMMEAuDuDFHFkwQEI1tT9QpTBAVVyKuYPxMEBpg18ztz0xQH2qNK3qiTFAkNEJJx7WMUCk+N6gUSIyQLcftBqFbjJAy0aJlLi6MkDebV4O7AYzQPKUM4gfUzNABrwIAlOfM0AZ4917huszQC0Ks/W5NzRAQDGIb+2DNEBUWF3pINA0QGh/MmNUHDVAe6YH3YdoNUCPzdxWu7Q1QKL0sdDuADZAthuHSiJNNkDJQlzEVZk2QN1pMT6J5TZA8ZAGuLwxN0AEuNsx8H03QBjfsKsjyjdAKwaGJVcWOEA/LVufimI4QFJUMBm+rjhAZnsFk/H6OEB6otoMJUc5QI3Jr4ZYkzlAofCEAIzfOUC0F1p6vys6QMg+L/TydzpA3GUEbibEOkDvjNnnWRA7QAO0rmGNXDtAFtuD28CoO0AW24PbwKg7QAO0rmGNXDtA74zZ51kQO0DcZQRuJsQ6QMg+L/TydzpAtBdaer8rOkCh8IQAjN85QI3Jr4ZYkzlAeqLaDCVHOUBmewWT8fo4QFJUMBm+rjhAPy1bn4piOEArBoYlVxY4QBjfsKsjyjdABLjbMfB9N0DxkAa4vDE3QN1pMT6J5TZAyUJcxFWZNkC2G4dKIk02QKL0sdDuADZAj83cVru0NUB7pgfdh2g1QGh/MmNUHDVAVFhd6SDQNEBAMYhv7YM0QC0Ks/W5NzRAGePde4brM0AGvAgCU58zQPKUM4gfUzNA3m1eDuwGM0DLRomUuLoyQLcftBqFbjJApPjeoFEiMkCQ0QknHtYxQH2qNK3qiTFAaYNfM7c9MUBVXIq5g/EwQEI1tT9QpTBALg7gxRxZMEAb5wpM6QwwQA+Aa6RrgS9A6THBsATpLkDB4xa9nVAuQJmVbMk2uC1Ac0fC1c8fLUBL+RfiaIcsQCSrbe4B7ytA/VzD+ppWK0DWDhkHNL4qQK/AbhPNJSpAiHLEH2aNKUBhJBos//QoQDnWbziYXChAEojFRDHEJ0DrORtRyisnQMTrcF1jkyZAnZ3Gafz6JUB2Txx2lWIlQE4BcoIuyiRAJ7PHjscxJEAAZR2bYJkjQNkWc6f5ACNAssjIs5JoIkCLeh7AK9AhQGMsdMzENyFAPN7J2F2fIEAVkB/l9gYgQNuD6uIf3R5AjeeV+1GsHUA/S0EUhHscQPGu7Cy2ShtAoRKYRegZGkBTdkNeGukYQAXa7nZMuBdAtz2aj36HFkBpoUWosFYVQBoF8cDiJRRAzGic2RT1EkB+zEfyRsQRQC8w8wp5kxBAwic9R1bFDkAm75N4umMMQIi26qkeAgpA7H1B24KgB0BQRZgM5z4FQLIM7z1L3QJAFtRFb697AED1NjlBJzT8P7vF5qPvcPc/gVSUBrit8j+SxoPSANXrPx7k3peRTuI/VAN0ukSQ0T/AGFytm8mXv3SGHzB4idS/rKW0UivL478eiFmNmlHtv0g1/+MEbPO/gqZRgTwv+L+7F6QedPL8vw==\",\"dtype\":\"float64\",\"order\":\"little\",\"shape\":[200]},{\"__ndarray__\":\"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\",\"dtype\":\"float64\",\"order\":\"little\",\"shape\":[200]},{\"__ndarray__\":\"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\",\"dtype\":\"float64\",\"order\":\"little\",\"shape\":[200]},{\"__ndarray__\":\"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\",\"dtype\":\"float64\",\"order\":\"little\",\"shape\":[200]}]},\"selected\":{\"id\":\"2415\"},\"selection_policy\":{\"id\":\"2414\"}},\"id\":\"2379\",\"type\":\"ColumnDataSource\"},{\"attributes\":{\"text\":\"Mutual Information: 0.042 ('transition_time_days' is binned for computation)\",\"text_color\":{\"value\":\"black\"},\"text_font_size\":{\"value\":\"12pt\"}},\"id\":\"2346\",\"type\":\"Title\"},{\"attributes\":{\"line_alpha\":{\"value\":0.1},\"xs\":{\"field\":\"xs\"},\"ys\":{\"field\":\"ys\"}},\"id\":\"2382\",\"type\":\"MultiLine\"},{\"attributes\":{\"x0\":{\"field\":\"x\"},\"x1\":{\"field\":\"x\"},\"y0\":{\"field\":\"y0\"},\"y1\":{\"field\":\"y1\"}},\"id\":\"2387\",\"type\":\"Segment\"},{\"attributes\":{\"bottom\":{\"field\":\"bottom\"},\"fill_alpha\":{\"value\":0.1},\"fill_color\":{\"value\":\"black\"},\"line_alpha\":{\"value\":0.1},\"top\":{\"field\":\"top\"},\"width\":{\"value\":0.1},\"x\":{\"field\":\"x\"}},\"id\":\"2394\",\"type\":\"VBar\"},{\"attributes\":{\"data_source\":{\"id\":\"2373\"},\"glyph\":{\"id\":\"2375\"},\"hover_glyph\":null,\"muted_glyph\":null,\"nonselection_glyph\":{\"id\":\"2376\"},\"selection_glyph\":null,\"view\":{\"id\":\"2378\"}},\"id\":\"2377\",\"type\":\"GlyphRenderer\"},{\"attributes\":{},\"id\":\"2363\",\"type\":\"WheelZoomTool\"},{\"attributes\":{\"overlay\":{\"id\":\"2366\"}},\"id\":\"2364\",\"type\":\"BoxZoomTool\"},{\"attributes\":{\"axis_label\":\"geography\",\"bounds\":\"auto\",\"formatter\":{\"id\":\"2403\"},\"major_label_orientation\":\"horizontal\",\"ticker\":{\"id\":\"2355\"}},\"id\":\"2354\",\"type\":\"CategoricalAxis\"},{\"attributes\":{\"axis\":{\"id\":\"2354\"},\"grid_line_color\":null,\"ticker\":null},\"id\":\"2356\",\"type\":\"Grid\"},{\"attributes\":{\"fill_color\":{\"value\":\"white\"},\"line_color\":{\"value\":\"white\"},\"x\":{\"field\":\"x\"},\"y\":{\"field\":\"y\"}},\"id\":\"2399\",\"type\":\"Scatter\"},{\"attributes\":{},\"id\":\"2362\",\"type\":\"PanTool\"},{\"attributes\":{},\"id\":\"2417\",\"type\":\"Selection\"},{\"attributes\":{},\"id\":\"2352\",\"type\":\"LinearScale\"},{\"attributes\":{\"align\":null,\"below\":[{\"id\":\"2354\"}],\"center\":[{\"id\":\"2356\"},{\"id\":\"2360\"}],\"left\":[{\"id\":\"2357\"}],\"margin\":null,\"min_border_bottom\":10,\"min_border_left\":10,\"min_border_right\":10,\"min_border_top\":10,\"plot_height\":300,\"plot_width\":700,\"renderers\":[{\"id\":\"2377\"},{\"id\":\"2383\"},{\"id\":\"2389\"},{\"id\":\"2395\"},{\"id\":\"2401\"}],\"sizing_mode\":\"fixed\",\"title\":{\"id\":\"2346\"},\"toolbar\":{\"id\":\"2367\"},\"x_range\":{\"id\":\"2343\"},\"x_scale\":{\"id\":\"2350\"},\"y_range\":{\"id\":\"2344\"},\"y_scale\":{\"id\":\"2352\"}},\"id\":\"2345\",\"subtype\":\"Figure\",\"type\":\"Plot\"},{\"attributes\":{},\"id\":\"2403\",\"type\":\"CategoricalTickFormatter\"},{\"attributes\":{\"factors\":[\"Geo 1\",\"Geo 3\",\"Geo 5\",\"Geo 2\",\"Geo 4\"],\"tags\":[[[\"geography\",\"geography\",null]]]},\"id\":\"2343\",\"type\":\"FactorRange\"},{\"attributes\":{},\"id\":\"2412\",\"type\":\"UnionRenderers\"},{\"attributes\":{\"data\":{\"x\":[[\"Geo 1\",0],[\"Geo 3\",0],[\"Geo 5\",0],[\"Geo 2\",0],[\"Geo 4\",0]],\"y0\":{\"__ndarray__\":\"AAAAAAAAAACkcD0K16MKQKRwPQrXowpApHA9CtejCkCkcD0K16MKQA==\",\"dtype\":\"float64\",\"order\":\"little\",\"shape\":[5]},\"y1\":{\"__ndarray__\":\"AAAAAAAALkAAAAAAAAAYQAAAAAAAABhAAAAAAAAAGEAAAAAAAAAYQA==\",\"dtype\":\"float64\",\"order\":\"little\",\"shape\":[5]}},\"selected\":{\"id\":\"2417\"},\"selection_policy\":{\"id\":\"2416\"}},\"id\":\"2385\",\"type\":\"ColumnDataSource\"},{\"attributes\":{\"fill_alpha\":{\"value\":0.5},\"fill_color\":{\"value\":\"#1f77b3\"},\"line_alpha\":{\"value\":0.1},\"line_color\":{\"value\":\"#1f77b4\"},\"line_width\":{\"value\":0},\"xs\":{\"field\":\"xs\"},\"ys\":{\"field\":\"ys\"}},\"id\":\"2376\",\"type\":\"Patches\"},{\"attributes\":{\"end\":47.718,\"reset_end\":47.718,\"reset_start\":-4.338,\"start\":-4.338,\"tags\":[[[\"transition_time_days\",\"transition_time_days\",null]]]},\"id\":\"2344\",\"type\":\"Range1d\"},{\"attributes\":{},\"id\":\"2355\",\"type\":\"CategoricalTicker\"},{\"attributes\":{},\"id\":\"2361\",\"type\":\"SaveTool\"},{\"attributes\":{\"data\":{\"bottom\":{\"__ndarray__\":\"AAAAAAAAAABSuB6F61ERQFK4HoXrURFAUrgehetREUBSuB6F61ERQA==\",\"dtype\":\"float64\",\"order\":\"little\",\"shape\":[5]},\"top\":{\"__ndarray__\":\"AAAAAAAAGEAAAAAAAAAUQAAAAAAAABRAAAAAAAAAFEAAAAAAAAAUQA==\",\"dtype\":\"float64\",\"order\":\"little\",\"shape\":[5]},\"x\":[[\"Geo 1\",0],[\"Geo 3\",0],[\"Geo 5\",0],[\"Geo 2\",0],[\"Geo 4\",0]]},\"selected\":{\"id\":\"2419\"},\"selection_policy\":{\"id\":\"2418\"}},\"id\":\"2391\",\"type\":\"ColumnDataSource\"},{\"attributes\":{\"bottom\":{\"field\":\"bottom\"},\"fill_color\":{\"value\":\"black\"},\"top\":{\"field\":\"top\"},\"width\":{\"value\":0.1},\"x\":{\"field\":\"x\"}},\"id\":\"2393\",\"type\":\"VBar\"},{\"attributes\":{},\"id\":\"2416\",\"type\":\"UnionRenderers\"},{\"attributes\":{\"data\":{\"xs\":[[[\"Geo 1\",-1.3151869363084839e-06],[\"Geo 1\",-6.7673246993281316e-06],[\"Geo 1\",-3.105148928336445e-05],[\"Geo 1\",-0.0001270580041161718],[\"Geo 1\",-0.00046365975509710886],[\"Geo 1\",-0.0015090570151346323],[\"Geo 1\",-0.00438089283251999],[\"Geo 1\",-0.01134561304876743],[\"Geo 1\",-0.026216989988049458],[\"Geo 1\",-0.05406848682019168],[\"Geo 1\",-0.09955997079645858],[\"Geo 1\",-0.1637816212654154],[\"Geo 1\",-0.24092865416864637],[\"Geo 1\",-0.317389498189226],[\"Geo 1\",-0.37532839626634473],[\"Geo 1\",-0.4],[\"Geo 1\",-0.38675920454399465],[\"Geo 1\",-0.34318368630678875],[\"Geo 1\",-0.2849641773736937],[\"Geo 1\",-0.22858748001227913],[\"Geo 1\",-0.18553577803224353],[\"Geo 1\",-0.16069848627424194],[\"Geo 1\",-0.15430366769127307],[\"Geo 1\",-0.16480190951968],[\"Geo 1\",-0.19052217313443084],[\"Geo 1\",-0.22940961915913627],[\"Geo 1\",-0.2775011553630267],[\"Geo 1\",-0.32756060109116514],[\"Geo 1\",-0.369385340383834],[\"Geo 1\",-0.39247421426650303],[\"Geo 1\",-0.3901057114176303],[\"Geo 1\",-0.362460588465105],[\"Geo 1\",-0.3166257712441344],[\"Geo 1\",-0.2633120842791551],[\"Geo 1\",-0.2123281283460258],[\"Geo 1\",-0.16942822255016846],[\"Geo 1\",-0.13582468887080693],[\"Geo 1\",-0.10978926370061817],[\"Geo 1\",-0.08881468026296428],[\"Geo 1\",-0.07108796475772905],[\"Geo 1\",-0.05589895212718337],[\"Geo 1\",-0.04331503368804732],[\"Geo 1\",-0.03366980165733304],[\"Geo 1\",-0.0272407649720032],[\"Geo 1\",-0.02420241237276266],[\"Geo 1\",-0.024739011992615426],[\"Geo 1\",-0.029128413625455554],[\"Geo 1\",-0.03762068912084056],[\"Geo 1\",-0.050032999144296264],[\"Geo 1\",-0.06520118074248982],[\"Geo 1\",-0.08068771044476769],[\"Geo 1\",-0.09318024296685479],[\"Geo 1\",-0.0996212378755903],[\"Geo 1\",-0.09849685551062975],[\"Geo 1\",-0.09044952612844258],[\"Geo 1\",-0.0778071352550938],[\"Geo 1\",-0.06340371135516536],[\"Geo 1\",-0.04949173485800498],[\"Geo 1\",-0.037295964410484383],[\"Geo 1\",-0.027185016810209496],[\"Geo 1\",-0.019083081003795983],[\"Geo 1\",-0.012787821390060742],[\"Geo 1\",-0.008093167958339509],[\"Geo 1\",-0.004786134886963525],[\"Geo 1\",-0.0026196993953384283],[\"Geo 1\",-0.0013165122782154782],[\"Geo 1\",-0.0006034958875455777],[\"Geo 1\",-0.00025105822095844655],[\"Geo 1\",-9.441487757169188e-05],[\"Geo 1\",-3.203226080310286e-05],[\"Geo 1\",-9.941097227921847e-06],[\"Geo 1\",-3.5799268931263496e-06],[\"Geo 1\",-4.587453318729528e-06],[\"Geo 1\",-1.528315473760165e-05],[\"Geo 1\",-5.1992561108442614e-05],[\"Geo 1\",-0.00015902581640676655],[\"Geo 1\",-0.0004338585005302069],[\"Geo 1\",-0.0010553196533287844],[\"Geo 1\",-0.0022885685926512024],[\"Geo 1\",-0.0044247340379262355],[\"Geo 1\",-0.007626999197040525],[\"Geo 1\",-0.01172096906293253],[\"Geo 1\",-0.01605893084981094],[\"Geo 1\",-0.01961611621481332],[\"Geo 1\",-0.021362531345964855],[\"Geo 1\",-0.020741286457241572],[\"Geo 1\",-0.017954030372679373],[\"Geo 1\",-0.013855796968252527],[\"Geo 1\",-0.009533324054126538],[\"Geo 1\",-0.0058479074376267],[\"Geo 1\",-0.0031981579842205207],[\"Geo 1\",-0.0015593464877364804],[\"Geo 1\",-0.0006778422403231761],[\"Geo 1\",-0.0002626986981380966],[\"Geo 1\",-9.076752671742748e-05],[\"Geo 1\",-2.7960592640206397e-05],[\"Geo 1\",-7.679015288527475e-06],[\"Geo 1\",-1.8802170284424224e-06],[\"Geo 1\",-4.104438194708768e-07],[\"Geo 1\",-7.988086306872388e-08],[\"Geo 1\",7.988086306872388e-08],[\"Geo 1\",4.104438194708768e-07],[\"Geo 1\",1.8802170284424224e-06],[\"Geo 1\",7.679015288527475e-06],[\"Geo 1\",2.7960592640206397e-05],[\"Geo 1\",9.076752671742748e-05],[\"Geo 1\",0.0002626986981380966],[\"Geo 1\",0.0006778422403231761],[\"Geo 1\",0.0015593464877364804],[\"Geo 1\",0.0031981579842205207],[\"Geo 1\",0.0058479074376267],[\"Geo 1\",0.009533324054126538],[\"Geo 1\",0.013855796968252527],[\"Geo 1\",0.017954030372679373],[\"Geo 1\",0.020741286457241572],[\"Geo 1\",0.021362531345964855],[\"Geo 1\",0.01961611621481332],[\"Geo 1\",0.01605893084981094],[\"Geo 1\",0.01172096906293253],[\"Geo 1\",0.007626999197040525],[\"Geo 1\",0.0044247340379262355],[\"Geo 1\",0.0022885685926512024],[\"Geo 1\",0.0010553196533287844],[\"Geo 1\",0.0004338585005302069],[\"Geo 1\",0.00015902581640676655],[\"Geo 1\",5.1992561108442614e-05],[\"Geo 1\",1.528315473760165e-05],[\"Geo 1\",4.587453318729528e-06],[\"Geo 1\",3.5799268931263496e-06],[\"Geo 1\",9.941097227921847e-06],[\"Geo 1\",3.203226080310286e-05],[\"Geo 1\",9.441487757169188e-05],[\"Geo 1\",0.00025105822095844655],[\"Geo 1\",0.0006034958875455777],[\"Geo 1\",0.0013165122782154782],[\"Geo 1\",0.0026196993953384283],[\"Geo 1\",0.004786134886963525],[\"Geo 1\",0.008093167958339509],[\"Geo 1\",0.012787821390060742],[\"Geo 1\",0.019083081003795983],[\"Geo 1\",0.027185016810209496],[\"Geo 1\",0.037295964410484383],[\"Geo 1\",0.04949173485800498],[\"Geo 1\",0.06340371135516536],[\"Geo 1\",0.0778071352550938],[\"Geo 1\",0.09044952612844258],[\"Geo 1\",0.09849685551062975],[\"Geo 1\",0.0996212378755903],[\"Geo 1\",0.09318024296685479],[\"Geo 1\",0.08068771044476769],[\"Geo 1\",0.06520118074248982],[\"Geo 1\",0.050032999144296264],[\"Geo 1\",0.03762068912084056],[\"Geo 1\",0.029128413625455554],[\"Geo 1\",0.024739011992615426],[\"Geo 1\",0.02420241237276266],[\"Geo 1\",0.0272407649720032],[\"Geo 1\",0.03366980165733304],[\"Geo 1\",0.04331503368804732],[\"Geo 1\",0.05589895212718337],[\"Geo 1\",0.07108796475772905],[\"Geo 1\",0.08881468026296428],[\"Geo 1\",0.10978926370061817],[\"Geo 1\",0.13582468887080693],[\"Geo 1\",0.16942822255016846],[\"Geo 1\",0.2123281283460258],[\"Geo 1\",0.2633120842791551],[\"Geo 1\",0.3166257712441344],[\"Geo 1\",0.362460588465105],[\"Geo 1\",0.3901057114176303],[\"Geo 1\",0.39247421426650303],[\"Geo 1\",0.369385340383834],[\"Geo 1\",0.32756060109116514],[\"Geo 1\",0.2775011553630267],[\"Geo 1\",0.22940961915913627],[\"Geo 1\",0.19052217313443084],[\"Geo 1\",0.16480190951968],[\"Geo 1\",0.15430366769127307],[\"Geo 1\",0.16069848627424194],[\"Geo 1\",0.18553577803224353],[\"Geo 1\",0.22858748001227913],[\"Geo 1\",0.2849641773736937],[\"Geo 1\",0.34318368630678875],[\"Geo 1\",0.38675920454399465],[\"Geo 1\",0.4],[\"Geo 1\",0.37532839626634473],[\"Geo 1\",0.317389498189226],[\"Geo 1\",0.24092865416864637],[\"Geo 1\",0.1637816212654154],[\"Geo 1\",0.09955997079645858],[\"Geo 1\",0.05406848682019168],[\"Geo 1\",0.026216989988049458],[\"Geo 1\",0.01134561304876743],[\"Geo 1\",0.00438089283251999],[\"Geo 1\",0.0015090570151346323],[\"Geo 1\",0.00046365975509710886],[\"Geo 1\",0.0001270580041161718],[\"Geo 1\",3.105148928336445e-05],[\"Geo 1\",6.7673246993281316e-06],[\"Geo 1\",1.3151869363084839e-06]],[[\"Geo 3\",-9.73138106872996e-08],[\"Geo 3\",-4.246811888190042e-06],[\"Geo 3\",-9.432599062028577e-05],[\"Geo 3\",-0.0010680336274609124],[\"Geo 3\",-0.006188935786486084],[\"Geo 3\",-0.01854149525361856],[\"Geo 3\",-0.029572169030353524],[\"Geo 3\",-0.027396261985096905],[\"Geo 3\",-0.01829596338981897],[\"Geo 3\",-0.011866954577843999],[\"Geo 3\",-0.008916855274803822],[\"Geo 3\",-0.007932699129418396],[\"Geo 3\",-0.00728482216388894],[\"Geo 3\",-0.007239440225837963],[\"Geo 3\",-0.008811975716189892],[\"Geo 3\",-0.01289905074727412],[\"Geo 3\",-0.023318856971763734],[\"Geo 3\",-0.041487774810944164],[\"Geo 3\",-0.06810967644863096],[\"Geo 3\",-0.10148850189644823],[\"Geo 3\",-0.12507173115495474],[\"Geo 3\",-0.18309960368237124],[\"Geo 3\",-0.32849355841036987],[\"Geo 3\",-0.4],[\"Geo 3\",-0.2690461017925677],[\"Geo 3\",-0.11899185039764933],[\"Geo 3\",-0.06873723796128035],[\"Geo 3\",-0.05064088806621693],[\"Geo 3\",-0.0349402871273129],[\"Geo 3\",-0.035975226821687155],[\"Geo 3\",-0.03983878724768783],[\"Geo 3\",-0.03643473887815701],[\"Geo 3\",-0.029185488676903338],[\"Geo 3\",-0.016644237553158078],[\"Geo 3\",-0.0056669942096757246],[\"Geo 3\",-0.001416955237532085],[\"Geo 3\",-0.0006260432135022151],[\"Geo 3\",-0.0005302508556866908],[\"Geo 3\",-0.0005542482443243561],[\"Geo 3\",-0.0005667236516563868],[\"Geo 3\",-0.00048454179161336097],[\"Geo 3\",-0.000412627123880677],[\"Geo 3\",-0.0005247137620121421],[\"Geo 3\",-0.0007492136289793203],[\"Geo 3\",-0.0008632431372407389],[\"Geo 3\",-0.0009008738880253195],[\"Geo 3\",-0.0010091715709550483],[\"Geo 3\",-0.0010583889735121944],[\"Geo 3\",-0.0010157490084295095],[\"Geo 3\",-0.0009766047649736058],[\"Geo 3\",-0.0008671695484028411],[\"Geo 3\",-0.0007606124560335069],[\"Geo 3\",-0.0008535376974452745],[\"Geo 3\",-0.000993363465482454],[\"Geo 3\",-0.0008660295931385582],[\"Geo 3\",-0.0005987176572799921],[\"Geo 3\",-0.0005006473770399678],[\"Geo 3\",-0.0005112606386397455],[\"Geo 3\",-0.00043950870481083005],[\"Geo 3\",-0.00046134294606813383],[\"Geo 3\",-0.0007469737701481691],[\"Geo 3\",-0.000922465630109586],[\"Geo 3\",-0.0006834430707397178],[\"Geo 3\",-0.00036510562490336984],[\"Geo 3\",-0.00025741455692574605],[\"Geo 3\",-0.000316349601815387],[\"Geo 3\",-0.0004216089455764955],[\"Geo 3\",-0.00043157683031914447],[\"Geo 3\",-0.0003137732315884647],[\"Geo 3\",-0.00018431915607462266],[\"Geo 3\",-0.00011808886621570902],[\"Geo 3\",-0.00011365293269524377],[\"Geo 3\",-0.00015608534652143788],[\"Geo 3\",-0.0001927873953587699],[\"Geo 3\",-0.00016727089496516832],[\"Geo 3\",-0.00012221854868063302],[\"Geo 3\",-0.00015864599581714585],[\"Geo 3\",-0.0002713651602080603],[\"Geo 3\",-0.0003625038143602835],[\"Geo 3\",-0.0003745590707369083],[\"Geo 3\",-0.0002926039554400277],[\"Geo 3\",-0.0001885137530721602],[\"Geo 3\",-0.00037237830298333805],[\"Geo 3\",-0.0020069949213732626],[\"Geo 3\",-0.0065614434862146034],[\"Geo 3\",-0.010986578827866723],[\"Geo 3\",-0.00935352082518087],[\"Geo 3\",-0.0040481932065139364],[\"Geo 3\",-0.0008957186344558159],[\"Geo 3\",-0.0001235317815404873],[\"Geo 3\",-6.133046937703557e-05],[\"Geo 3\",-7.631617025084296e-05],[\"Geo 3\",-7.917627516910432e-05],[\"Geo 3\",-7.048515442118503e-05],[\"Geo 3\",-4.252770219074454e-05],[\"Geo 3\",-1.4232942914201334e-05],[\"Geo 3\",-2.4719730355938035e-06],[\"Geo 3\",-2.1923077895356555e-07],[\"Geo 3\",-9.89237526146134e-09],[\"Geo 3\",-2.2693283218559544e-10],[\"Geo 3\",2.2693283218559544e-10],[\"Geo 3\",9.89237526146134e-09],[\"Geo 3\",2.1923077895356555e-07],[\"Geo 3\",2.4719730355938035e-06],[\"Geo 3\",1.4232942914201334e-05],[\"Geo 3\",4.252770219074454e-05],[\"Geo 3\",7.048515442118503e-05],[\"Geo 3\",7.917627516910432e-05],[\"Geo 3\",7.631617025084296e-05],[\"Geo 3\",6.133046937703557e-05],[\"Geo 3\",0.0001235317815404873],[\"Geo 3\",0.0008957186344558159],[\"Geo 3\",0.0040481932065139364],[\"Geo 3\",0.00935352082518087],[\"Geo 3\",0.010986578827866723],[\"Geo 3\",0.0065614434862146034],[\"Geo 3\",0.0020069949213732626],[\"Geo 3\",0.00037237830298333805],[\"Geo 3\",0.0001885137530721602],[\"Geo 3\",0.0002926039554400277],[\"Geo 3\",0.0003745590707369083],[\"Geo 3\",0.0003625038143602835],[\"Geo 3\",0.0002713651602080603],[\"Geo 3\",0.00015864599581714585],[\"Geo 3\",0.00012221854868063302],[\"Geo 3\",0.00016727089496516832],[\"Geo 3\",0.0001927873953587699],[\"Geo 3\",0.00015608534652143788],[\"Geo 3\",0.00011365293269524377],[\"Geo 3\",0.00011808886621570902],[\"Geo 3\",0.00018431915607462266],[\"Geo 3\",0.0003137732315884647],[\"Geo 3\",0.00043157683031914447],[\"Geo 3\",0.0004216089455764955],[\"Geo 3\",0.000316349601815387],[\"Geo 3\",0.00025741455692574605],[\"Geo 3\",0.00036510562490336984],[\"Geo 3\",0.0006834430707397178],[\"Geo 3\",0.000922465630109586],[\"Geo 3\",0.0007469737701481691],[\"Geo 3\",0.00046134294606813383],[\"Geo 3\",0.00043950870481083005],[\"Geo 3\",0.0005112606386397455],[\"Geo 3\",0.0005006473770399678],[\"Geo 3\",0.0005987176572799921],[\"Geo 3\",0.0008660295931385582],[\"Geo 3\",0.000993363465482454],[\"Geo 3\",0.0008535376974452745],[\"Geo 3\",0.0007606124560335069],[\"Geo 3\",0.0008671695484028411],[\"Geo 3\",0.0009766047649736058],[\"Geo 3\",0.0010157490084295095],[\"Geo 3\",0.0010583889735121944],[\"Geo 3\",0.0010091715709550483],[\"Geo 3\",0.0009008738880253195],[\"Geo 3\",0.0008632431372407389],[\"Geo 3\",0.0007492136289793203],[\"Geo 3\",0.0005247137620121421],[\"Geo 3\",0.000412627123880677],[\"Geo 3\",0.00048454179161336097],[\"Geo 3\",0.0005667236516563868],[\"Geo 3\",0.0005542482443243561],[\"Geo 3\",0.0005302508556866908],[\"Geo 3\",0.0006260432135022151],[\"Geo 3\",0.001416955237532085],[\"Geo 3\",0.0056669942096757246],[\"Geo 3\",0.016644237553158078],[\"Geo 3\",0.029185488676903338],[\"Geo 3\",0.03643473887815701],[\"Geo 3\",0.03983878724768783],[\"Geo 3\",0.035975226821687155],[\"Geo 3\",0.0349402871273129],[\"Geo 3\",0.05064088806621693],[\"Geo 3\",0.06873723796128035],[\"Geo 3\",0.11899185039764933],[\"Geo 3\",0.2690461017925677],[\"Geo 3\",0.4],[\"Geo 3\",0.32849355841036987],[\"Geo 3\",0.18309960368237124],[\"Geo 3\",0.12507173115495474],[\"Geo 3\",0.10148850189644823],[\"Geo 3\",0.06810967644863096],[\"Geo 3\",0.041487774810944164],[\"Geo 3\",0.023318856971763734],[\"Geo 3\",0.01289905074727412],[\"Geo 3\",0.008811975716189892],[\"Geo 3\",0.007239440225837963],[\"Geo 3\",0.00728482216388894],[\"Geo 3\",0.007932699129418396],[\"Geo 3\",0.008916855274803822],[\"Geo 3\",0.011866954577843999],[\"Geo 3\",0.01829596338981897],[\"Geo 3\",0.027396261985096905],[\"Geo 3\",0.029572169030353524],[\"Geo 3\",0.01854149525361856],[\"Geo 3\",0.006188935786486084],[\"Geo 3\",0.0010680336274609124],[\"Geo 3\",9.432599062028577e-05],[\"Geo 3\",4.246811888190042e-06],[\"Geo 3\",9.73138106872996e-08]],[[\"Geo 5\",-8.674237807195302e-08],[\"Geo 5\",-1.453702712423972e-06],[\"Geo 5\",-1.7022788902849193e-05],[\"Geo 5\",-0.00013934937335174363],[\"Geo 5\",-0.0007980899925045682],[\"Geo 5\",-0.003202579502595566],[\"Geo 5\",-0.009028980003399223],[\"Geo 5\",-0.017984174065550678],[\"Geo 5\",-0.025620870861779017],[\"Geo 5\",-0.026874750319415188],[\"Geo 5\",-0.022250090469556637],[\"Geo 5\",-0.01681452526242684],[\"Geo 5\",-0.014008963070497702],[\"Geo 5\",-0.013683768727137266],[\"Geo 5\",-0.014334719495833224],[\"Geo 5\",-0.015052161156161169],[\"Geo 5\",-0.016470944869965264],[\"Geo 5\",-0.02081305774965375],[\"Geo 5\",-0.030605785725733928],[\"Geo 5\",-0.047369251525449727],[\"Geo 5\",-0.07179542567086064],[\"Geo 5\",-0.1034225177577483],[\"Geo 5\",-0.14190970986292356],[\"Geo 5\",-0.19749724453846731],[\"Geo 5\",-0.28546711636496636],[\"Geo 5\",-0.37850455785451564],[\"Geo 5\",-0.4],[\"Geo 5\",-0.3195327749135457],[\"Geo 5\",-0.20159391225006684],[\"Geo 5\",-0.11693504089947754],[\"Geo 5\",-0.07431473687787517],[\"Geo 5\",-0.05468609477931449],[\"Geo 5\",-0.04753398733001732],[\"Geo 5\",-0.04639418228861284],[\"Geo 5\",-0.04425008899583189],[\"Geo 5\",-0.037533876264791634],[\"Geo 5\",-0.026692373735956773],[\"Geo 5\",-0.015173699162717678],[\"Geo 5\",-0.006910981124793736],[\"Geo 5\",-0.0028772576538503335],[\"Geo 5\",-0.001429797182750478],[\"Geo 5\",-0.0009039410324344606],[\"Geo 5\",-0.000617777039828321],[\"Geo 5\",-0.0004576994180501939],[\"Geo 5\",-0.00041039815239731154],[\"Geo 5\",-0.0004250545176652549],[\"Geo 5\",-0.0004886225453322479],[\"Geo 5\",-0.000657046331043816],[\"Geo 5\",-0.0009339788903407469],[\"Geo 5\",-0.001190360913478205],[\"Geo 5\",-0.0012902571390560403],[\"Geo 5\",-0.0012901776020594127],[\"Geo 5\",-0.0014272637904666487],[\"Geo 5\",-0.0018227161851071252],[\"Geo 5\",-0.0022496486492646624],[\"Geo 5\",-0.0023772627814753517],[\"Geo 5\",-0.0022233176420007952],[\"Geo 5\",-0.0020595273339538015],[\"Geo 5\",-0.0019190040578052374],[\"Geo 5\",-0.0016124871564129708],[\"Geo 5\",-0.0011389449164362422],[\"Geo 5\",-0.0007041519524769196],[\"Geo 5\",-0.00043779287756571194],[\"Geo 5\",-0.0003117996095027767],[\"Geo 5\",-0.00025173564154889496],[\"Geo 5\",-0.00021859468948849873],[\"Geo 5\",-0.0002015046516628717],[\"Geo 5\",-0.00018967806835911317],[\"Geo 5\",-0.00017911836979422131],[\"Geo 5\",-0.0001768098797329437],[\"Geo 5\",-0.0001773339993035405],[\"Geo 5\",-0.00015865607251861058],[\"Geo 5\",-0.00011328494310242716],[\"Geo 5\",-6.42459566874797e-05],[\"Geo 5\",-3.946195081328724e-05],[\"Geo 5\",-4.3988756809884394e-05],[\"Geo 5\",-5.9503581433616344e-05],[\"Geo 5\",-6.270417975960663e-05],[\"Geo 5\",-4.7336242169273033e-05],[\"Geo 5\",-2.8555008486120173e-05],[\"Geo 5\",-2.866305364945811e-05],[\"Geo 5\",-6.882421166735745e-05],[\"Geo 5\",-0.00016118371429790285],[\"Geo 5\",-0.0002810275836665812],[\"Geo 5\",-0.000360572152154969],[\"Geo 5\",-0.00037141923442283553],[\"Geo 5\",-0.0004930118640769095],[\"Geo 5\",-0.0013193398362953807],[\"Geo 5\",-0.0038067907027512825],[\"Geo 5\",-0.008195028329023236],[\"Geo 5\",-0.012413358177163039],[\"Geo 5\",-0.01313948655162951],[\"Geo 5\",-0.009711168432100896],[\"Geo 5\",-0.005011040814558991],[\"Geo 5\",-0.0018052731410363493],[\"Geo 5\",-0.000454062720995479],[\"Geo 5\",-7.973456871301374e-05],[\"Geo 5\",-9.775417582275115e-06],[\"Geo 5\",-8.36723281767305e-07],[\"Geo 5\",-5.000187084654673e-08],[\"Geo 5\",5.000187084654673e-08],[\"Geo 5\",8.36723281767305e-07],[\"Geo 5\",9.775417582275115e-06],[\"Geo 5\",7.973456871301374e-05],[\"Geo 5\",0.000454062720995479],[\"Geo 5\",0.0018052731410363493],[\"Geo 5\",0.005011040814558991],[\"Geo 5\",0.009711168432100896],[\"Geo 5\",0.01313948655162951],[\"Geo 5\",0.012413358177163039],[\"Geo 5\",0.008195028329023236],[\"Geo 5\",0.0038067907027512825],[\"Geo 5\",0.0013193398362953807],[\"Geo 5\",0.0004930118640769095],[\"Geo 5\",0.00037141923442283553],[\"Geo 5\",0.000360572152154969],[\"Geo 5\",0.0002810275836665812],[\"Geo 5\",0.00016118371429790285],[\"Geo 5\",6.882421166735745e-05],[\"Geo 5\",2.866305364945811e-05],[\"Geo 5\",2.8555008486120173e-05],[\"Geo 5\",4.7336242169273033e-05],[\"Geo 5\",6.270417975960663e-05],[\"Geo 5\",5.9503581433616344e-05],[\"Geo 5\",4.3988756809884394e-05],[\"Geo 5\",3.946195081328724e-05],[\"Geo 5\",6.42459566874797e-05],[\"Geo 5\",0.00011328494310242716],[\"Geo 5\",0.00015865607251861058],[\"Geo 5\",0.0001773339993035405],[\"Geo 5\",0.0001768098797329437],[\"Geo 5\",0.00017911836979422131],[\"Geo 5\",0.00018967806835911317],[\"Geo 5\",0.0002015046516628717],[\"Geo 5\",0.00021859468948849873],[\"Geo 5\",0.00025173564154889496],[\"Geo 5\",0.0003117996095027767],[\"Geo 5\",0.00043779287756571194],[\"Geo 5\",0.0007041519524769196],[\"Geo 5\",0.0011389449164362422],[\"Geo 5\",0.0016124871564129708],[\"Geo 5\",0.0019190040578052374],[\"Geo 5\",0.0020595273339538015],[\"Geo 5\",0.0022233176420007952],[\"Geo 5\",0.0023772627814753517],[\"Geo 5\",0.0022496486492646624],[\"Geo 5\",0.0018227161851071252],[\"Geo 5\",0.0014272637904666487],[\"Geo 5\",0.0012901776020594127],[\"Geo 5\",0.0012902571390560403],[\"Geo 5\",0.001190360913478205],[\"Geo 5\",0.0009339788903407469],[\"Geo 5\",0.000657046331043816],[\"Geo 5\",0.0004886225453322479],[\"Geo 5\",0.0004250545176652549],[\"Geo 5\",0.00041039815239731154],[\"Geo 5\",0.0004576994180501939],[\"Geo 5\",0.000617777039828321],[\"Geo 5\",0.0009039410324344606],[\"Geo 5\",0.001429797182750478],[\"Geo 5\",0.0028772576538503335],[\"Geo 5\",0.006910981124793736],[\"Geo 5\",0.015173699162717678],[\"Geo 5\",0.026692373735956773],[\"Geo 5\",0.037533876264791634],[\"Geo 5\",0.04425008899583189],[\"Geo 5\",0.04639418228861284],[\"Geo 5\",0.04753398733001732],[\"Geo 5\",0.05468609477931449],[\"Geo 5\",0.07431473687787517],[\"Geo 5\",0.11693504089947754],[\"Geo 5\",0.20159391225006684],[\"Geo 5\",0.3195327749135457],[\"Geo 5\",0.4],[\"Geo 5\",0.37850455785451564],[\"Geo 5\",0.28546711636496636],[\"Geo 5\",0.19749724453846731],[\"Geo 5\",0.14190970986292356],[\"Geo 5\",0.1034225177577483],[\"Geo 5\",0.07179542567086064],[\"Geo 5\",0.047369251525449727],[\"Geo 5\",0.030605785725733928],[\"Geo 5\",0.02081305774965375],[\"Geo 5\",0.016470944869965264],[\"Geo 5\",0.015052161156161169],[\"Geo 5\",0.014334719495833224],[\"Geo 5\",0.013683768727137266],[\"Geo 5\",0.014008963070497702],[\"Geo 5\",0.01681452526242684],[\"Geo 5\",0.022250090469556637],[\"Geo 5\",0.026874750319415188],[\"Geo 5\",0.025620870861779017],[\"Geo 5\",0.017984174065550678],[\"Geo 5\",0.009028980003399223],[\"Geo 5\",0.003202579502595566],[\"Geo 5\",0.0007980899925045682],[\"Geo 5\",0.00013934937335174363],[\"Geo 5\",1.7022788902849193e-05],[\"Geo 5\",1.453702712423972e-06],[\"Geo 5\",8.674237807195302e-08]],[[\"Geo 2\",-8.963693452128313e-08],[\"Geo 2\",-1.4282315167645039e-05],[\"Geo 2\",-0.0006153643188943174],[\"Geo 2\",-0.007211002563169193],[\"Geo 2\",-0.023525145765525383],[\"Geo 2\",-0.024393642800037807],[\"Geo 2\",-0.015339809915346104],[\"Geo 2\",-0.011748784539458103],[\"Geo 2\",-0.009741854219236365],[\"Geo 2\",-0.01004928392855534],[\"Geo 2\",-0.018891559758493298],[\"Geo 2\",-0.04768513799530062],[\"Geo 2\",-0.09520772772037467],[\"Geo 2\",-0.1540740524646252],[\"Geo 2\",-0.3146391579987562],[\"Geo 2\",-0.4],[\"Geo 2\",-0.1844033791255728],[\"Geo 2\",-0.07237082072054932],[\"Geo 2\",-0.042837118125521045],[\"Geo 2\",-0.04212170307058183],[\"Geo 2\",-0.038839641235979216],[\"Geo 2\",-0.021349347356015166],[\"Geo 2\",-0.004728257965356495],[\"Geo 2\",-0.0008672400090622883],[\"Geo 2\",-0.0007548787464843269],[\"Geo 2\",-0.0005453896627923306],[\"Geo 2\",-0.0004258856776721135],[\"Geo 2\",-0.00048563010125293824],[\"Geo 2\",-0.0005620588200536479],[\"Geo 2\",-0.0006023408572839463],[\"Geo 2\",-0.0010435938643369271],[\"Geo 2\",-0.0013544641731767185],[\"Geo 2\",-0.0010423544656086956],[\"Geo 2\",-0.0010660500369581185],[\"Geo 2\",-0.001310932266143725],[\"Geo 2\",-0.0009184226093676608],[\"Geo 2\",-0.00042586352851648824],[\"Geo 2\",-0.0001397762042795369],[\"Geo 2\",-4.727524571377994e-05],[\"Geo 2\",-9.179001774192903e-05],[\"Geo 2\",-0.00017650961332548893],[\"Geo 2\",-0.00032049631943633055],[\"Geo 2\",-0.0003863242201992131],[\"Geo 2\",-0.00035337726612459126],[\"Geo 2\",-0.00023676003989379945],[\"Geo 2\",-0.00024351709143153206],[\"Geo 2\",-0.0004299139626721122],[\"Geo 2\",-0.0004355848919837248],[\"Geo 2\",-0.00029714131995179965],[\"Geo 2\",-0.000337627479316224],[\"Geo 2\",-0.0003745137397979181],[\"Geo 2\",-0.00039369375088010324],[\"Geo 2\",-0.002865907091522339],[\"Geo 2\",-0.009394833348311706],[\"Geo 2\",-0.00837911663859516],[\"Geo 2\",-0.0020167306051159218],[\"Geo 2\",-0.00014235239078477734],[\"Geo 2\",-4.231480188148685e-05],[\"Geo 2\",-3.743303109444063e-05],[\"Geo 2\",-9.449224461562805e-06],[\"Geo 2\",-1.6226862199143566e-06],[\"Geo 2\",-1.6024814777359586e-05],[\"Geo 2\",-7.042387440718747e-05],[\"Geo 2\",-8.349989052049253e-05],[\"Geo 2\",-2.669154065190631e-05],[\"Geo 2\",-2.3002909263333457e-06],[\"Geo 2\",-5.344576255500924e-08],[\"Geo 2\",-3.3478437227653167e-10],[\"Geo 2\",-5.653774249498005e-13],[\"Geo 2\",-2.574145774760542e-16],[\"Geo 2\",-3.1597243646136224e-20],[\"Geo 2\",-1.0456507373329313e-24],[\"Geo 2\",-9.329223219479473e-30],[\"Geo 2\",-2.2440147565997807e-35],[\"Geo 2\",-1.4552155270597166e-41],[\"Geo 2\",-2.5441945556569658e-48],[\"Geo 2\",-1.1992085200047671e-55],[\"Geo 2\",-1.5239140716953935e-63],[\"Geo 2\",-5.220927238898874e-72],[\"Geo 2\",-3.758742301922752e-74],[\"Geo 2\",-1.5482500074577493e-65],[\"Geo 2\",-1.7193372527269447e-57],[\"Geo 2\",-5.147572154403226e-50],[\"Geo 2\",-4.154944243403985e-43],[\"Geo 2\",-9.041684422735171e-37],[\"Geo 2\",-5.304627315271517e-31],[\"Geo 2\",-8.390383218560453e-26],[\"Geo 2\",-3.577915703746995e-21],[\"Geo 2\",-4.1133891582334956e-17],[\"Geo 2\",-1.2749433301529382e-13],[\"Geo 2\",-1.0653770840463932e-10],[\"Geo 2\",-2.4001435004530975e-08],[\"Geo 2\",-1.4577815617559009e-06],[\"Geo 2\",-2.387091603053534e-05],[\"Geo 2\",-0.00010538216212898698],[\"Geo 2\",-0.00012542569376781604],[\"Geo 2\",-4.0246424774069076e-05],[\"Geo 2\",-3.481685098308479e-06],[\"Geo 2\",-8.120318399024437e-08],[\"Geo 2\",-5.10596713904143e-10],[\"Geo 2\",5.10596713904143e-10],[\"Geo 2\",8.120318399024437e-08],[\"Geo 2\",3.481685098308479e-06],[\"Geo 2\",4.0246424774069076e-05],[\"Geo 2\",0.00012542569376781604],[\"Geo 2\",0.00010538216212898698],[\"Geo 2\",2.387091603053534e-05],[\"Geo 2\",1.4577815617559009e-06],[\"Geo 2\",2.4001435004530975e-08],[\"Geo 2\",1.0653770840463932e-10],[\"Geo 2\",1.2749433301529382e-13],[\"Geo 2\",4.1133891582334956e-17],[\"Geo 2\",3.577915703746995e-21],[\"Geo 2\",8.390383218560453e-26],[\"Geo 2\",5.304627315271517e-31],[\"Geo 2\",9.041684422735171e-37],[\"Geo 2\",4.154944243403985e-43],[\"Geo 2\",5.147572154403226e-50],[\"Geo 2\",1.7193372527269447e-57],[\"Geo 2\",1.5482500074577493e-65],[\"Geo 2\",3.758742301922752e-74],[\"Geo 2\",5.220927238898874e-72],[\"Geo 2\",1.5239140716953935e-63],[\"Geo 2\",1.1992085200047671e-55],[\"Geo 2\",2.5441945556569658e-48],[\"Geo 2\",1.4552155270597166e-41],[\"Geo 2\",2.2440147565997807e-35],[\"Geo 2\",9.329223219479473e-30],[\"Geo 2\",1.0456507373329313e-24],[\"Geo 2\",3.1597243646136224e-20],[\"Geo 2\",2.574145774760542e-16],[\"Geo 2\",5.653774249498005e-13],[\"Geo 2\",3.3478437227653167e-10],[\"Geo 2\",5.344576255500924e-08],[\"Geo 2\",2.3002909263333457e-06],[\"Geo 2\",2.669154065190631e-05],[\"Geo 2\",8.349989052049253e-05],[\"Geo 2\",7.042387440718747e-05],[\"Geo 2\",1.6024814777359586e-05],[\"Geo 2\",1.6226862199143566e-06],[\"Geo 2\",9.449224461562805e-06],[\"Geo 2\",3.743303109444063e-05],[\"Geo 2\",4.231480188148685e-05],[\"Geo 2\",0.00014235239078477734],[\"Geo 2\",0.0020167306051159218],[\"Geo 2\",0.00837911663859516],[\"Geo 2\",0.009394833348311706],[\"Geo 2\",0.002865907091522339],[\"Geo 2\",0.00039369375088010324],[\"Geo 2\",0.0003745137397979181],[\"Geo 2\",0.000337627479316224],[\"Geo 2\",0.00029714131995179965],[\"Geo 2\",0.0004355848919837248],[\"Geo 2\",0.0004299139626721122],[\"Geo 2\",0.00024351709143153206],[\"Geo 2\",0.00023676003989379945],[\"Geo 2\",0.00035337726612459126],[\"Geo 2\",0.0003863242201992131],[\"Geo 2\",0.00032049631943633055],[\"Geo 2\",0.00017650961332548893],[\"Geo 2\",9.179001774192903e-05],[\"Geo 2\",4.727524571377994e-05],[\"Geo 2\",0.0001397762042795369],[\"Geo 2\",0.00042586352851648824],[\"Geo 2\",0.0009184226093676608],[\"Geo 2\",0.001310932266143725],[\"Geo 2\",0.0010660500369581185],[\"Geo 2\",0.0010423544656086956],[\"Geo 2\",0.0013544641731767185],[\"Geo 2\",0.0010435938643369271],[\"Geo 2\",0.0006023408572839463],[\"Geo 2\",0.0005620588200536479],[\"Geo 2\",0.00048563010125293824],[\"Geo 2\",0.0004258856776721135],[\"Geo 2\",0.0005453896627923306],[\"Geo 2\",0.0007548787464843269],[\"Geo 2\",0.0008672400090622883],[\"Geo 2\",0.004728257965356495],[\"Geo 2\",0.021349347356015166],[\"Geo 2\",0.038839641235979216],[\"Geo 2\",0.04212170307058183],[\"Geo 2\",0.042837118125521045],[\"Geo 2\",0.07237082072054932],[\"Geo 2\",0.1844033791255728],[\"Geo 2\",0.4],[\"Geo 2\",0.3146391579987562],[\"Geo 2\",0.1540740524646252],[\"Geo 2\",0.09520772772037467],[\"Geo 2\",0.04768513799530062],[\"Geo 2\",0.018891559758493298],[\"Geo 2\",0.01004928392855534],[\"Geo 2\",0.009741854219236365],[\"Geo 2\",0.011748784539458103],[\"Geo 2\",0.015339809915346104],[\"Geo 2\",0.024393642800037807],[\"Geo 2\",0.023525145765525383],[\"Geo 2\",0.007211002563169193],[\"Geo 2\",0.0006153643188943174],[\"Geo 2\",1.4282315167645039e-05],[\"Geo 2\",8.963693452128313e-08]],[[\"Geo 4\",-9.709072528064778e-08],[\"Geo 4\",-4.884507037726068e-06],[\"Geo 4\",-0.00011806273469560124],[\"Geo 4\",-0.0013728502499422703],[\"Geo 4\",-0.007704261721538035],[\"Geo 4\",-0.021050812234046857],[\"Geo 4\",-0.028856953859761128],[\"Geo 4\",-0.022363796581757144],[\"Geo 4\",-0.014343229914732422],[\"Geo 4\",-0.011244943304630649],[\"Geo 4\",-0.009821585770321002],[\"Geo 4\",-0.009560935360733974],[\"Geo 4\",-0.009318715464598561],[\"Geo 4\",-0.008842231272632114],[\"Geo 4\",-0.012559526304089392],[\"Geo 4\",-0.025814609137082518],[\"Geo 4\",-0.0481317917230662],[\"Geo 4\",-0.08042714932671408],[\"Geo 4\",-0.1147059264455722],[\"Geo 4\",-0.15045371404911242],[\"Geo 4\",-0.2655017952689343],[\"Geo 4\",-0.4],[\"Geo 4\",-0.3321566797108244],[\"Geo 4\",-0.1585496067592709],[\"Geo 4\",-0.07977935293101919],[\"Geo 4\",-0.056036502356990536],[\"Geo 4\",-0.039393937517148196],[\"Geo 4\",-0.03976950242352692],[\"Geo 4\",-0.04150921293172599],[\"Geo 4\",-0.036015116508017815],[\"Geo 4\",-0.02518045351164107],[\"Geo 4\",-0.011255146890355632],[\"Geo 4\",-0.0033463374338996415],[\"Geo 4\",-0.0012874726209045407],[\"Geo 4\",-0.0006966941999411538],[\"Geo 4\",-0.0005348278984551458],[\"Geo 4\",-0.0007797618090375528],[\"Geo 4\",-0.0009488648074229135],[\"Geo 4\",-0.0009306862890207301],[\"Geo 4\",-0.0011704095250477317],[\"Geo 4\",-0.0015832366376783307],[\"Geo 4\",-0.0017141811860369857],[\"Geo 4\",-0.0013981717824777945],[\"Geo 4\",-0.0009590448030716908],[\"Geo 4\",-0.0008186849346202539],[\"Geo 4\",-0.0008034096517935429],[\"Geo 4\",-0.000668827626069035],[\"Geo 4\",-0.0005875682058302704],[\"Geo 4\",-0.0006889512275696916],[\"Geo 4\",-0.0009635729037570592],[\"Geo 4\",-0.001127595312571383],[\"Geo 4\",-0.0009158131911049385],[\"Geo 4\",-0.0006138092717792332],[\"Geo 4\",-0.0004334901911548413],[\"Geo 4\",-0.000300369591136446],[\"Geo 4\",-0.00021565484481719905],[\"Geo 4\",-0.0002375330980056566],[\"Geo 4\",-0.00031994352504231697],[\"Geo 4\",-0.0003952387505520249],[\"Geo 4\",-0.00041036933839206],[\"Geo 4\",-0.00031920821926096406],[\"Geo 4\",-0.00025474482996270864],[\"Geo 4\",-0.0003131749250776092],[\"Geo 4\",-0.00037715230704878994],[\"Geo 4\",-0.0003609929163153572],[\"Geo 4\",-0.0003034649614411461],[\"Geo 4\",-0.00021632730895256838],[\"Geo 4\",-0.0001962324822242544],[\"Geo 4\",-0.0002725133277757965],[\"Geo 4\",-0.0002876886929338976],[\"Geo 4\",-0.00022867048183277444],[\"Geo 4\",-0.00025175010140845186],[\"Geo 4\",-0.00036425422717261877],[\"Geo 4\",-0.00035809683718184384],[\"Geo 4\",-0.0002026666803001113],[\"Geo 4\",-0.00020069826600680818],[\"Geo 4\",-0.0012931314540482722],[\"Geo 4\",-0.00553991991214532],[\"Geo 4\",-0.011470161019556252],[\"Geo 4\",-0.011398827597945166],[\"Geo 4\",-0.005436470493995562],[\"Geo 4\",-0.0012448475385578271],[\"Geo 4\",-0.00014136056093370114],[\"Geo 4\",-2.711022375937668e-05],[\"Geo 4\",-4.099603278601422e-05],[\"Geo 4\",-4.177578974594356e-05],[\"Geo 4\",-2.7766439225069765e-05],[\"Geo 4\",-2.389509775372854e-05],[\"Geo 4\",-2.0940797785252952e-05],[\"Geo 4\",-1.044001128017899e-05],[\"Geo 4\",-5.241073718659154e-06],[\"Geo 4\",-2.0008277282539525e-05],[\"Geo 4\",-6.69660529066551e-05],[\"Geo 4\",-0.00010904991507030744],[\"Geo 4\",-8.524250522808687e-05],[\"Geo 4\",-3.19779945642193e-05],[\"Geo 4\",-5.757166994299166e-06],[\"Geo 4\",-4.974265789628878e-07],[\"Geo 4\",-2.0625842859942813e-08],[\"Geo 4\",-4.104468996233203e-10],[\"Geo 4\",4.104468996233203e-10],[\"Geo 4\",2.0625842859942813e-08],[\"Geo 4\",4.974265789628878e-07],[\"Geo 4\",5.757166994299166e-06],[\"Geo 4\",3.19779945642193e-05],[\"Geo 4\",8.524250522808687e-05],[\"Geo 4\",0.00010904991507030744],[\"Geo 4\",6.69660529066551e-05],[\"Geo 4\",2.0008277282539525e-05],[\"Geo 4\",5.241073718659154e-06],[\"Geo 4\",1.044001128017899e-05],[\"Geo 4\",2.0940797785252952e-05],[\"Geo 4\",2.389509775372854e-05],[\"Geo 4\",2.7766439225069765e-05],[\"Geo 4\",4.177578974594356e-05],[\"Geo 4\",4.099603278601422e-05],[\"Geo 4\",2.711022375937668e-05],[\"Geo 4\",0.00014136056093370114],[\"Geo 4\",0.0012448475385578271],[\"Geo 4\",0.005436470493995562],[\"Geo 4\",0.011398827597945166],[\"Geo 4\",0.011470161019556252],[\"Geo 4\",0.00553991991214532],[\"Geo 4\",0.0012931314540482722],[\"Geo 4\",0.00020069826600680818],[\"Geo 4\",0.0002026666803001113],[\"Geo 4\",0.00035809683718184384],[\"Geo 4\",0.00036425422717261877],[\"Geo 4\",0.00025175010140845186],[\"Geo 4\",0.00022867048183277444],[\"Geo 4\",0.0002876886929338976],[\"Geo 4\",0.0002725133277757965],[\"Geo 4\",0.0001962324822242544],[\"Geo 4\",0.00021632730895256838],[\"Geo 4\",0.0003034649614411461],[\"Geo 4\",0.0003609929163153572],[\"Geo 4\",0.00037715230704878994],[\"Geo 4\",0.0003131749250776092],[\"Geo 4\",0.00025474482996270864],[\"Geo 4\",0.00031920821926096406],[\"Geo 4\",0.00041036933839206],[\"Geo 4\",0.0003952387505520249],[\"Geo 4\",0.00031994352504231697],[\"Geo 4\",0.0002375330980056566],[\"Geo 4\",0.00021565484481719905],[\"Geo 4\",0.000300369591136446],[\"Geo 4\",0.0004334901911548413],[\"Geo 4\",0.0006138092717792332],[\"Geo 4\",0.0009158131911049385],[\"Geo 4\",0.001127595312571383],[\"Geo 4\",0.0009635729037570592],[\"Geo 4\",0.0006889512275696916],[\"Geo 4\",0.0005875682058302704],[\"Geo 4\",0.000668827626069035],[\"Geo 4\",0.0008034096517935429],[\"Geo 4\",0.0008186849346202539],[\"Geo 4\",0.0009590448030716908],[\"Geo 4\",0.0013981717824777945],[\"Geo 4\",0.0017141811860369857],[\"Geo 4\",0.0015832366376783307],[\"Geo 4\",0.0011704095250477317],[\"Geo 4\",0.0009306862890207301],[\"Geo 4\",0.0009488648074229135],[\"Geo 4\",0.0007797618090375528],[\"Geo 4\",0.0005348278984551458],[\"Geo 4\",0.0006966941999411538],[\"Geo 4\",0.0012874726209045407],[\"Geo 4\",0.0033463374338996415],[\"Geo 4\",0.011255146890355632],[\"Geo 4\",0.02518045351164107],[\"Geo 4\",0.036015116508017815],[\"Geo 4\",0.04150921293172599],[\"Geo 4\",0.03976950242352692],[\"Geo 4\",0.039393937517148196],[\"Geo 4\",0.056036502356990536],[\"Geo 4\",0.07977935293101919],[\"Geo 4\",0.1585496067592709],[\"Geo 4\",0.3321566797108244],[\"Geo 4\",0.4],[\"Geo 4\",0.2655017952689343],[\"Geo 4\",0.15045371404911242],[\"Geo 4\",0.1147059264455722],[\"Geo 4\",0.08042714932671408],[\"Geo 4\",0.0481317917230662],[\"Geo 4\",0.025814609137082518],[\"Geo 4\",0.012559526304089392],[\"Geo 4\",0.008842231272632114],[\"Geo 4\",0.009318715464598561],[\"Geo 4\",0.009560935360733974],[\"Geo 4\",0.009821585770321002],[\"Geo 4\",0.011244943304630649],[\"Geo 4\",0.014343229914732422],[\"Geo 4\",0.022363796581757144],[\"Geo 4\",0.028856953859761128],[\"Geo 4\",0.021050812234046857],[\"Geo 4\",0.007704261721538035],[\"Geo 4\",0.0013728502499422703],[\"Geo 4\",0.00011806273469560124],[\"Geo 4\",4.884507037726068e-06],[\"Geo 4\",9.709072528064778e-08]]],\"ys\":[{\"__ndarray__\":\"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\",\"dtype\":\"float64\",\"order\":\"little\",\"shape\":[200]},{\"__ndarray__\":\"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\",\"dtype\":\"float64\",\"order\":\"little\",\"shape\":[200]},{\"__ndarray__\":\"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\",\"dtype\":\"float64\",\"order\":\"little\",\"shape\":[200]},{\"__ndarray__\":\"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\",\"dtype\":\"float64\",\"order\":\"little\",\"shape\":[200]},{\"__ndarray__\":\"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\",\"dtype\":\"float64\",\"order\":\"little\",\"shape\":[200]}]},\"selected\":{\"id\":\"2413\"},\"selection_policy\":{\"id\":\"2412\"}},\"id\":\"2373\",\"type\":\"ColumnDataSource\"},{\"attributes\":{\"bottom_units\":\"screen\",\"fill_alpha\":0.5,\"fill_color\":\"lightgrey\",\"left_units\":\"screen\",\"level\":\"overlay\",\"line_alpha\":1.0,\"line_color\":\"black\",\"line_dash\":[4,4],\"line_width\":2,\"right_units\":\"screen\",\"top_units\":\"screen\"},\"id\":\"2366\",\"type\":\"BoxAnnotation\"},{\"attributes\":{\"source\":{\"id\":\"2397\"}},\"id\":\"2402\",\"type\":\"CDSView\"},{\"attributes\":{\"xs\":{\"field\":\"xs\"},\"ys\":{\"field\":\"ys\"}},\"id\":\"2381\",\"type\":\"MultiLine\"},{\"attributes\":{},\"id\":\"2413\",\"type\":\"Selection\"},{\"attributes\":{},\"id\":\"2415\",\"type\":\"Selection\"},{\"attributes\":{\"children\":[{\"id\":\"2342\"},{\"id\":\"2345\"},{\"id\":\"2439\"}],\"margin\":[0,0,0,0],\"name\":\"Row04308\",\"tags\":[\"embedded\"]},\"id\":\"2341\",\"type\":\"Row\"},{\"attributes\":{\"data\":{\"x\":[[\"Geo 1\",0],[\"Geo 3\",0],[\"Geo 5\",0],[\"Geo 2\",0],[\"Geo 4\",0]],\"y\":{\"__ndarray__\":\"rkfhehSuEkAAAAAAAAAUQAAAAAAAABRAAAAAAAAAFEAAAAAAAAAUQA==\",\"dtype\":\"float64\",\"order\":\"little\",\"shape\":[5]}},\"selected\":{\"id\":\"2421\"},\"selection_policy\":{\"id\":\"2420\"}},\"id\":\"2397\",\"type\":\"ColumnDataSource\"},{\"attributes\":{\"data_source\":{\"id\":\"2391\"},\"glyph\":{\"id\":\"2393\"},\"hover_glyph\":null,\"muted_glyph\":null,\"nonselection_glyph\":{\"id\":\"2394\"},\"selection_glyph\":null,\"view\":{\"id\":\"2396\"}},\"id\":\"2395\",\"type\":\"GlyphRenderer\"},{\"attributes\":{\"source\":{\"id\":\"2373\"}},\"id\":\"2378\",\"type\":\"CDSView\"},{\"attributes\":{},\"id\":\"2365\",\"type\":\"ResetTool\"},{\"attributes\":{\"fill_alpha\":{\"value\":0.5},\"fill_color\":{\"value\":\"#1f77b3\"},\"line_color\":{\"value\":\"#1f77b4\"},\"line_width\":{\"value\":0},\"xs\":{\"field\":\"xs\"},\"ys\":{\"field\":\"ys\"}},\"id\":\"2375\",\"type\":\"Patches\"},{\"attributes\":{\"data_source\":{\"id\":\"2385\"},\"glyph\":{\"id\":\"2387\"},\"hover_glyph\":null,\"muted_glyph\":null,\"nonselection_glyph\":{\"id\":\"2388\"},\"selection_glyph\":null,\"view\":{\"id\":\"2390\"}},\"id\":\"2389\",\"type\":\"GlyphRenderer\"},{\"attributes\":{\"source\":{\"id\":\"2385\"}},\"id\":\"2390\",\"type\":\"CDSView\"},{\"attributes\":{\"axis\":{\"id\":\"2357\"},\"dimension\":1,\"grid_line_color\":null,\"ticker\":null},\"id\":\"2360\",\"type\":\"Grid\"},{\"attributes\":{},\"id\":\"2358\",\"type\":\"BasicTicker\"},{\"attributes\":{},\"id\":\"2418\",\"type\":\"UnionRenderers\"},{\"attributes\":{},\"id\":\"2419\",\"type\":\"Selection\"},{\"attributes\":{\"source\":{\"id\":\"2391\"}},\"id\":\"2396\",\"type\":\"CDSView\"},{\"attributes\":{\"line_alpha\":{\"value\":0.1},\"x0\":{\"field\":\"x\"},\"x1\":{\"field\":\"x\"},\"y0\":{\"field\":\"y0\"},\"y1\":{\"field\":\"y1\"}},\"id\":\"2388\",\"type\":\"Segment\"},{\"attributes\":{\"data_source\":{\"id\":\"2379\"},\"glyph\":{\"id\":\"2381\"},\"hover_glyph\":null,\"muted_glyph\":null,\"nonselection_glyph\":{\"id\":\"2382\"},\"selection_glyph\":null,\"view\":{\"id\":\"2384\"}},\"id\":\"2383\",\"type\":\"GlyphRenderer\"},{\"attributes\":{},\"id\":\"2350\",\"type\":\"CategoricalScale\"},{\"attributes\":{\"axis_label\":\"transition_time_days\",\"bounds\":\"auto\",\"formatter\":{\"id\":\"2405\"},\"major_label_orientation\":\"horizontal\",\"ticker\":{\"id\":\"2358\"}},\"id\":\"2357\",\"type\":\"LinearAxis\"},{\"attributes\":{},\"id\":\"2414\",\"type\":\"UnionRenderers\"},{\"attributes\":{\"active_drag\":\"auto\",\"active_inspect\":\"auto\",\"active_multi\":null,\"active_scroll\":\"auto\",\"active_tap\":\"auto\",\"tools\":[{\"id\":\"2361\"},{\"id\":\"2362\"},{\"id\":\"2363\"},{\"id\":\"2364\"},{\"id\":\"2365\"}]},\"id\":\"2367\",\"type\":\"Toolbar\"},{\"attributes\":{\"fill_alpha\":{\"value\":0.1},\"fill_color\":{\"value\":\"white\"},\"line_alpha\":{\"value\":0.1},\"line_color\":{\"value\":\"white\"},\"x\":{\"field\":\"x\"},\"y\":{\"field\":\"y\"}},\"id\":\"2400\",\"type\":\"Scatter\"},{\"attributes\":{\"margin\":[5,5,5,5],\"name\":\"HSpacer04313\",\"sizing_mode\":\"stretch_width\"},\"id\":\"2439\",\"type\":\"Spacer\"}],\"root_ids\":[\"2341\"]},\"title\":\"Bokeh Application\",\"version\":\"2.2.3\"}};\n",
       "  var render_items = [{\"docid\":\"f8bc4fad-8f8a-453c-a6bd-d545b5816d87\",\"root_ids\":[\"2341\"],\"roots\":{\"2341\":\"56806a27-eece-46e7-abaa-5a9bbc35c0f9\"}}];\n",
       "  root.Bokeh.embed.embed_items_notebook(docs_json, render_items);\n",
       "  }\n",
       "if (root.Bokeh !== undefined) {\n",
       "    embed_document(root);\n",
       "  } else {\n",
       "    var attempts = 0;\n",
       "    var timer = setInterval(function(root) {\n",
       "      if (root.Bokeh !== undefined) {\n",
       "        clearInterval(timer);\n",
       "        embed_document(root);\n",
       "      } else if (document.readyState == \"complete\") {\n",
       "        attempts++;\n",
       "        if (attempts > 100) {\n",
       "          clearInterval(timer);\n",
       "          console.log(\"Bokeh: ERROR: Unable to run BokehJS code because BokehJS library is missing\");\n",
       "        }\n",
       "      }\n",
       "    }, 10, root)\n",
       "  }\n",
       "})(window);</script>"
      ],
      "text/plain": [
       ":Violin   [geography]   (transition_time_days)"
      ]
     },
     "execution_count": 53,
     "metadata": {
      "application/vnd.holoviews_exec.v0+json": {
       "id": "2341"
      }
     },
     "output_type": "execute_result"
    }
   ],
   "source": [
    "print(merge.groupby(['geography'])['transition_time_days'].mean().round(2))\n",
    "ta_analysis.get_bivariate_plots(df=merge, x_cols='geography', y_cols='transition_time_days')"
   ]
  },
  {
   "cell_type": "code",
   "execution_count": 54,
   "metadata": {},
   "outputs": [
    {
     "name": "stdout",
     "output_type": "stream",
     "text": [
      "Reject Null Hypothesis\n",
      "p-value: 0.0\n"
     ]
    }
   ],
   "source": [
    "cont_tab = pd.crosstab(merge['geography'], merge['transition_time_days'])\n",
    "stat, p, dof, expected = stats.chi2_contingency(cont_tab)\n",
    "\n",
    "if p < alpha:\n",
    "    print('Reject Null Hypothesis')\n",
    "else:\n",
    "    print('Failed to Reject Null Hypothesis')\n",
    "\n",
    "print('p-value:', round(p, 3))"
   ]
  },
  {
   "cell_type": "markdown",
   "metadata": {},
   "source": [
    "* At __5% significance__, We can __reject the null hypothesis__, that means, there is a significant difference in transition time for different geographies."
   ]
  },
  {
   "cell_type": "markdown",
   "metadata": {},
   "source": [
    "#### 2. Are Losses more likely to happen in early stages i.e., Stage 5, 6\n",
    "* `h0`: Mean of Conversion to Win, is __more__ in Early Stages than in Later Stages\n",
    "* `h1`: Mean of Conversion to Win, is __less__ in Early Stages than in Later Stages"
   ]
  },
  {
   "cell_type": "code",
   "execution_count": 55,
   "metadata": {},
   "outputs": [
    {
     "name": "stdout",
     "output_type": "stream",
     "text": [
      "early_stages\n",
      "False    0.753795\n",
      "True     0.043778\n",
      "Name: did_convert, dtype: float64\n"
     ]
    },
    {
     "data": {},
     "metadata": {},
     "output_type": "display_data"
    },
    {
     "data": {
      "application/vnd.holoviews_exec.v0+json": "",
      "text/html": [
       "<div id='2521'>\n",
       "\n",
       "\n",
       "\n",
       "\n",
       "\n",
       "  <div class=\"bk-root\" id=\"aa3ab26b-5f1f-4353-bdee-85fc80db625b\" data-root-id=\"2521\"></div>\n",
       "</div>\n",
       "<script type=\"application/javascript\">(function(root) {\n",
       "  function embed_document(root) {\n",
       "  var docs_json = {\"971334b2-0950-4b1f-97f7-90d67bd15bd2\":{\"roots\":{\"references\":[{\"attributes\":{},\"id\":\"2569\",\"type\":\"UnionRenderers\"},{\"attributes\":{\"items\":[{\"id\":\"2573\"}],\"location\":[0,0]},\"id\":\"2572\",\"type\":\"Legend\"},{\"attributes\":{},\"id\":\"2565\",\"type\":\"CategoricalTickFormatter\"},{\"attributes\":{},\"id\":\"2567\",\"type\":\"BasicTickFormatter\"},{\"attributes\":{\"children\":[{\"id\":\"2522\"},{\"id\":\"2526\"},{\"id\":\"2594\"}],\"margin\":[0,0,0,0],\"name\":\"Row04709\",\"tags\":[\"embedded\"]},\"id\":\"2521\",\"type\":\"Row\"},{\"attributes\":{\"axis_label\":\"Number of Observations\",\"bounds\":\"auto\",\"formatter\":{\"id\":\"2567\"},\"major_label_orientation\":\"horizontal\",\"ticker\":{\"id\":\"2539\"}},\"id\":\"2538\",\"type\":\"LinearAxis\"},{\"attributes\":{\"factors\":[\"False\",\"True\"],\"palette\":[\"#1f77b3\",\"#ff7e0e\"]},\"id\":\"2555\",\"type\":\"CategoricalColorMapper\"},{\"attributes\":{\"axis\":{\"id\":\"2538\"},\"dimension\":1,\"grid_line_color\":null,\"ticker\":null},\"id\":\"2541\",\"type\":\"Grid\"},{\"attributes\":{\"margin\":[5,5,5,5],\"name\":\"HSpacer04713\",\"sizing_mode\":\"stretch_width\"},\"id\":\"2522\",\"type\":\"Spacer\"},{\"attributes\":{},\"id\":\"2557\",\"type\":\"Selection\"},{\"attributes\":{\"bottom\":{\"field\":\"bottom\"},\"fill_color\":{\"field\":\"early_stages\",\"transform\":{\"id\":\"2555\"}},\"top\":{\"field\":\"top\"},\"width\":{\"value\":0.8},\"x\":{\"field\":\"did_convert\"}},\"id\":\"2559\",\"type\":\"VBar\"},{\"attributes\":{\"label\":{\"field\":\"early_stages\"},\"renderers\":[{\"id\":\"2562\"}]},\"id\":\"2573\",\"type\":\"LegendItem\"},{\"attributes\":{\"bottom_units\":\"screen\",\"fill_alpha\":0.5,\"fill_color\":\"lightgrey\",\"left_units\":\"screen\",\"level\":\"overlay\",\"line_alpha\":1.0,\"line_color\":\"black\",\"line_dash\":[4,4],\"line_width\":2,\"right_units\":\"screen\",\"top_units\":\"screen\"},\"id\":\"2547\",\"type\":\"BoxAnnotation\"},{\"attributes\":{},\"id\":\"2539\",\"type\":\"BasicTicker\"},{\"attributes\":{\"bottom\":{\"field\":\"bottom\"},\"fill_alpha\":{\"value\":0.2},\"fill_color\":{\"field\":\"early_stages\",\"transform\":{\"id\":\"2555\"}},\"line_alpha\":{\"value\":0.2},\"top\":{\"field\":\"top\"},\"width\":{\"value\":0.8},\"x\":{\"field\":\"did_convert\"}},\"id\":\"2561\",\"type\":\"VBar\"},{\"attributes\":{},\"id\":\"2546\",\"type\":\"ResetTool\"},{\"attributes\":{\"align\":null,\"below\":[{\"id\":\"2535\"}],\"center\":[{\"id\":\"2537\"},{\"id\":\"2541\"},{\"id\":\"2572\"}],\"left\":[{\"id\":\"2538\"}],\"margin\":null,\"min_border_bottom\":10,\"min_border_left\":10,\"min_border_right\":10,\"min_border_top\":10,\"plot_height\":300,\"plot_width\":700,\"renderers\":[{\"id\":\"2562\"}],\"right\":[{\"id\":\"2572\"}],\"sizing_mode\":\"fixed\",\"title\":{\"id\":\"2527\"},\"toolbar\":{\"id\":\"2548\"},\"x_range\":{\"id\":\"2523\"},\"x_scale\":{\"id\":\"2531\"},\"y_range\":{\"id\":\"2524\"},\"y_scale\":{\"id\":\"2533\"}},\"id\":\"2526\",\"subtype\":\"Figure\",\"type\":\"Plot\"},{\"attributes\":{\"data_source\":{\"id\":\"2556\"},\"glyph\":{\"id\":\"2559\"},\"hover_glyph\":null,\"muted_glyph\":{\"id\":\"2561\"},\"nonselection_glyph\":{\"id\":\"2560\"},\"selection_glyph\":null,\"view\":{\"id\":\"2563\"}},\"id\":\"2562\",\"type\":\"GlyphRenderer\"},{\"attributes\":{\"active_drag\":\"auto\",\"active_inspect\":\"auto\",\"active_multi\":null,\"active_scroll\":\"auto\",\"active_tap\":\"auto\",\"tools\":[{\"id\":\"2525\"},{\"id\":\"2542\"},{\"id\":\"2543\"},{\"id\":\"2544\"},{\"id\":\"2545\"},{\"id\":\"2546\"}]},\"id\":\"2548\",\"type\":\"Toolbar\"},{\"attributes\":{},\"id\":\"2544\",\"type\":\"WheelZoomTool\"},{\"attributes\":{\"bottom\":{\"field\":\"bottom\"},\"fill_alpha\":{\"value\":0.1},\"fill_color\":{\"field\":\"early_stages\",\"transform\":{\"id\":\"2555\"}},\"line_alpha\":{\"value\":0.1},\"top\":{\"field\":\"top\"},\"width\":{\"value\":0.8},\"x\":{\"field\":\"did_convert\"}},\"id\":\"2560\",\"type\":\"VBar\"},{\"attributes\":{},\"id\":\"2536\",\"type\":\"CategoricalTicker\"},{\"attributes\":{\"factors\":[\"False\",\"True\"],\"tags\":[[[\"did_convert\",\"did_convert\",null]]]},\"id\":\"2523\",\"type\":\"FactorRange\"},{\"attributes\":{\"axis_label\":\"did_convert\",\"bounds\":\"auto\",\"formatter\":{\"id\":\"2565\"},\"major_label_orientation\":0.7853981633974483,\"ticker\":{\"id\":\"2536\"}},\"id\":\"2535\",\"type\":\"CategoricalAxis\"},{\"attributes\":{\"text\":\"Mutual Information: 0.174\",\"text_color\":{\"value\":\"black\"},\"text_font_size\":{\"value\":\"12pt\"}},\"id\":\"2527\",\"type\":\"Title\"},{\"attributes\":{\"callback\":null,\"renderers\":[{\"id\":\"2562\"}],\"tags\":[\"hv_created\"],\"tooltips\":[[\"did_convert\",\"@{did_convert}\"],[\"early_stages\",\"@{early_stages}\"],[\"count\",\"@{count}\"]]},\"id\":\"2525\",\"type\":\"HoverTool\"},{\"attributes\":{\"margin\":[5,5,5,5],\"name\":\"HSpacer04714\",\"sizing_mode\":\"stretch_width\"},\"id\":\"2594\",\"type\":\"Spacer\"},{\"attributes\":{},\"id\":\"2533\",\"type\":\"LinearScale\"},{\"attributes\":{\"source\":{\"id\":\"2556\"}},\"id\":\"2563\",\"type\":\"CDSView\"},{\"attributes\":{},\"id\":\"2542\",\"type\":\"SaveTool\"},{\"attributes\":{\"axis\":{\"id\":\"2535\"},\"grid_line_color\":null,\"ticker\":null},\"id\":\"2537\",\"type\":\"Grid\"},{\"attributes\":{\"overlay\":{\"id\":\"2547\"}},\"id\":\"2545\",\"type\":\"BoxZoomTool\"},{\"attributes\":{},\"id\":\"2543\",\"type\":\"PanTool\"},{\"attributes\":{\"data\":{\"bottom\":{\"__ndarray__\":\"AAAAAAAAAAAAAAAAAAAAAAAAAAAANtNAAAAAAKBo7UA=\",\"dtype\":\"float64\",\"order\":\"little\",\"shape\":[4]},\"count\":[19672,60229,17212,788],\"did_convert\":[\"False\",\"True\",\"False\",\"True\"],\"early_stages\":[\"False\",\"False\",\"True\",\"True\"],\"top\":{\"__ndarray__\":\"AAAAAAA200AAAAAAoGjtQAAAAACAAuJAAAAAACDL7UA=\",\"dtype\":\"float64\",\"order\":\"little\",\"shape\":[4]}},\"selected\":{\"id\":\"2557\"},\"selection_policy\":{\"id\":\"2569\"}},\"id\":\"2556\",\"type\":\"ColumnDataSource\"},{\"attributes\":{},\"id\":\"2531\",\"type\":\"CategoricalScale\"},{\"attributes\":{\"end\":63430.3,\"reset_end\":63430.3,\"reset_start\":0.0,\"tags\":[[[\"count\",\"count\",null]]]},\"id\":\"2524\",\"type\":\"Range1d\"}],\"root_ids\":[\"2521\"]},\"title\":\"Bokeh Application\",\"version\":\"2.2.3\"}};\n",
       "  var render_items = [{\"docid\":\"971334b2-0950-4b1f-97f7-90d67bd15bd2\",\"root_ids\":[\"2521\"],\"roots\":{\"2521\":\"aa3ab26b-5f1f-4353-bdee-85fc80db625b\"}}];\n",
       "  root.Bokeh.embed.embed_items_notebook(docs_json, render_items);\n",
       "  }\n",
       "if (root.Bokeh !== undefined) {\n",
       "    embed_document(root);\n",
       "  } else {\n",
       "    var attempts = 0;\n",
       "    var timer = setInterval(function(root) {\n",
       "      if (root.Bokeh !== undefined) {\n",
       "        clearInterval(timer);\n",
       "        embed_document(root);\n",
       "      } else if (document.readyState == \"complete\") {\n",
       "        attempts++;\n",
       "        if (attempts > 100) {\n",
       "          clearInterval(timer);\n",
       "          console.log(\"Bokeh: ERROR: Unable to run BokehJS code because BokehJS library is missing\");\n",
       "        }\n",
       "      }\n",
       "    }, 10, root)\n",
       "  }\n",
       "})(window);</script>"
      ],
      "text/plain": [
       ":Bars   [did_convert,early_stages]   (count)"
      ]
     },
     "execution_count": 55,
     "metadata": {
      "application/vnd.holoviews_exec.v0+json": {
       "id": "2521"
      }
     },
     "output_type": "execute_result"
    }
   ],
   "source": [
    "print(merge.groupby(['early_stages'])['did_convert'].mean())\n",
    "ta_analysis.get_bivariate_plots(df=merge, x_cols='did_convert', y_cols='early_stages')"
   ]
  },
  {
   "cell_type": "code",
   "execution_count": 56,
   "metadata": {},
   "outputs": [
    {
     "name": "stdout",
     "output_type": "stream",
     "text": [
      "Reject Null Hypothesis\n",
      "p-value: 0.0\n"
     ]
    }
   ],
   "source": [
    "# from scipy.stats.contingency import crosstab\n",
    "cont_tab = pd.crosstab(merge['did_convert'], merge['early_stages'])\n",
    "stat, p, dof, expected = stats.chi2_contingency(cont_tab)\n",
    "\n",
    "if p < alpha:\n",
    "    print('Reject Null Hypothesis')\n",
    "else:\n",
    "    print('Failed to Reject Null Hypothesis')\n",
    "\n",
    "print('p-value:', round(p, 3))"
   ]
  },
  {
   "cell_type": "markdown",
   "metadata": {
    "collapsed": "true"
   },
   "source": [
    "* At __5% significance__, We can __reject the null hypothesis__, that means, there are more losses in early stages than in later stages."
   ]
  },
  {
   "cell_type": "markdown",
   "metadata": {},
   "source": [
    "#### 3. Does the proportion of Won lines in an Opportunity significantly different across Product Categories?\n",
    "* `h0`: Mean of Conversion to Win, is __same__ across all product categories (Unrelated)\n",
    "* `h1`: Mean of Conversion to Win, is __different__ across all product categories (Related)"
   ]
  },
  {
   "cell_type": "code",
   "execution_count": 57,
   "metadata": {},
   "outputs": [
    {
     "name": "stdout",
     "output_type": "stream",
     "text": [
      "core_product_segment\n",
      "Core Prd Seg 2    0.000000\n",
      "Core Prd Seg 3    0.638216\n",
      "Core Prd Seg 4    0.485122\n",
      "Core Prd Seg 5    0.170297\n",
      "Core Prd Seg 6    0.338983\n",
      "Core Prd Seg 7    0.126761\n",
      "Core Prd Seg 8    0.244330\n",
      "Core Prd Seg 9    0.000000\n",
      "Name: did_convert, dtype: float64\n"
     ]
    },
    {
     "data": {},
     "metadata": {},
     "output_type": "display_data"
    },
    {
     "data": {
      "application/vnd.holoviews_exec.v0+json": "",
      "text/html": [
       "<div id='2636'>\n",
       "\n",
       "\n",
       "\n",
       "\n",
       "\n",
       "  <div class=\"bk-root\" id=\"41c8b0c1-0a91-46a1-9e88-34ef694ee2fd\" data-root-id=\"2636\"></div>\n",
       "</div>\n",
       "<script type=\"application/javascript\">(function(root) {\n",
       "  function embed_document(root) {\n",
       "  var docs_json = {\"dc784ce0-16d5-44e2-8cff-e100fafefee7\":{\"roots\":{\"references\":[{\"attributes\":{},\"id\":\"2680\",\"type\":\"CategoricalTickFormatter\"},{\"attributes\":{},\"id\":\"2657\",\"type\":\"SaveTool\"},{\"attributes\":{\"margin\":[5,5,5,5],\"name\":\"HSpacer05019\",\"sizing_mode\":\"stretch_width\"},\"id\":\"2709\",\"type\":\"Spacer\"},{\"attributes\":{},\"id\":\"2661\",\"type\":\"ResetTool\"},{\"attributes\":{},\"id\":\"2682\",\"type\":\"BasicTickFormatter\"},{\"attributes\":{\"align\":null,\"below\":[{\"id\":\"2650\"}],\"center\":[{\"id\":\"2652\"},{\"id\":\"2656\"},{\"id\":\"2687\"}],\"left\":[{\"id\":\"2653\"}],\"margin\":null,\"min_border_bottom\":10,\"min_border_left\":10,\"min_border_right\":10,\"min_border_top\":10,\"plot_height\":300,\"plot_width\":700,\"renderers\":[{\"id\":\"2677\"}],\"right\":[{\"id\":\"2687\"}],\"sizing_mode\":\"fixed\",\"title\":{\"id\":\"2642\"},\"toolbar\":{\"id\":\"2663\"},\"x_range\":{\"id\":\"2638\"},\"x_scale\":{\"id\":\"2646\"},\"y_range\":{\"id\":\"2639\"},\"y_scale\":{\"id\":\"2648\"}},\"id\":\"2641\",\"subtype\":\"Figure\",\"type\":\"Plot\"},{\"attributes\":{},\"id\":\"2672\",\"type\":\"Selection\"},{\"attributes\":{},\"id\":\"2646\",\"type\":\"CategoricalScale\"},{\"attributes\":{\"factors\":[\"False\",\"True\"],\"palette\":[\"#1f77b3\",\"#ff7e0e\"]},\"id\":\"2670\",\"type\":\"CategoricalColorMapper\"},{\"attributes\":{},\"id\":\"2684\",\"type\":\"UnionRenderers\"},{\"attributes\":{\"margin\":[5,5,5,5],\"name\":\"HSpacer05018\",\"sizing_mode\":\"stretch_width\"},\"id\":\"2637\",\"type\":\"Spacer\"},{\"attributes\":{},\"id\":\"2651\",\"type\":\"CategoricalTicker\"},{\"attributes\":{},\"id\":\"2658\",\"type\":\"PanTool\"},{\"attributes\":{},\"id\":\"2659\",\"type\":\"WheelZoomTool\"},{\"attributes\":{\"data\":{\"bottom\":{\"__ndarray__\":\"AAAAAAAAAAAAAAAAAAAAAAAAAAAAAAAAAAAAAAAAAAAAAAAAAAAAAAAAAAAAAAAAAAAAAAAAAAAAAAAAAAAAAAAAAADAUOBAAAAAAADEmkAAAAAAADCKQAAAAAAAgFNAAAAAAAAAT0AAAAAAAOiGQA==\",\"dtype\":\"float64\",\"order\":\"little\",\"shape\":[14]},\"core_product_segment\":[\"Core Prd Seg 2\",\"Core Prd Seg 3\",\"Core Prd Seg 4\",\"Core Prd Seg 5\",\"Core Prd Seg 6\",\"Core Prd Seg 7\",\"Core Prd Seg 8\",\"Core Prd Seg 9\",\"Core Prd Seg 3\",\"Core Prd Seg 4\",\"Core Prd Seg 5\",\"Core Prd Seg 6\",\"Core Prd Seg 7\",\"Core Prd Seg 8\"],\"count\":[38,33414,1713,838,78,62,733,8,58945,1614,172,40,9,237],\"did_convert\":[\"False\",\"False\",\"False\",\"False\",\"False\",\"False\",\"False\",\"False\",\"True\",\"True\",\"True\",\"True\",\"True\",\"True\"],\"top\":{\"__ndarray__\":\"AAAAAAAAQ0AAAAAAwFDgQAAAAAAAxJpAAAAAAAAwikAAAAAAAIBTQAAAAAAAAE9AAAAAAADohkAAAAAAAAAgQAAAAABwjPZAAAAAAAD+qUAAAAAAAJCPQAAAAAAAgF1AAAAAAADAUUAAAAAAAFCOQA==\",\"dtype\":\"float64\",\"order\":\"little\",\"shape\":[14]}},\"selected\":{\"id\":\"2672\"},\"selection_policy\":{\"id\":\"2684\"}},\"id\":\"2671\",\"type\":\"ColumnDataSource\"},{\"attributes\":{\"items\":[{\"id\":\"2688\"}],\"location\":[0,0]},\"id\":\"2687\",\"type\":\"Legend\"},{\"attributes\":{\"bottom\":{\"field\":\"bottom\"},\"fill_color\":{\"field\":\"did_convert\",\"transform\":{\"id\":\"2670\"}},\"top\":{\"field\":\"top\"},\"width\":{\"value\":0.8},\"x\":{\"field\":\"core_product_segment\"}},\"id\":\"2674\",\"type\":\"VBar\"},{\"attributes\":{\"axis_label\":\"core_product_segment\",\"bounds\":\"auto\",\"formatter\":{\"id\":\"2680\"},\"major_label_orientation\":0.7853981633974483,\"ticker\":{\"id\":\"2651\"}},\"id\":\"2650\",\"type\":\"CategoricalAxis\"},{\"attributes\":{\"bottom\":{\"field\":\"bottom\"},\"fill_alpha\":{\"value\":0.1},\"fill_color\":{\"field\":\"did_convert\",\"transform\":{\"id\":\"2670\"}},\"line_alpha\":{\"value\":0.1},\"top\":{\"field\":\"top\"},\"width\":{\"value\":0.8},\"x\":{\"field\":\"core_product_segment\"}},\"id\":\"2675\",\"type\":\"VBar\"},{\"attributes\":{\"text\":\"Mutual Information: 0.01\",\"text_color\":{\"value\":\"black\"},\"text_font_size\":{\"value\":\"12pt\"}},\"id\":\"2642\",\"type\":\"Title\"},{\"attributes\":{\"axis_label\":\"Number of Observations\",\"bounds\":\"auto\",\"formatter\":{\"id\":\"2682\"},\"major_label_orientation\":\"horizontal\",\"ticker\":{\"id\":\"2654\"}},\"id\":\"2653\",\"type\":\"LinearAxis\"},{\"attributes\":{\"factors\":[\"Core Prd Seg 2\",\"Core Prd Seg 3\",\"Core Prd Seg 4\",\"Core Prd Seg 5\",\"Core Prd Seg 6\",\"Core Prd Seg 7\",\"Core Prd Seg 8\",\"Core Prd Seg 9\"],\"tags\":[[[\"core_product_segment\",\"core_product_segment\",null]]]},\"id\":\"2638\",\"type\":\"FactorRange\"},{\"attributes\":{\"end\":101594.1,\"reset_end\":101594.1,\"reset_start\":0.0,\"tags\":[[[\"count\",\"count\",null]]]},\"id\":\"2639\",\"type\":\"Range1d\"},{\"attributes\":{},\"id\":\"2648\",\"type\":\"LinearScale\"},{\"attributes\":{\"callback\":null,\"renderers\":[{\"id\":\"2677\"}],\"tags\":[\"hv_created\"],\"tooltips\":[[\"core_product_segment\",\"@{core_product_segment}\"],[\"did_convert\",\"@{did_convert}\"],[\"count\",\"@{count}\"]]},\"id\":\"2640\",\"type\":\"HoverTool\"},{\"attributes\":{},\"id\":\"2654\",\"type\":\"BasicTicker\"},{\"attributes\":{\"children\":[{\"id\":\"2637\"},{\"id\":\"2641\"},{\"id\":\"2709\"}],\"margin\":[0,0,0,0],\"name\":\"Row05014\",\"tags\":[\"embedded\"]},\"id\":\"2636\",\"type\":\"Row\"},{\"attributes\":{\"overlay\":{\"id\":\"2662\"}},\"id\":\"2660\",\"type\":\"BoxZoomTool\"},{\"attributes\":{\"active_drag\":\"auto\",\"active_inspect\":\"auto\",\"active_multi\":null,\"active_scroll\":\"auto\",\"active_tap\":\"auto\",\"tools\":[{\"id\":\"2640\"},{\"id\":\"2657\"},{\"id\":\"2658\"},{\"id\":\"2659\"},{\"id\":\"2660\"},{\"id\":\"2661\"}]},\"id\":\"2663\",\"type\":\"Toolbar\"},{\"attributes\":{\"bottom\":{\"field\":\"bottom\"},\"fill_alpha\":{\"value\":0.2},\"fill_color\":{\"field\":\"did_convert\",\"transform\":{\"id\":\"2670\"}},\"line_alpha\":{\"value\":0.2},\"top\":{\"field\":\"top\"},\"width\":{\"value\":0.8},\"x\":{\"field\":\"core_product_segment\"}},\"id\":\"2676\",\"type\":\"VBar\"},{\"attributes\":{\"bottom_units\":\"screen\",\"fill_alpha\":0.5,\"fill_color\":\"lightgrey\",\"left_units\":\"screen\",\"level\":\"overlay\",\"line_alpha\":1.0,\"line_color\":\"black\",\"line_dash\":[4,4],\"line_width\":2,\"right_units\":\"screen\",\"top_units\":\"screen\"},\"id\":\"2662\",\"type\":\"BoxAnnotation\"},{\"attributes\":{\"data_source\":{\"id\":\"2671\"},\"glyph\":{\"id\":\"2674\"},\"hover_glyph\":null,\"muted_glyph\":{\"id\":\"2676\"},\"nonselection_glyph\":{\"id\":\"2675\"},\"selection_glyph\":null,\"view\":{\"id\":\"2678\"}},\"id\":\"2677\",\"type\":\"GlyphRenderer\"},{\"attributes\":{\"source\":{\"id\":\"2671\"}},\"id\":\"2678\",\"type\":\"CDSView\"},{\"attributes\":{\"label\":{\"field\":\"did_convert\"},\"renderers\":[{\"id\":\"2677\"}]},\"id\":\"2688\",\"type\":\"LegendItem\"},{\"attributes\":{\"axis\":{\"id\":\"2650\"},\"grid_line_color\":null,\"ticker\":null},\"id\":\"2652\",\"type\":\"Grid\"},{\"attributes\":{\"axis\":{\"id\":\"2653\"},\"dimension\":1,\"grid_line_color\":null,\"ticker\":null},\"id\":\"2656\",\"type\":\"Grid\"}],\"root_ids\":[\"2636\"]},\"title\":\"Bokeh Application\",\"version\":\"2.2.3\"}};\n",
       "  var render_items = [{\"docid\":\"dc784ce0-16d5-44e2-8cff-e100fafefee7\",\"root_ids\":[\"2636\"],\"roots\":{\"2636\":\"41c8b0c1-0a91-46a1-9e88-34ef694ee2fd\"}}];\n",
       "  root.Bokeh.embed.embed_items_notebook(docs_json, render_items);\n",
       "  }\n",
       "if (root.Bokeh !== undefined) {\n",
       "    embed_document(root);\n",
       "  } else {\n",
       "    var attempts = 0;\n",
       "    var timer = setInterval(function(root) {\n",
       "      if (root.Bokeh !== undefined) {\n",
       "        clearInterval(timer);\n",
       "        embed_document(root);\n",
       "      } else if (document.readyState == \"complete\") {\n",
       "        attempts++;\n",
       "        if (attempts > 100) {\n",
       "          clearInterval(timer);\n",
       "          console.log(\"Bokeh: ERROR: Unable to run BokehJS code because BokehJS library is missing\");\n",
       "        }\n",
       "      }\n",
       "    }, 10, root)\n",
       "  }\n",
       "})(window);</script>"
      ],
      "text/plain": [
       ":Bars   [core_product_segment,did_convert]   (count)"
      ]
     },
     "execution_count": 57,
     "metadata": {
      "application/vnd.holoviews_exec.v0+json": {
       "id": "2636"
      }
     },
     "output_type": "execute_result"
    }
   ],
   "source": [
    "print(merge.groupby(['core_product_segment'])['did_convert'].mean())\n",
    "ta_analysis.get_bivariate_plots(df=merge, x_cols='core_product_segment', y_cols='did_convert')"
   ]
  },
  {
   "cell_type": "code",
   "execution_count": 58,
   "metadata": {},
   "outputs": [
    {
     "name": "stdout",
     "output_type": "stream",
     "text": [
      "Reject Null Hypothesis\n",
      "p-value: 0.0\n"
     ]
    }
   ],
   "source": [
    "cont_tab = pd.crosstab(merge['core_product_segment'], merge['did_convert'])\n",
    "stat, p, dof, expected = stats.chi2_contingency(cont_tab)\n",
    "\n",
    "if p < alpha:\n",
    "    print('Reject Null Hypothesis')\n",
    "else:\n",
    "    print('Failed to Reject Null Hypothesis')\n",
    "\n",
    "print('p-value:', round(p, 3))"
   ]
  },
  {
   "cell_type": "markdown",
   "metadata": {
    "collapsed": "true"
   },
   "source": [
    "* At __5% significance__, We can __reject the null hypothesis__, that means, proportion of won is different for different product categories."
   ]
  },
  {
   "cell_type": "markdown",
   "metadata": {},
   "source": [
    "## Split Data into Training and Testing Datasets"
   ]
  },
  {
   "cell_type": "code",
   "execution_count": 59,
   "metadata": {},
   "outputs": [
    {
     "name": "stdout",
     "output_type": "stream",
     "text": [
      "Saving training datasets\n",
      "Saving test datasets\n"
     ]
    }
   ],
   "source": [
    "drop_cols = list(merge_trimmed.select_dtypes(include=['datetime64']).columns) + list(['product_status','opportunity_id','customer_name','transition_to_timestamp','transition_from_timestamp','snapshot_time', 'target'])\n",
    "\n",
    "train_X, test_X, train_y, test_y = train_test_split(\n",
    "    merge_target_encoded.drop(drop_cols, axis=1), \n",
    "    merge_target_encoded['target'], \n",
    "    test_size=0.2, \n",
    "    random_state=0\n",
    ")\n",
    "\n",
    "train_X = train_X.reset_index()\n",
    "train_y = train_y.reset_index()\n",
    "test_X = test_X.reset_index()\n",
    "test_y = test_y.reset_index()\n",
    "\n",
    "print(f\"Saving training datasets\")\n",
    "dataset.save_dataset(context, train_X, 'train/merged/features')\n",
    "dataset.save_dataset(context, train_y, 'train/merged/target')\n",
    "\n",
    "print(f\"Saving test datasets\")\n",
    "dataset.save_dataset(context, test_X, 'test/merged/features')\n",
    "dataset.save_dataset(context, test_y, 'test/merged/target')"
   ]
  }
 ],
 "metadata": {
  "kernelspec": {
   "display_name": "Python 3",
   "language": "python",
   "name": "python3"
  },
  "language_info": {
   "codemirror_mode": {
    "name": "ipython",
    "version": 3
   },
   "file_extension": ".py",
   "mimetype": "text/x-python",
   "name": "python",
   "nbconvert_exporter": "python",
   "pygments_lexer": "ipython3",
   "version": "3.8.11"
  }
 },
 "nbformat": 4,
 "nbformat_minor": 4
}
