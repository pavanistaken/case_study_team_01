{
 "cells": [
  {
   "cell_type": "markdown",
   "metadata": {},
   "source": [
    "# Purpose\n",
    "This notebook describes the typical activities carried out at the beginning to a project / thread when customer shares new data. We will be trying to understand the tables, columns and information flow. Typically we also look for data issues and confirm with respective owners for resolution. At the end of this activity, the data sources and their treatment is finalized. Code in this notebook will not be part of the production code.\n",
    "\n",
    "This data can be downloaded from [here](https://drive.google.com/file/d/14FaUvJuhQLZevvqQcnOZZxvkvKbdPhZ7/view?usp=sharing)"
   ]
  },
  {
   "cell_type": "markdown",
   "metadata": {},
   "source": [
    "# Initialization"
   ]
  },
  {
   "cell_type": "code",
   "execution_count": 6,
   "metadata": {},
   "outputs": [
    {
     "name": "stdout",
     "output_type": "stream",
     "text": [
      "The autoreload extension is already loaded. To reload it, use:\n",
      "  %reload_ext autoreload\n"
     ]
    }
   ],
   "source": [
    "%load_ext autoreload\n",
    "%autoreload 2 "
   ]
  },
  {
   "cell_type": "code",
   "execution_count": 7,
   "metadata": {},
   "outputs": [],
   "source": [
    "import os\n",
    "import os.path as op\n",
    "import pandas as pd \n",
    "import great_expectations as ge\n",
    "from dateutil.relativedelta import relativedelta\n",
    "os.environ['TA_DEBUG'] = \"False\"\n",
    "os.environ['TA_ALLOW_EXCEPTIONS'] = \"True\""
   ]
  },
  {
   "cell_type": "code",
   "execution_count": 8,
   "metadata": {},
   "outputs": [],
   "source": [
    "import warnings\n",
    "\n",
    "warnings.filterwarnings('ignore', message=\"The sklearn.metrics.classification module\", category=FutureWarning)\n",
    "warnings.filterwarnings('ignore', message=\".*title_format is deprecated. Please use title instead.*\")"
   ]
  },
  {
   "cell_type": "code",
   "execution_count": 31,
   "metadata": {},
   "outputs": [
    {
     "name": "stdout",
     "output_type": "stream",
     "text": [
      "Wall time: 0 ns\n"
     ]
    }
   ],
   "source": [
    "%%time\n",
    "from ta_lib.core.api import (\n",
    "    create_context,\n",
    "    get_package_path,\n",
    "    display_as_tabs,\n",
    "    initialize_environment,\n",
    "    string_cleaning,\n",
    "    setanalyse,\n",
    "    merge_expectations\n",
    ")\n",
    "import ta_lib.core.api as dataset\n",
    "import ta_lib.eda.api as analysis\n",
    "import ta_lib.reports.api as health"
   ]
  },
  {
   "cell_type": "code",
   "execution_count": 10,
   "metadata": {},
   "outputs": [],
   "source": [
    "# Initialization\n",
    "initialize_environment(debug=False, hide_warnings=True)"
   ]
  },
  {
   "cell_type": "markdown",
   "metadata": {},
   "source": [
    "# Data"
   ]
  },
  {
   "cell_type": "markdown",
   "metadata": {},
   "source": [
    "## Background\n",
    "\n",
    "Customer is a distributor of consumption goods. There are a variety of data files which we would be using. For more refer to the readme in the data archive. Business wants to know whether a particular customer will churn or not with Machine learning. \n",
    "\n",
    "Below is an overview of each of the keys in the dataset:\n",
    "\n",
    "| | Key | Dataset | Details |\n",
    "|--|--|--|--|\n",
    "| 1 | opportunity_id | opportunity.xlsb | The monthly primary sales from the manufacturer to each distributor. The column pri_sales_amount indicates the sales. We will use this column for defining churn of a distributor, i.e. whenever the sales turn 0 or negative, the distributor would be defined as churned. The cutoff or reference date we'll use to predict future churn is 2013-05-01 |\n",
    "| 2 | product_id | product.xlsb | The monthly secondary business, with column sec_netvalues identifying the total sales from each distributor |"
   ]
  },
  {
   "cell_type": "code",
   "execution_count": 11,
   "metadata": {},
   "outputs": [
    {
     "name": "stdout",
     "output_type": "stream",
     "text": [
      "Collecting pyxlsb\n",
      "  Using cached pyxlsb-1.0.9-py2.py3-none-any.whl (23 kB)\n",
      "Installing collected packages: pyxlsb\n",
      "Successfully installed pyxlsb-1.0.9\n",
      "Wall time: 1min 7s\n"
     ]
    },
    {
     "data": {
      "text/plain": [
       "((313571, 16), (142431, 8))"
      ]
     },
     "execution_count": 11,
     "metadata": {},
     "output_type": "execute_result"
    }
   ],
   "source": [
    "%%time\n",
    "!pip install pyxlsb\n",
    "opp_xlsb = pd.read_excel('../../data/raw/opportunity/opportunity.xlsb', engine='pyxlsb')\n",
    "pro_xlsb = pd.read_excel('../../data/raw/opportunity/product.xlsb', engine='pyxlsb')\n",
    "opp_xlsb.shape, pro_xlsb.shape"
   ]
  },
  {
   "cell_type": "code",
   "execution_count": 12,
   "metadata": {},
   "outputs": [],
   "source": [
    "opp_xlsb.to_csv('../../data/raw/opportunity/csv/opportunity.csv', index=False)\n",
    "pro_xlsb.to_csv('../../data/raw/opportunity/csv/product.csv', index=False)"
   ]
  },
  {
   "cell_type": "code",
   "execution_count": 13,
   "metadata": {},
   "outputs": [
    {
     "data": {
      "text/html": [
       "['/raw/product', '/raw/opportunity', '/cleaned/target', '/cleaned/product', '/cleaned/opportunity', '/processed/merged', '/train/merged/features', '/train/merged/target', '/test/merged/features', '/test/merged/target', '/score/merged/output']"
      ],
      "text/plain": [
       "['/raw/product',\n",
       " '/raw/opportunity',\n",
       " '/cleaned/target',\n",
       " '/cleaned/product',\n",
       " '/cleaned/opportunity',\n",
       " '/processed/merged',\n",
       " '/train/merged/features',\n",
       " '/train/merged/target',\n",
       " '/test/merged/features',\n",
       " '/test/merged/target',\n",
       " '/score/merged/output']"
      ]
     },
     "execution_count": 13,
     "metadata": {},
     "output_type": "execute_result"
    }
   ],
   "source": [
    "config_path = op.join('conf', 'config.yml')\n",
    "context = create_context(config_path)\n",
    "dataset.list_datasets(context)"
   ]
  },
  {
   "cell_type": "code",
   "execution_count": 14,
   "metadata": {},
   "outputs": [],
   "source": [
    "# Loading all datasets in a loop\n",
    "data = dict()\n",
    "for i in dataset.list_datasets(context):\n",
    "    if '/raw/' in i:\n",
    "        key_ = i.replace('/raw/','')+'_df'\n",
    "        data[key_] = dataset.load_dataset(context,i)\n",
    "        # Standardize column names\n",
    "        data[key_].columns = string_cleaning(data[key_].columns,lower=True)"
   ]
  },
  {
   "cell_type": "markdown",
   "metadata": {},
   "source": [
    "## Exploratory Data Analysis"
   ]
  },
  {
   "cell_type": "markdown",
   "metadata": {},
   "source": [
    "### Shape of Data"
   ]
  },
  {
   "cell_type": "code",
   "execution_count": 15,
   "metadata": {},
   "outputs": [
    {
     "data": {
      "text/html": [
       "<div>\n",
       "<style scoped>\n",
       "    .dataframe tbody tr th:only-of-type {\n",
       "        vertical-align: middle;\n",
       "    }\n",
       "\n",
       "    .dataframe tbody tr th {\n",
       "        vertical-align: top;\n",
       "    }\n",
       "\n",
       "    .dataframe thead th {\n",
       "        text-align: right;\n",
       "    }\n",
       "</style>\n",
       "<table border=\"1\" class=\"dataframe\">\n",
       "  <thead>\n",
       "    <tr style=\"text-align: right;\">\n",
       "      <th></th>\n",
       "      <th>rows</th>\n",
       "      <th>columns</th>\n",
       "    </tr>\n",
       "  </thead>\n",
       "  <tbody>\n",
       "    <tr>\n",
       "      <th>opportunity_df</th>\n",
       "      <td>313571</td>\n",
       "      <td>16</td>\n",
       "    </tr>\n",
       "    <tr>\n",
       "      <th>product_df</th>\n",
       "      <td>142431</td>\n",
       "      <td>8</td>\n",
       "    </tr>\n",
       "  </tbody>\n",
       "</table>\n",
       "</div>"
      ],
      "text/plain": [
       "                  rows  columns\n",
       "opportunity_df  313571       16\n",
       "product_df      142431        8"
      ]
     },
     "execution_count": 15,
     "metadata": {},
     "output_type": "execute_result"
    }
   ],
   "source": [
    "(\n",
    "    pd.DataFrame({x:data[x].shape for x in data.keys()})\n",
    "    .T\n",
    "    .rename(columns={0:'rows',1:'columns'})\n",
    "    .sort_values('rows',ascending=False)\n",
    ")"
   ]
  },
  {
   "cell_type": "markdown",
   "metadata": {},
   "source": [
    "## Variable summary"
   ]
  },
  {
   "cell_type": "code",
   "execution_count": 16,
   "metadata": {},
   "outputs": [
    {
     "data": {},
     "metadata": {},
     "output_type": "display_data"
    },
    {
     "data": {
      "application/vnd.holoviews_exec.v0+json": "",
      "text/html": [
       "<div id='1001'>\n",
       "\n",
       "\n",
       "\n",
       "\n",
       "\n",
       "  <div class=\"bk-root\" id=\"8eab8f8c-e3bf-419e-b0fc-231d3e4da8a2\" data-root-id=\"1001\"></div>\n",
       "</div>\n",
       "<script type=\"application/javascript\">(function(root) {\n",
       "  function embed_document(root) {\n",
       "  var docs_json = {\"db098108-7751-4579-b750-7bae5f19c36c\":{\"roots\":{\"references\":[{\"attributes\":{},\"id\":\"1009\",\"type\":\"StringEditor\"},{\"attributes\":{},\"id\":\"1063\",\"type\":\"NumberFormatter\"},{\"attributes\":{\"editor\":{\"id\":\"1014\"},\"field\":\"Datatype\",\"formatter\":{\"id\":\"1013\"},\"title\":\"Datatype\",\"width\":null},\"id\":\"1015\",\"type\":\"TableColumn\"},{\"attributes\":{\"editor\":{\"id\":\"1064\"},\"field\":\"Null_Values\",\"formatter\":{\"id\":\"1063\"},\"title\":\"Null_Values\",\"width\":null},\"id\":\"1065\",\"type\":\"TableColumn\"},{\"attributes\":{},\"id\":\"1018\",\"type\":\"StringFormatter\"},{\"attributes\":{},\"id\":\"1019\",\"type\":\"StringEditor\"},{\"attributes\":{\"editor\":{\"id\":\"1019\"},\"field\":\"No of Unique\",\"formatter\":{\"id\":\"1018\"},\"title\":\"No of Unique\",\"width\":null},\"id\":\"1020\",\"type\":\"TableColumn\"},{\"attributes\":{\"client_comm_id\":\"8a6f64d42313421593ef9b00bc41b39b\",\"comm_id\":\"f81a5d1514e9414eb94abd832ff58e75\",\"plot_id\":\"1001\"},\"id\":\"1084\",\"type\":\"panel.models.comm_manager.CommManager\"},{\"attributes\":{},\"id\":\"1024\",\"type\":\"StringEditor\"},{\"attributes\":{\"child\":{\"id\":\"1068\"},\"name\":\"opportunity_df - 313571 rows\",\"title\":\"opportunity_df - 313571 rows\"},\"id\":\"1071\",\"type\":\"Panel\"},{\"attributes\":{},\"id\":\"1023\",\"type\":\"StringFormatter\"},{\"attributes\":{},\"id\":\"1070\",\"type\":\"Selection\"},{\"attributes\":{\"editor\":{\"id\":\"1024\"},\"field\":\"Samples\",\"formatter\":{\"id\":\"1023\"},\"title\":\"Samples\",\"width\":null},\"id\":\"1025\",\"type\":\"TableColumn\"},{\"attributes\":{},\"id\":\"1029\",\"type\":\"IntEditor\"},{\"attributes\":{},\"id\":\"1074\",\"type\":\"UnionRenderers\"},{\"attributes\":{},\"id\":\"1028\",\"type\":\"NumberFormatter\"},{\"attributes\":{\"editor\":{\"id\":\"1029\"},\"field\":\"Null_Values\",\"formatter\":{\"id\":\"1028\"},\"title\":\"Null_Values\",\"width\":null},\"id\":\"1030\",\"type\":\"TableColumn\"},{\"attributes\":{\"data\":{\"Datatype\":[\"int64\",\"int64\",\"object\",\"object\",\"int64\",\"int64\",\"int64\",\"int64\"],\"No of Unique\":[\"2538\",\"4384\",\"1\",\"6\",\"2775\",\"1098\",\"496\",\"783\"],\"Null_Values\":[0,0,0,48,0,0,0,0],\"Samples\":[\"[1361, 1363, 1364, 5, 19]\",\"[6669, 6756, 6659, 6660, 404]\",\"['Product Segment NA']\",\"['Win Approved', 'Pending', 'Win Submitted', 'Cancelled', 'Deleted']\",\"[0, 230400, 1056000, 777000, 647500]\",\"[1, 1200, 400000, 200000, 3000]\",\"[42228, 42247, 42109, 42204, 42216]\",\"[20151125050002, 20151025050002, 20160105050003, 20160101050003, 20150525050003]\"],\"Variable Name\":[\"opportunity id\",\"product id\",\"product segment name\",\"product status\",\"product $\",\"product quantity\",\"decision date\",\"snapshot time\"],\"index\":[\"opportunity id\",\"product id\",\"product segment name\",\"product status\",\"product $\",\"product quantity\",\"decision date\",\"snapshot time\"]},\"selected\":{\"id\":\"1035\"},\"selection_policy\":{\"id\":\"1072\"}},\"id\":\"1002\",\"type\":\"ColumnDataSource\"},{\"attributes\":{},\"id\":\"1049\",\"type\":\"StringEditor\"},{\"attributes\":{\"columns\":[{\"id\":\"1040\"},{\"id\":\"1045\"},{\"id\":\"1050\"},{\"id\":\"1055\"},{\"id\":\"1060\"},{\"id\":\"1065\"}],\"editable\":true,\"fit_columns\":true,\"height\":430,\"index_position\":null,\"margin\":[5,10,5,10],\"name\":\"opportunity_df - 313571 rows\",\"source\":{\"id\":\"1037\"},\"view\":{\"id\":\"1069\"}},\"id\":\"1068\",\"type\":\"DataTable\"},{\"attributes\":{\"child\":{\"id\":\"1033\"},\"name\":\"product_df - 142431 rows\",\"title\":\"product_df - 142431 rows\"},\"id\":\"1036\",\"type\":\"Panel\"},{\"attributes\":{},\"id\":\"1035\",\"type\":\"Selection\"},{\"attributes\":{\"data\":{\"Datatype\":[\"int64\",\"object\",\"int64\",\"object\",\"float64\",\"object\",\"object\",\"int64\",\"int64\",\"object\",\"object\",\"object\",\"object\",\"object\",\"object\",\"object\"],\"No of Unique\":[\"5250\",\"9\",\"1558\",\"9\",\"1557\",\"2649\",\"3\",\"559\",\"779\",\"3\",\"2\",\"20\",\"11\",\"20\",\"6\",\"49\"],\"Null_Values\":[0,0,0,5250,5250,0,200380,0,0,826,21384,0,0,0,0,0],\"Samples\":[\"[5, 19, 46, 47, 93]\",\"['Stage 3', 'Stage 4', 'Stage 5', 'Stage 9', 'Stage 2']\",\"[20150211130001, 20150213050002, 20150218210007, 20150304210002, 20150316130001]\",\"['Stage 3', 'Stage 4', 'Stage 5', 'Stage 9', 'Stage 2']\",\"[nan, 20150211130001.0, 20150213050002.0, 20150218210007.0, 20150304210002.0]\",\"['Customer 83', 'Customer 216', 'Customer 108', 'Customer 8478', 'Customer 117']\",\"['No Risk', 'Others', 'Pricing']\",\"[42046, 42047, 42048, 42049, 42051]\",\"[42075, 42005, 42230, 42111, 42156]\",\"['Open', 'Closed/Won', 'Closed/Lost']\",\"['Deal', 'Design']\",\"['Core Market 11', 'Core Market 19', 'Core Market 3', 'Core Market 16', 'Core Market 6']\",\"['Core Prd Seg 3', 'Core Prd Seg 4', 'Core Prd Seg 5', 'Core Prd Seg 8', 'Core Prd Seg 2']\",\"['Sales Segment 8', 'Sales Segment 1', 'Sales Segment 2', 'Sales Segment 4', 'Sales Segment 7']\",\"['Geo NA', 'Geo 1', 'Geo 3', 'Geo 5', 'Geo 2']\",\"['Prd App 4', 'Prd App 13', 'Prd App 15', 'Prd App 22', 'Prd App 18']\"],\"Variable Name\":[\"opportunity id\",\"transition to stage\",\"transition to timestamp\",\"transition from stage name\",\"transition from timestamp\",\"customer name\",\"risk status\",\"creation date\",\"decision date\",\"opportunity status\",\"opportunity type\",\"core consumption market\",\"core product segment\",\"core sales segment\",\"geography\",\"core product application\"],\"index\":[\"opportunity id\",\"transition to stage\",\"transition to timestamp\",\"transition from stage name\",\"transition from timestamp\",\"customer name\",\"risk status\",\"creation date\",\"decision date\",\"opportunity status\",\"opportunity type\",\"core consumption market\",\"core product segment\",\"core sales segment\",\"geography\",\"core product application\"]},\"selected\":{\"id\":\"1070\"},\"selection_policy\":{\"id\":\"1074\"}},\"id\":\"1037\",\"type\":\"ColumnDataSource\"},{\"attributes\":{},\"id\":\"1043\",\"type\":\"StringFormatter\"},{\"attributes\":{},\"id\":\"1072\",\"type\":\"UnionRenderers\"},{\"attributes\":{},\"id\":\"1038\",\"type\":\"StringFormatter\"},{\"attributes\":{\"editor\":{\"id\":\"1039\"},\"field\":\"index\",\"formatter\":{\"id\":\"1038\"},\"title\":\"index\",\"width\":null},\"id\":\"1040\",\"type\":\"TableColumn\"},{\"attributes\":{},\"id\":\"1048\",\"type\":\"StringFormatter\"},{\"attributes\":{\"editor\":{\"id\":\"1044\"},\"field\":\"Variable Name\",\"formatter\":{\"id\":\"1043\"},\"title\":\"Variable Name\",\"width\":null},\"id\":\"1045\",\"type\":\"TableColumn\"},{\"attributes\":{},\"id\":\"1039\",\"type\":\"StringEditor\"},{\"attributes\":{},\"id\":\"1044\",\"type\":\"StringEditor\"},{\"attributes\":{\"source\":{\"id\":\"1037\"}},\"id\":\"1069\",\"type\":\"CDSView\"},{\"attributes\":{\"editor\":{\"id\":\"1049\"},\"field\":\"Datatype\",\"formatter\":{\"id\":\"1048\"},\"title\":\"Datatype\",\"width\":null},\"id\":\"1050\",\"type\":\"TableColumn\"},{\"attributes\":{},\"id\":\"1004\",\"type\":\"StringEditor\"},{\"attributes\":{},\"id\":\"1054\",\"type\":\"StringEditor\"},{\"attributes\":{},\"id\":\"1013\",\"type\":\"StringFormatter\"},{\"attributes\":{},\"id\":\"1053\",\"type\":\"StringFormatter\"},{\"attributes\":{\"columns\":[{\"id\":\"1005\"},{\"id\":\"1010\"},{\"id\":\"1015\"},{\"id\":\"1020\"},{\"id\":\"1025\"},{\"id\":\"1030\"}],\"editable\":true,\"fit_columns\":true,\"height\":230,\"index_position\":null,\"margin\":[5,10,5,10],\"name\":\"product_df - 142431 rows\",\"source\":{\"id\":\"1002\"},\"view\":{\"id\":\"1034\"}},\"id\":\"1033\",\"type\":\"DataTable\"},{\"attributes\":{},\"id\":\"1003\",\"type\":\"StringFormatter\"},{\"attributes\":{\"editor\":{\"id\":\"1054\"},\"field\":\"No of Unique\",\"formatter\":{\"id\":\"1053\"},\"title\":\"No of Unique\",\"width\":null},\"id\":\"1055\",\"type\":\"TableColumn\"},{\"attributes\":{\"editor\":{\"id\":\"1004\"},\"field\":\"index\",\"formatter\":{\"id\":\"1003\"},\"title\":\"index\",\"width\":null},\"id\":\"1005\",\"type\":\"TableColumn\"},{\"attributes\":{},\"id\":\"1008\",\"type\":\"StringFormatter\"},{\"attributes\":{\"margin\":[0,0,0,0],\"tabs\":[{\"id\":\"1036\"},{\"id\":\"1071\"}]},\"id\":\"1001\",\"type\":\"Tabs\"},{\"attributes\":{},\"id\":\"1059\",\"type\":\"StringEditor\"},{\"attributes\":{},\"id\":\"1058\",\"type\":\"StringFormatter\"},{\"attributes\":{\"editor\":{\"id\":\"1009\"},\"field\":\"Variable Name\",\"formatter\":{\"id\":\"1008\"},\"title\":\"Variable Name\",\"width\":null},\"id\":\"1010\",\"type\":\"TableColumn\"},{\"attributes\":{},\"id\":\"1014\",\"type\":\"StringEditor\"},{\"attributes\":{\"editor\":{\"id\":\"1059\"},\"field\":\"Samples\",\"formatter\":{\"id\":\"1058\"},\"title\":\"Samples\",\"width\":null},\"id\":\"1060\",\"type\":\"TableColumn\"},{\"attributes\":{\"source\":{\"id\":\"1002\"}},\"id\":\"1034\",\"type\":\"CDSView\"},{\"attributes\":{},\"id\":\"1064\",\"type\":\"IntEditor\"}],\"root_ids\":[\"1001\",\"1084\"]},\"title\":\"Bokeh Application\",\"version\":\"2.2.3\"}};\n",
       "  var render_items = [{\"docid\":\"db098108-7751-4579-b750-7bae5f19c36c\",\"root_ids\":[\"1001\"],\"roots\":{\"1001\":\"8eab8f8c-e3bf-419e-b0fc-231d3e4da8a2\"}}];\n",
       "  root.Bokeh.embed.embed_items_notebook(docs_json, render_items);\n",
       "  }\n",
       "if (root.Bokeh !== undefined) {\n",
       "    embed_document(root);\n",
       "  } else {\n",
       "    var attempts = 0;\n",
       "    var timer = setInterval(function(root) {\n",
       "      if (root.Bokeh !== undefined) {\n",
       "        clearInterval(timer);\n",
       "        embed_document(root);\n",
       "      } else if (document.readyState == \"complete\") {\n",
       "        attempts++;\n",
       "        if (attempts > 100) {\n",
       "          clearInterval(timer);\n",
       "          console.log(\"Bokeh: ERROR: Unable to run BokehJS code because BokehJS library is missing\");\n",
       "        }\n",
       "      }\n",
       "    }, 10, root)\n",
       "  }\n",
       "})(window);</script>"
      ],
      "text/plain": [
       "Tabs\n",
       "    [0] DataFrame(name='product_df - 1..., value=                          ...)\n",
       "    [1] DataFrame(name='opportunity_df -..., value=                          ...)"
      ]
     },
     "execution_count": 16,
     "metadata": {
      "application/vnd.holoviews_exec.v0+json": {
       "id": "1001"
      }
     },
     "output_type": "execute_result"
    }
   ],
   "source": [
    "summaries = [analysis.get_variable_summary(data[x]).assign(Null_Values=pd.Series(data[x].isna().sum())) for x in data.keys()]\n",
    "display_as_tabs([(('{0} - {1} rows'.format(x, str(data[x].shape[0]))), summaries[idx]) for idx, x in enumerate(data.keys())])"
   ]
  },
  {
   "cell_type": "markdown",
   "metadata": {},
   "source": [
    "## Merging"
   ]
  },
  {
   "cell_type": "markdown",
   "metadata": {},
   "source": [
    "### Expected data validation rules"
   ]
  },
  {
   "cell_type": "markdown",
   "metadata": {},
   "source": [
    "1. `Creation Date` is before `Decision Date`.\n",
    "2. `transition_to_stage_name` values __[\"Stage 4\", \"Stage 9\", \"Stage 1\", \"Stage 8\"]__ should have corresponding `opportunity_status` values __[\"Closed/Win\", \"Closed/Win\", \"Closed/Lost\", \"Closed/Lost\"]__ respectively.\n",
    "3. `Product Quantity` is an __integer__ value.\n",
    "4. All Products should have `Product_Status` value other than __Closed__.\n",
    "5. Dates Must be between 2015 to 2016"
   ]
  },
  {
   "cell_type": "markdown",
   "metadata": {},
   "source": [
    "#### Great Expectations \n",
    "\n",
    "We will leverage the [Great Expectations](https://docs.greatexpectations.io/en/latest/) library for exploring the data quality & validating whether it conforms to expected business rules. "
   ]
  },
  {
   "cell_type": "markdown",
   "metadata": {},
   "source": [
    "#### Rules verification"
   ]
  },
  {
   "cell_type": "code",
   "execution_count": 17,
   "metadata": {},
   "outputs": [
    {
     "name": "stdout",
     "output_type": "stream",
     "text": [
      "Rule 1 failed\n"
     ]
    }
   ],
   "source": [
    "verification_dict = {}\n",
    "# Rule tests\n",
    "test_success_flag = True\n",
    "decison_days = ge.from_pandas(pd.DataFrame(data['opportunity_df']['decision date'] - data['opportunity_df']['creation date']))\n",
    "# print(decison_days)\n",
    "verification_dict['rule_1'] = decison_days.expect_column_values_to_be_between(0,min_value=0, max_value=730\n",
    "                                                    ,result_format=\"BASIC\", include_config=True).to_json_dict()\n",
    "test_success_flag = verification_dict['rule_1']['success']\n",
    "# Rule 1\n",
    "if test_success_flag:\n",
    "    print(('Rule {} passed').format(1))\n",
    "else:\n",
    "    print(('Rule {} failed').format(1))"
   ]
  },
  {
   "cell_type": "code",
   "execution_count": 18,
   "metadata": {},
   "outputs": [
    {
     "name": "stdout",
     "output_type": "stream",
     "text": [
      "Rule 2.1 passed\n",
      "Rule 2.2 failed\n"
     ]
    }
   ],
   "source": [
    "stage_4_9 = data['opportunity_df'][data['opportunity_df'][\"transition to stage\"] == (\"Stage 4\" and \"Stage 9\")]['opportunity status'] != 'Closed/Won'\n",
    "stage_1_8 = data['opportunity_df'][data['opportunity_df'][\"transition to stage\"] == (\"Stage 1\" and \"Stage 8\")]['opportunity status'] != 'Closed/Lost'\n",
    "\n",
    "verification_dict['rule_2_1'] = ge.from_pandas(pd.DataFrame(stage_4_9)).expect_multicolumn_sum_to_equal(['opportunity status'], sum_total=0).to_json_dict()\n",
    "verification_dict['rule_2_2'] = ge.from_pandas(pd.DataFrame(stage_1_8)).expect_multicolumn_sum_to_equal(['opportunity status'], sum_total=0).to_json_dict()\n",
    "\n",
    "test_success_flag_1 = verification_dict['rule_2_1']['success']\n",
    "test_success_flag_2 = verification_dict['rule_2_2']['success']\n",
    "\n",
    "# Rule 1\n",
    "if test_success_flag_1:\n",
    "    print(('Rule {} passed').format('2.1'))\n",
    "else:\n",
    "    print(('Rule {} failed').format('2.1'))\n",
    "    \n",
    "if test_success_flag_2:\n",
    "    print(('Rule {} passed').format('2.2'))\n",
    "else:\n",
    "    print(('Rule {} failed').format('2.2'))"
   ]
  },
  {
   "cell_type": "code",
   "execution_count": 19,
   "metadata": {},
   "outputs": [
    {
     "name": "stdout",
     "output_type": "stream",
     "text": [
      "Rule 3 passed\n"
     ]
    }
   ],
   "source": [
    "verification_dict['rule_3'] = ge.from_pandas(data['product_df'][['product quantity']]).expect_column_values_to_be_of_type('product quantity', type_='int64').to_json_dict()\n",
    "test_success_flag = verification_dict['rule_3']['success']\n",
    "\n",
    "if test_success_flag:\n",
    "    print(('Rule {} passed').format('3'))\n",
    "else:\n",
    "    print(('Rule {} failed').format('3'))"
   ]
  },
  {
   "cell_type": "code",
   "execution_count": 20,
   "metadata": {},
   "outputs": [
    {
     "name": "stdout",
     "output_type": "stream",
     "text": [
      "Rule 4 failed\n"
     ]
    }
   ],
   "source": [
    "verification_dict['rule_4'] = ge.from_pandas(data['product_df'].groupby(['product id'])['product status'].apply(lambda x: len(list(set(x)-{'Pending'})))).expect_column_values_to_be_between('product status', min_value=1).to_json_dict()\n",
    "test_success_flag = verification_dict['rule_4']['success']\n",
    "\n",
    "if test_success_flag:\n",
    "    print(('Rule {} passed').format('4'))\n",
    "else:\n",
    "    print(('Rule {} failed').format('4'))"
   ]
  },
  {
   "cell_type": "code",
   "execution_count": 21,
   "metadata": {},
   "outputs": [
    {
     "name": "stdout",
     "output_type": "stream",
     "text": [
      "Rule 5.1 failed\n",
      "Rule 5.2 passed\n"
     ]
    }
   ],
   "source": [
    "min_date = 42004\n",
    "max_date = 42734\n",
    "\n",
    "verification_dict['rule_5_1'] = ge.from_pandas(pd.DataFrame(data['opportunity_df'][['decision date']])).expect_column_values_to_be_between('decision date', min_value=min_date, max_value=max_date).to_json_dict()\n",
    "verification_dict['rule_5_2'] = ge.from_pandas(pd.DataFrame(data['opportunity_df'][['creation date']])).expect_column_values_to_be_between('creation date', min_value=min_date, max_value=max_date).to_json_dict()\n",
    "\n",
    "test_success_flag_1 = verification_dict['rule_5_1']['success']\n",
    "test_success_flag_2 = verification_dict['rule_5_2']['success']\n",
    "\n",
    "# Rule 1\n",
    "if test_success_flag_1:\n",
    "    print(('Rule {} passed').format('5.1'))\n",
    "else:\n",
    "    print(('Rule {} failed').format('5.1'))\n",
    "    \n",
    "if test_success_flag_2:\n",
    "    print(('Rule {} passed').format('5.2'))\n",
    "else:\n",
    "    print(('Rule {} failed').format('5.2'))"
   ]
  },
  {
   "cell_type": "markdown",
   "metadata": {},
   "source": [
    "### Fixes for failed rules"
   ]
  },
  {
   "cell_type": "markdown",
   "metadata": {},
   "source": [
    "#### Fixing Rule 1"
   ]
  },
  {
   "cell_type": "code",
   "execution_count": 22,
   "metadata": {},
   "outputs": [
    {
     "name": "stdout",
     "output_type": "stream",
     "text": [
      "# Unexpected Values: 12380\n"
     ]
    }
   ],
   "source": [
    "print('# Unexpected Values: {0}'.format(verification_dict['rule_1']['result']['unexpected_count']))"
   ]
  },
  {
   "cell_type": "markdown",
   "metadata": {},
   "source": [
    "* After looking at the data points which have decision_date before creation_date, they start with transition_from_stage being \"final\" stage, i.e., any of following, Stage 1, 4, 8, 9.\n",
    "* That brings a possibility of opportunity being accepted previously but the data point being created later."
   ]
  },
  {
   "cell_type": "markdown",
   "metadata": {},
   "source": [
    "#### Fixing Rule 2.2"
   ]
  },
  {
   "cell_type": "code",
   "execution_count": 23,
   "metadata": {},
   "outputs": [
    {
     "name": "stdout",
     "output_type": "stream",
     "text": [
      "# Unexpected Values: 2\n",
      "Rule 2.2 passed\n"
     ]
    }
   ],
   "source": [
    "print('# Unexpected Values: {0}'.format(verification_dict['rule_2_2']['result']['unexpected_count']))\n",
    "\n",
    "from statistics import mode\n",
    "dummy_op = data['opportunity_df'].copy()\n",
    "map_obj = dummy_op.groupby('transition to stage')['opportunity status'].apply(lambda x: mode(x)).to_dict()\n",
    "dummy_op['opportunity status'] = dummy_op['transition to stage'].map(map_obj) \n",
    "\n",
    "# Test after fixing\n",
    "stage_1_8 = dummy_op[dummy_op[\"transition to stage\"] == (\"Stage 1\" and \"Stage 8\")]['opportunity status'] != 'Closed/Lost'\n",
    "test_2_2 = ge.from_pandas(pd.DataFrame(stage_1_8)).expect_multicolumn_sum_to_equal(['opportunity status'], sum_total=0).to_json_dict()\n",
    "\n",
    "if test_2_2['success']:\n",
    "    print('Rule 2.2 passed')\n",
    "else:\n",
    "    print('Rule 2.2 failed')"
   ]
  },
  {
   "cell_type": "markdown",
   "metadata": {},
   "source": [
    "#### Fixing Rule 4"
   ]
  },
  {
   "cell_type": "code",
   "execution_count": 24,
   "metadata": {},
   "outputs": [
    {
     "name": "stdout",
     "output_type": "stream",
     "text": [
      "# Unexpected Values: 908\n"
     ]
    }
   ],
   "source": [
    "print('# Unexpected Values: {0}'.format(verification_dict['rule_4']['result']['unexpected_count']))"
   ]
  },
  {
   "cell_type": "markdown",
   "metadata": {},
   "source": [
    "* Opportunities being left out in pending without being provided with the 'Closed/Won' or 'Closed/Lost' are hard to be processed.\n",
    "* So, the cases other than 'Closed/Won' are considered as 'Lost'.\n",
    "* Also the winning of product will decide the winning of opportunity, than the winning of opportunity itself."
   ]
  },
  {
   "cell_type": "markdown",
   "metadata": {},
   "source": [
    "#### Fixing Rule 5.1"
   ]
  },
  {
   "cell_type": "code",
   "execution_count": 25,
   "metadata": {},
   "outputs": [
    {
     "name": "stdout",
     "output_type": "stream",
     "text": [
      "# Unexpected Values: 7679\n"
     ]
    },
    {
     "data": {
      "text/plain": [
       "Timestamp('2215-03-20 00:00:00')"
      ]
     },
     "execution_count": 25,
     "metadata": {},
     "output_type": "execute_result"
    }
   ],
   "source": [
    "print('# Unexpected Values: {0}'.format(verification_dict['rule_5_1']['result']['unexpected_count']))\n",
    "\n",
    "data['opportunity_df']['decision date'].sort_values()\n",
    "pd.to_datetime(115131, unit='D', origin='1899-12-30')"
   ]
  },
  {
   "cell_type": "markdown",
   "metadata": {},
   "source": [
    "* Decision date is used to know the `days difference` between creation and decision.\n",
    "* Most of the values fall before `2015` are due to decision date being before creation date.\n",
    "* 2 values have decision date as `115131` which translates to `2215-03-20` which is clearly a mistake with 200 years. This value should be replaced with `2015-03-20`."
   ]
  },
  {
   "cell_type": "markdown",
   "metadata": {},
   "source": [
    "## Health Analysis\n",
    "\n",
    "Get an overview of the overall health of your dataset. This is usually quick to compute and hopefully highlights some problems to focus on.\n",
    "\n"
   ]
  },
  {
   "cell_type": "markdown",
   "metadata": {},
   "source": [
    "### Summary Plot\n",
    "\n",
    "Provides a high level summary of the health your dataset.\n",
    "\n",
    "**Watch out for:**\n",
    "\n",
    "* too few numeric values\n",
    "* high % of missing values\n",
    "* high % of duplicate values\n",
    "* high % of duplicate columns "
   ]
  },
  {
   "cell_type": "code",
   "execution_count": 26,
   "metadata": {},
   "outputs": [
    {
     "data": {},
     "metadata": {},
     "output_type": "display_data"
    },
    {
     "data": {},
     "metadata": {},
     "output_type": "display_data"
    },
    {
     "data": {
      "application/vnd.holoviews_exec.v0+json": "",
      "text/html": [
       "<div id='1105'>\n",
       "\n",
       "\n",
       "\n",
       "\n",
       "\n",
       "  <div class=\"bk-root\" id=\"b64aae15-571f-4647-83d3-97e06477d615\" data-root-id=\"1105\"></div>\n",
       "</div>\n",
       "<script type=\"application/javascript\">(function(root) {\n",
       "  function embed_document(root) {\n",
       "  var docs_json = {\"9f289030-9c1e-43e2-857b-cfe4c9ca6b28\":{\"roots\":{\"references\":[{\"attributes\":{},\"id\":\"1173\",\"type\":\"CategoricalScale\"},{\"attributes\":{},\"id\":\"1660\",\"type\":\"Selection\"},{\"attributes\":{\"toolbar\":{\"id\":\"1888\"},\"toolbar_location\":\"above\"},\"id\":\"1889\",\"type\":\"ToolbarBox\"},{\"attributes\":{},\"id\":\"1184\",\"type\":\"WheelZoomTool\"},{\"attributes\":{\"align\":null,\"below\":[{\"id\":\"1752\"}],\"center\":[{\"id\":\"1755\"},{\"id\":\"1758\"},{\"id\":\"1789\"}],\"left\":[{\"id\":\"1756\"}],\"margin\":null,\"min_border_bottom\":10,\"min_border_left\":10,\"min_border_right\":10,\"min_border_top\":10,\"plot_height\":100,\"plot_width\":700,\"renderers\":[{\"id\":\"1779\"}],\"right\":[{\"id\":\"1789\"}],\"sizing_mode\":\"fixed\",\"title\":{\"id\":\"1744\"},\"toolbar\":{\"id\":\"1765\"},\"toolbar_location\":null,\"x_range\":{\"id\":\"1106\"},\"x_scale\":{\"id\":\"1748\"},\"y_range\":{\"id\":\"1107\"},\"y_scale\":{\"id\":\"1750\"}},\"id\":\"1743\",\"subtype\":\"Figure\",\"type\":\"Plot\"},{\"attributes\":{},\"id\":\"1180\",\"type\":\"CategoricalTicker\"},{\"attributes\":{},\"id\":\"1230\",\"type\":\"CategoricalScale\"},{\"attributes\":{\"fill_alpha\":{\"value\":0.2},\"fill_color\":{\"field\":\"Variable\",\"transform\":{\"id\":\"1252\"}},\"height\":{\"value\":0.8},\"left\":{\"field\":\"bottom\"},\"line_alpha\":{\"value\":0.2},\"right\":{\"field\":\"top\"},\"y\":{\"field\":\"index\"}},\"id\":\"1258\",\"type\":\"HBar\"},{\"attributes\":{\"overlay\":{\"id\":\"1187\"}},\"id\":\"1185\",\"type\":\"BoxZoomTool\"},{\"attributes\":{\"callback\":null,\"renderers\":[{\"id\":\"1779\"}],\"tags\":[\"hv_created\"],\"tooltips\":[[\"index\",\"@{index}\"],[\"Variable\",\"@{Variable}\"],[\"value\",\"@{value}\"]]},\"id\":\"1742\",\"type\":\"HoverTool\"},{\"attributes\":{\"axis\":{\"id\":\"1175\"},\"grid_line_color\":null,\"ticker\":null},\"id\":\"1178\",\"type\":\"Grid\"},{\"attributes\":{},\"id\":\"1700\",\"type\":\"CategoricalTicker\"},{\"attributes\":{\"ticks\":[0]},\"id\":\"1214\",\"type\":\"FixedTicker\"},{\"attributes\":{\"fill_color\":{\"field\":\"Variable\",\"transform\":{\"id\":\"1829\"}},\"height\":{\"value\":0.8},\"left\":{\"field\":\"bottom\"},\"right\":{\"field\":\"top\"},\"y\":{\"field\":\"index\"}},\"id\":\"1833\",\"type\":\"HBar\"},{\"attributes\":{\"fill_alpha\":{\"value\":0.1},\"fill_color\":{\"field\":\"Variable\",\"transform\":{\"id\":\"1829\"}},\"height\":{\"value\":0.8},\"left\":{\"field\":\"bottom\"},\"line_alpha\":{\"value\":0.1},\"right\":{\"field\":\"top\"},\"y\":{\"field\":\"index\"}},\"id\":\"1834\",\"type\":\"HBar\"},{\"attributes\":{\"data_source\":{\"id\":\"1253\"},\"glyph\":{\"id\":\"1256\"},\"hover_glyph\":null,\"muted_glyph\":{\"id\":\"1258\"},\"nonselection_glyph\":{\"id\":\"1257\"},\"selection_glyph\":null,\"view\":{\"id\":\"1260\"}},\"id\":\"1259\",\"type\":\"GlyphRenderer\"},{\"attributes\":{\"data_source\":{\"id\":\"1659\"},\"glyph\":{\"id\":\"1662\"},\"hover_glyph\":null,\"muted_glyph\":{\"id\":\"1664\"},\"nonselection_glyph\":{\"id\":\"1663\"},\"selection_glyph\":null,\"view\":{\"id\":\"1666\"}},\"id\":\"1665\",\"type\":\"GlyphRenderer\"},{\"attributes\":{\"active_drag\":\"auto\",\"active_inspect\":\"auto\",\"active_multi\":null,\"active_scroll\":\"auto\",\"active_tap\":\"auto\",\"tools\":[{\"id\":\"1165\"},{\"id\":\"1182\"},{\"id\":\"1183\"},{\"id\":\"1184\"},{\"id\":\"1185\"},{\"id\":\"1186\"}]},\"id\":\"1188\",\"type\":\"Toolbar\"},{\"attributes\":{\"bottom_units\":\"screen\",\"fill_alpha\":0.5,\"fill_color\":\"lightgrey\",\"left_units\":\"screen\",\"level\":\"overlay\",\"line_alpha\":1.0,\"line_color\":\"black\",\"line_dash\":[4,4],\"line_width\":2,\"right_units\":\"screen\",\"top_units\":\"screen\"},\"id\":\"1707\",\"type\":\"BoxAnnotation\"},{\"attributes\":{},\"id\":\"1831\",\"type\":\"Selection\"},{\"attributes\":{},\"id\":\"1844\",\"type\":\"UnionRenderers\"},{\"attributes\":{\"data_source\":{\"id\":\"1830\"},\"glyph\":{\"id\":\"1833\"},\"hover_glyph\":null,\"muted_glyph\":{\"id\":\"1835\"},\"nonselection_glyph\":{\"id\":\"1834\"},\"selection_glyph\":null,\"view\":{\"id\":\"1837\"}},\"id\":\"1836\",\"type\":\"GlyphRenderer\"},{\"attributes\":{\"factors\":[\"Unique\",\"Duplicate\"],\"palette\":[\"#1f77b3\",\"#ff7e0e\"]},\"id\":\"1252\",\"type\":\"CategoricalColorMapper\"},{\"attributes\":{},\"id\":\"1171\",\"type\":\"LinearScale\"},{\"attributes\":{\"label\":{\"field\":\"Variable\"},\"renderers\":[{\"id\":\"1665\"}]},\"id\":\"1676\",\"type\":\"LegendItem\"},{\"attributes\":{},\"id\":\"1263\",\"type\":\"BasicTickFormatter\"},{\"attributes\":{\"source\":{\"id\":\"1659\"}},\"id\":\"1666\",\"type\":\"CDSView\"},{\"attributes\":{\"active_drag\":\"auto\",\"active_inspect\":\"auto\",\"active_multi\":null,\"active_scroll\":\"auto\",\"active_tap\":\"auto\",\"tools\":[{\"id\":\"1799\"},{\"id\":\"1816\"},{\"id\":\"1817\"},{\"id\":\"1818\"},{\"id\":\"1819\"},{\"id\":\"1820\"}]},\"id\":\"1822\",\"type\":\"Toolbar\"},{\"attributes\":{\"overlay\":{\"id\":\"1764\"}},\"id\":\"1762\",\"type\":\"BoxZoomTool\"},{\"attributes\":{\"axis_label\":\"\",\"bounds\":\"auto\",\"formatter\":{\"id\":\"1206\"},\"major_label_orientation\":\"horizontal\",\"ticker\":{\"id\":\"1214\"}},\"id\":\"1175\",\"type\":\"LinearAxis\"},{\"attributes\":{},\"id\":\"1182\",\"type\":\"SaveTool\"},{\"attributes\":{\"items\":[{\"id\":\"1676\"}],\"location\":[0,0]},\"id\":\"1675\",\"type\":\"Legend\"},{\"attributes\":{},\"id\":\"1818\",\"type\":\"WheelZoomTool\"},{\"attributes\":{},\"id\":\"1759\",\"type\":\"SaveTool\"},{\"attributes\":{\"axis\":{\"id\":\"1699\"},\"dimension\":1,\"grid_line_color\":null,\"ticker\":null},\"id\":\"1701\",\"type\":\"Grid\"},{\"attributes\":{},\"id\":\"1186\",\"type\":\"ResetTool\"},{\"attributes\":{},\"id\":\"1763\",\"type\":\"ResetTool\"},{\"attributes\":{},\"id\":\"1703\",\"type\":\"PanTool\"},{\"attributes\":{},\"id\":\"1760\",\"type\":\"PanTool\"},{\"attributes\":{\"axis\":{\"id\":\"1695\"},\"grid_line_color\":null,\"ticker\":null},\"id\":\"1698\",\"type\":\"Grid\"},{\"attributes\":{\"text\":\"Missing Values\",\"text_color\":{\"value\":\"black\"},\"text_font_size\":{\"value\":\"12pt\"}},\"id\":\"1167\",\"type\":\"Title\"},{\"attributes\":{\"fill_alpha\":{\"value\":0.1},\"fill_color\":{\"field\":\"Variable\",\"transform\":{\"id\":\"1715\"}},\"height\":{\"value\":0.8},\"left\":{\"field\":\"bottom\"},\"line_alpha\":{\"value\":0.1},\"right\":{\"field\":\"top\"},\"y\":{\"field\":\"index\"}},\"id\":\"1720\",\"type\":\"HBar\"},{\"attributes\":{},\"id\":\"1704\",\"type\":\"WheelZoomTool\"},{\"attributes\":{},\"id\":\"1265\",\"type\":\"CategoricalTickFormatter\"},{\"attributes\":{},\"id\":\"1820\",\"type\":\"ResetTool\"},{\"attributes\":{\"axis\":{\"id\":\"1179\"},\"dimension\":1,\"grid_line_color\":null,\"ticker\":null},\"id\":\"1181\",\"type\":\"Grid\"},{\"attributes\":{\"axis_label\":\"\",\"bounds\":\"auto\",\"formatter\":{\"id\":\"1728\"},\"major_label_orientation\":\"horizontal\",\"ticker\":{\"id\":\"1700\"}},\"id\":\"1699\",\"type\":\"CategoricalAxis\"},{\"attributes\":{},\"id\":\"1761\",\"type\":\"WheelZoomTool\"},{\"attributes\":{\"bottom_units\":\"screen\",\"fill_alpha\":0.5,\"fill_color\":\"lightgrey\",\"left_units\":\"screen\",\"level\":\"overlay\",\"line_alpha\":1.0,\"line_color\":\"black\",\"line_dash\":[4,4],\"line_width\":2,\"right_units\":\"screen\",\"top_units\":\"screen\"},\"id\":\"1187\",\"type\":\"BoxAnnotation\"},{\"attributes\":{\"fill_color\":{\"field\":\"Variable\",\"transform\":{\"id\":\"1658\"}},\"height\":{\"value\":0.8},\"left\":{\"field\":\"bottom\"},\"right\":{\"field\":\"top\"},\"y\":{\"field\":\"index\"}},\"id\":\"1662\",\"type\":\"HBar\"},{\"attributes\":{\"ticks\":[0]},\"id\":\"1734\",\"type\":\"FixedTicker\"},{\"attributes\":{\"factors\":[\"Numeric\",\"Others\"],\"palette\":[\"#1f77b3\",\"#ff7e0e\"]},\"id\":\"1658\",\"type\":\"CategoricalColorMapper\"},{\"attributes\":{},\"id\":\"1183\",\"type\":\"PanTool\"},{\"attributes\":{},\"id\":\"1702\",\"type\":\"SaveTool\"},{\"attributes\":{\"overlay\":{\"id\":\"1707\"}},\"id\":\"1705\",\"type\":\"BoxZoomTool\"},{\"attributes\":{},\"id\":\"1706\",\"type\":\"ResetTool\"},{\"attributes\":{\"data\":{\"Variable\":[\"Numeric\",\"Others\"],\"bottom\":{\"__ndarray__\":\"AAAAAAAAAAAAAAAAAEA/QA==\",\"dtype\":\"float64\",\"order\":\"little\",\"shape\":[2]},\"index\":[\"values\",\"values\"],\"top\":{\"__ndarray__\":\"AAAAAABAP0AAAAAAAABZQA==\",\"dtype\":\"float64\",\"order\":\"little\",\"shape\":[2]},\"value\":{\"__ndarray__\":\"AAAAAABAP0AAAAAAADBRQA==\",\"dtype\":\"float64\",\"order\":\"little\",\"shape\":[2]}},\"selected\":{\"id\":\"1660\"},\"selection_policy\":{\"id\":\"1673\"}},\"id\":\"1659\",\"type\":\"ColumnDataSource\"},{\"attributes\":{\"source\":{\"id\":\"1830\"}},\"id\":\"1837\",\"type\":\"CDSView\"},{\"attributes\":{\"fill_alpha\":{\"value\":0.2},\"fill_color\":{\"field\":\"Variable\",\"transform\":{\"id\":\"1658\"}},\"height\":{\"value\":0.8},\"left\":{\"field\":\"bottom\"},\"line_alpha\":{\"value\":0.2},\"right\":{\"field\":\"top\"},\"y\":{\"field\":\"index\"}},\"id\":\"1664\",\"type\":\"HBar\"},{\"attributes\":{\"text\":\"Duplicate Values\",\"text_color\":{\"value\":\"black\"},\"text_font_size\":{\"value\":\"12pt\"}},\"id\":\"1744\",\"type\":\"Title\"},{\"attributes\":{},\"id\":\"1840\",\"type\":\"BasicTickFormatter\"},{\"attributes\":{},\"id\":\"1842\",\"type\":\"CategoricalTickFormatter\"},{\"attributes\":{\"active_drag\":\"auto\",\"active_inspect\":\"auto\",\"active_multi\":null,\"active_scroll\":\"auto\",\"active_tap\":\"auto\",\"tools\":[{\"id\":\"1685\"},{\"id\":\"1702\"},{\"id\":\"1703\"},{\"id\":\"1704\"},{\"id\":\"1705\"},{\"id\":\"1706\"}]},\"id\":\"1708\",\"type\":\"Toolbar\"},{\"attributes\":{\"children\":[[{\"id\":\"1629\"},0,0],[{\"id\":\"1686\"},1,0],[{\"id\":\"1743\"},2,0],[{\"id\":\"1800\"},3,0]]},\"id\":\"1887\",\"type\":\"GridBox\"},{\"attributes\":{\"items\":[{\"id\":\"1847\"}],\"location\":[0,0]},\"id\":\"1846\",\"type\":\"Legend\"},{\"attributes\":{\"fill_color\":{\"field\":\"Variable\",\"transform\":{\"id\":\"1715\"}},\"height\":{\"value\":0.8},\"left\":{\"field\":\"bottom\"},\"right\":{\"field\":\"top\"},\"y\":{\"field\":\"index\"}},\"id\":\"1719\",\"type\":\"HBar\"},{\"attributes\":{\"fill_alpha\":{\"value\":0.2},\"fill_color\":{\"field\":\"Variable\",\"transform\":{\"id\":\"1829\"}},\"height\":{\"value\":0.8},\"left\":{\"field\":\"bottom\"},\"line_alpha\":{\"value\":0.2},\"right\":{\"field\":\"top\"},\"y\":{\"field\":\"index\"}},\"id\":\"1835\",\"type\":\"HBar\"},{\"attributes\":{},\"id\":\"1717\",\"type\":\"Selection\"},{\"attributes\":{},\"id\":\"1669\",\"type\":\"BasicTickFormatter\"},{\"attributes\":{\"label\":{\"field\":\"Variable\"},\"renderers\":[{\"id\":\"1836\"}]},\"id\":\"1847\",\"type\":\"LegendItem\"},{\"attributes\":{\"overlay\":{\"id\":\"1821\"}},\"id\":\"1819\",\"type\":\"BoxZoomTool\"},{\"attributes\":{\"fill_alpha\":{\"value\":0.1},\"fill_color\":{\"field\":\"Variable\",\"transform\":{\"id\":\"1658\"}},\"height\":{\"value\":0.8},\"left\":{\"field\":\"bottom\"},\"line_alpha\":{\"value\":0.1},\"right\":{\"field\":\"top\"},\"y\":{\"field\":\"index\"}},\"id\":\"1663\",\"type\":\"HBar\"},{\"attributes\":{},\"id\":\"1671\",\"type\":\"CategoricalTickFormatter\"},{\"attributes\":{\"data\":{\"Variable\":[\"Unique\",\"Duplicate\"],\"bottom\":{\"__ndarray__\":\"AAAAAAAAAAAAAAAAAABZQA==\",\"dtype\":\"float64\",\"order\":\"little\",\"shape\":[2]},\"index\":[\"values\",\"values\"],\"top\":{\"__ndarray__\":\"AAAAAAAAWUAAAAAAAABZQA==\",\"dtype\":\"float64\",\"order\":\"little\",\"shape\":[2]},\"value\":{\"__ndarray__\":\"AAAAAAAAWUAAAAAAAAAAAA==\",\"dtype\":\"float64\",\"order\":\"little\",\"shape\":[2]}},\"selected\":{\"id\":\"1774\"},\"selection_policy\":{\"id\":\"1787\"}},\"id\":\"1773\",\"type\":\"ColumnDataSource\"},{\"attributes\":{\"children\":[{\"id\":\"1889\"},{\"id\":\"1887\"}]},\"id\":\"1890\",\"type\":\"Column\"},{\"attributes\":{},\"id\":\"1129\",\"type\":\"ResetTool\"},{\"attributes\":{\"text\":\"Missing Values\",\"text_color\":{\"value\":\"black\"},\"text_font_size\":{\"value\":\"12pt\"}},\"id\":\"1687\",\"type\":\"Title\"},{\"attributes\":{},\"id\":\"1673\",\"type\":\"UnionRenderers\"},{\"attributes\":{\"style\":{\"white-space\":\"nowrap\"},\"text\":\"<span style=\\\"color:black;font-family:Arial;font-style:bold;font-weight:bold;font-size:12pt\\\">Data Shape:(313571, 16)</span>\",\"width\":450},\"id\":\"1891\",\"type\":\"Div\"},{\"attributes\":{\"ticks\":[0]},\"id\":\"1271\",\"type\":\"FixedTicker\"},{\"attributes\":{\"text\":\"Datatypes\",\"text_color\":{\"value\":\"black\"},\"text_font_size\":{\"value\":\"12pt\"}},\"id\":\"1630\",\"type\":\"Title\"},{\"attributes\":{},\"id\":\"1125\",\"type\":\"SaveTool\"},{\"attributes\":{},\"id\":\"1634\",\"type\":\"LinearScale\"},{\"attributes\":{\"axis\":{\"id\":\"1752\"},\"grid_line_color\":null,\"ticker\":null},\"id\":\"1755\",\"type\":\"Grid\"},{\"attributes\":{\"axis\":{\"id\":\"1756\"},\"dimension\":1,\"grid_line_color\":null,\"ticker\":null},\"id\":\"1758\",\"type\":\"Grid\"},{\"attributes\":{\"axis_label\":\"\",\"bounds\":\"auto\",\"formatter\":{\"id\":\"1842\"},\"major_label_orientation\":\"horizontal\",\"ticker\":{\"id\":\"1814\"}},\"id\":\"1813\",\"type\":\"CategoricalAxis\"},{\"attributes\":{\"axis_label\":\"\",\"bounds\":\"auto\",\"formatter\":{\"id\":\"1151\"},\"major_label_orientation\":\"horizontal\",\"ticker\":{\"id\":\"1123\"}},\"id\":\"1122\",\"type\":\"CategoricalAxis\"},{\"attributes\":{},\"id\":\"1730\",\"type\":\"UnionRenderers\"},{\"attributes\":{},\"id\":\"1123\",\"type\":\"CategoricalTicker\"},{\"attributes\":{},\"id\":\"1645\",\"type\":\"SaveTool\"},{\"attributes\":{\"ticks\":[0]},\"id\":\"1848\",\"type\":\"FixedTicker\"},{\"attributes\":{\"source\":{\"id\":\"1139\"}},\"id\":\"1146\",\"type\":\"CDSView\"},{\"attributes\":{\"axis_label\":\"\",\"bounds\":\"auto\",\"formatter\":{\"id\":\"1669\"},\"major_label_orientation\":\"horizontal\",\"ticker\":{\"id\":\"1677\"}},\"id\":\"1638\",\"type\":\"LinearAxis\"},{\"attributes\":{},\"id\":\"1691\",\"type\":\"LinearScale\"},{\"attributes\":{\"callback\":null,\"renderers\":[{\"id\":\"1259\"}],\"tags\":[\"hv_created\"],\"tooltips\":[[\"index\",\"@{index}\"],[\"Variable\",\"@{Variable}\"],[\"value\",\"@{value}\"]]},\"id\":\"1222\",\"type\":\"HoverTool\"},{\"attributes\":{\"callback\":null,\"renderers\":[{\"id\":\"1722\"}],\"tags\":[\"hv_created\"],\"tooltips\":[[\"index\",\"@{index}\"],[\"Variable\",\"@{Variable}\"],[\"value\",\"@{value}\"]]},\"id\":\"1685\",\"type\":\"HoverTool\"},{\"attributes\":{\"overlay\":{\"id\":\"1650\"}},\"id\":\"1648\",\"type\":\"BoxZoomTool\"},{\"attributes\":{\"align\":null,\"below\":[{\"id\":\"1695\"}],\"center\":[{\"id\":\"1698\"},{\"id\":\"1701\"},{\"id\":\"1732\"}],\"left\":[{\"id\":\"1699\"}],\"margin\":null,\"min_border_bottom\":10,\"min_border_left\":10,\"min_border_right\":10,\"min_border_top\":10,\"plot_height\":100,\"plot_width\":700,\"renderers\":[{\"id\":\"1722\"}],\"right\":[{\"id\":\"1732\"}],\"sizing_mode\":\"fixed\",\"title\":{\"id\":\"1687\"},\"toolbar\":{\"id\":\"1708\"},\"toolbar_location\":null,\"x_range\":{\"id\":\"1106\"},\"x_scale\":{\"id\":\"1691\"},\"y_range\":{\"id\":\"1107\"},\"y_scale\":{\"id\":\"1693\"}},\"id\":\"1686\",\"subtype\":\"Figure\",\"type\":\"Plot\"},{\"attributes\":{},\"id\":\"1649\",\"type\":\"ResetTool\"},{\"attributes\":{},\"id\":\"1748\",\"type\":\"LinearScale\"},{\"attributes\":{\"ticks\":[0]},\"id\":\"1677\",\"type\":\"FixedTicker\"},{\"attributes\":{},\"id\":\"1726\",\"type\":\"BasicTickFormatter\"},{\"attributes\":{\"axis_label\":\"\",\"bounds\":\"auto\",\"formatter\":{\"id\":\"1671\"},\"major_label_orientation\":\"horizontal\",\"ticker\":{\"id\":\"1643\"}},\"id\":\"1642\",\"type\":\"CategoricalAxis\"},{\"attributes\":{\"child\":{\"id\":\"1892\"},\"name\":\"opportunity_df\",\"title\":\"opportunity_df\"},\"id\":\"2145\",\"type\":\"Panel\"},{\"attributes\":{},\"id\":\"1127\",\"type\":\"WheelZoomTool\"},{\"attributes\":{\"axis\":{\"id\":\"1642\"},\"dimension\":1,\"grid_line_color\":null,\"ticker\":null},\"id\":\"1644\",\"type\":\"Grid\"},{\"attributes\":{\"bottom_units\":\"screen\",\"fill_alpha\":0.5,\"fill_color\":\"lightgrey\",\"left_units\":\"screen\",\"level\":\"overlay\",\"line_alpha\":1.0,\"line_color\":\"black\",\"line_dash\":[4,4],\"line_width\":2,\"right_units\":\"screen\",\"top_units\":\"screen\"},\"id\":\"1301\",\"type\":\"BoxAnnotation\"},{\"attributes\":{\"axis_label\":\"\",\"bounds\":\"auto\",\"formatter\":{\"id\":\"1783\"},\"major_label_orientation\":\"horizontal\",\"ticker\":{\"id\":\"1791\"}},\"id\":\"1752\",\"type\":\"LinearAxis\"},{\"attributes\":{\"source\":{\"id\":\"1310\"}},\"id\":\"1317\",\"type\":\"CDSView\"},{\"attributes\":{},\"id\":\"1643\",\"type\":\"CategoricalTicker\"},{\"attributes\":{},\"id\":\"1693\",\"type\":\"CategoricalScale\"},{\"attributes\":{\"label\":{\"field\":\"Variable\"},\"renderers\":[{\"id\":\"1145\"}]},\"id\":\"1156\",\"type\":\"LegendItem\"},{\"attributes\":{\"axis_label\":\"\",\"bounds\":\"auto\",\"formatter\":{\"id\":\"1785\"},\"major_label_orientation\":\"horizontal\",\"ticker\":{\"id\":\"1757\"}},\"id\":\"1756\",\"type\":\"CategoricalAxis\"},{\"attributes\":{},\"id\":\"1814\",\"type\":\"CategoricalTicker\"},{\"attributes\":{\"align\":null,\"below\":[{\"id\":\"1232\"}],\"center\":[{\"id\":\"1235\"},{\"id\":\"1238\"},{\"id\":\"1269\"}],\"left\":[{\"id\":\"1236\"}],\"margin\":null,\"min_border_bottom\":10,\"min_border_left\":10,\"min_border_right\":10,\"min_border_top\":10,\"plot_height\":100,\"plot_width\":700,\"renderers\":[{\"id\":\"1259\"}],\"right\":[{\"id\":\"1269\"}],\"sizing_mode\":\"fixed\",\"title\":{\"id\":\"1224\"},\"toolbar\":{\"id\":\"1245\"},\"toolbar_location\":null,\"x_range\":{\"id\":\"1106\"},\"x_scale\":{\"id\":\"1228\"},\"y_range\":{\"id\":\"1107\"},\"y_scale\":{\"id\":\"1230\"}},\"id\":\"1223\",\"subtype\":\"Figure\",\"type\":\"Plot\"},{\"attributes\":{\"overlay\":{\"id\":\"1130\"}},\"id\":\"1128\",\"type\":\"BoxZoomTool\"},{\"attributes\":{\"axis\":{\"id\":\"1809\"},\"grid_line_color\":null,\"ticker\":null},\"id\":\"1812\",\"type\":\"Grid\"},{\"attributes\":{\"items\":[{\"id\":\"1156\"}],\"location\":[0,0]},\"id\":\"1155\",\"type\":\"Legend\"},{\"attributes\":{},\"id\":\"1757\",\"type\":\"CategoricalTicker\"},{\"attributes\":{\"axis\":{\"id\":\"1118\"},\"grid_line_color\":null,\"ticker\":null},\"id\":\"1121\",\"type\":\"Grid\"},{\"attributes\":{\"axis_label\":\"\",\"bounds\":\"auto\",\"formatter\":{\"id\":\"1726\"},\"major_label_orientation\":\"horizontal\",\"ticker\":{\"id\":\"1734\"}},\"id\":\"1695\",\"type\":\"LinearAxis\"},{\"attributes\":{\"fill_alpha\":{\"value\":0.2},\"fill_color\":{\"field\":\"Variable\",\"transform\":{\"id\":\"1138\"}},\"height\":{\"value\":0.8},\"left\":{\"field\":\"bottom\"},\"line_alpha\":{\"value\":0.2},\"right\":{\"field\":\"top\"},\"y\":{\"field\":\"index\"}},\"id\":\"1144\",\"type\":\"HBar\"},{\"attributes\":{\"factors\":[\"Unique\",\"Duplicate\"],\"palette\":[\"#1f77b3\",\"#ff7e0e\"]},\"id\":\"1829\",\"type\":\"CategoricalColorMapper\"},{\"attributes\":{},\"id\":\"1750\",\"type\":\"CategoricalScale\"},{\"attributes\":{\"axis\":{\"id\":\"1638\"},\"grid_line_color\":null,\"ticker\":null},\"id\":\"1641\",\"type\":\"Grid\"},{\"attributes\":{\"data\":{\"Variable\":[\"Numeric\",\"Others\"],\"bottom\":{\"__ndarray__\":\"AAAAAAAAAAAAAAAAAMBSQA==\",\"dtype\":\"float64\",\"order\":\"little\",\"shape\":[2]},\"index\":[\"values\",\"values\"],\"top\":{\"__ndarray__\":\"AAAAAADAUkAAAAAAAABZQA==\",\"dtype\":\"float64\",\"order\":\"little\",\"shape\":[2]},\"value\":{\"__ndarray__\":\"AAAAAADAUkAAAAAAAAA5QA==\",\"dtype\":\"float64\",\"order\":\"little\",\"shape\":[2]}},\"selected\":{\"id\":\"1140\"},\"selection_policy\":{\"id\":\"1153\"}},\"id\":\"1139\",\"type\":\"ColumnDataSource\"},{\"attributes\":{\"axis\":{\"id\":\"1122\"},\"dimension\":1,\"grid_line_color\":null,\"ticker\":null},\"id\":\"1124\",\"type\":\"Grid\"},{\"attributes\":{},\"id\":\"1636\",\"type\":\"CategoricalScale\"},{\"attributes\":{\"children\":[{\"id\":\"1891\"},{\"id\":\"1890\"}]},\"id\":\"1892\",\"type\":\"Column\"},{\"attributes\":{},\"id\":\"1728\",\"type\":\"CategoricalTickFormatter\"},{\"attributes\":{},\"id\":\"1126\",\"type\":\"PanTool\"},{\"attributes\":{\"data_source\":{\"id\":\"1139\"},\"glyph\":{\"id\":\"1142\"},\"hover_glyph\":null,\"muted_glyph\":{\"id\":\"1144\"},\"nonselection_glyph\":{\"id\":\"1143\"},\"selection_glyph\":null,\"view\":{\"id\":\"1146\"}},\"id\":\"1145\",\"type\":\"GlyphRenderer\"},{\"attributes\":{\"callback\":null,\"renderers\":[{\"id\":\"1665\"}],\"tags\":[\"hv_created\"],\"tooltips\":[[\"index\",\"@{index}\"],[\"Variable\",\"@{Variable}\"],[\"value\",\"@{value}\"]]},\"id\":\"1628\",\"type\":\"HoverTool\"},{\"attributes\":{\"fill_alpha\":{\"value\":0.1},\"fill_color\":{\"field\":\"Variable\",\"transform\":{\"id\":\"1138\"}},\"height\":{\"value\":0.8},\"left\":{\"field\":\"bottom\"},\"line_alpha\":{\"value\":0.1},\"right\":{\"field\":\"top\"},\"y\":{\"field\":\"index\"}},\"id\":\"1143\",\"type\":\"HBar\"},{\"attributes\":{},\"id\":\"1197\",\"type\":\"Selection\"},{\"attributes\":{\"data\":{\"Variable\":[\"Available\",\"Missing\"],\"bottom\":{\"__ndarray__\":\"AAAAAAAAAACqBczwqdZXQA==\",\"dtype\":\"float64\",\"order\":\"little\",\"shape\":[2]},\"index\":[\"values\",\"values\"],\"top\":{\"__ndarray__\":\"qgXM8KnWV0AAAAAAAABZQA==\",\"dtype\":\"float64\",\"order\":\"little\",\"shape\":[2]},\"value\":{\"__ndarray__\":\"qgXM8KnWV0BZpT/zYJUSQA==\",\"dtype\":\"float64\",\"order\":\"little\",\"shape\":[2]}},\"selected\":{\"id\":\"1717\"},\"selection_policy\":{\"id\":\"1730\"}},\"id\":\"1716\",\"type\":\"ColumnDataSource\"},{\"attributes\":{\"factors\":[\"Available\",\"Missing\"],\"palette\":[\"#1f77b3\",\"#ff7e0e\"]},\"id\":\"1715\",\"type\":\"CategoricalColorMapper\"},{\"attributes\":{\"align\":null,\"below\":[{\"id\":\"1638\"}],\"center\":[{\"id\":\"1641\"},{\"id\":\"1644\"},{\"id\":\"1675\"}],\"left\":[{\"id\":\"1642\"}],\"margin\":null,\"min_border_bottom\":10,\"min_border_left\":10,\"min_border_right\":10,\"min_border_top\":10,\"plot_height\":100,\"plot_width\":700,\"renderers\":[{\"id\":\"1665\"}],\"right\":[{\"id\":\"1675\"}],\"sizing_mode\":\"fixed\",\"title\":{\"id\":\"1630\"},\"toolbar\":{\"id\":\"1651\"},\"toolbar_location\":null,\"x_range\":{\"id\":\"1106\"},\"x_scale\":{\"id\":\"1634\"},\"y_range\":{\"id\":\"1107\"},\"y_scale\":{\"id\":\"1636\"}},\"id\":\"1629\",\"subtype\":\"Figure\",\"type\":\"Plot\"},{\"attributes\":{},\"id\":\"1647\",\"type\":\"WheelZoomTool\"},{\"attributes\":{\"axis_label\":\"\",\"bounds\":\"auto\",\"formatter\":{\"id\":\"1149\"},\"major_label_orientation\":\"horizontal\",\"ticker\":{\"id\":\"1157\"}},\"id\":\"1118\",\"type\":\"LinearAxis\"},{\"attributes\":{},\"id\":\"1646\",\"type\":\"PanTool\"},{\"attributes\":{\"toolbar\":{\"id\":\"1368\"},\"toolbar_location\":\"above\"},\"id\":\"1369\",\"type\":\"ToolbarBox\"},{\"attributes\":{\"axis\":{\"id\":\"1232\"},\"grid_line_color\":null,\"ticker\":null},\"id\":\"1235\",\"type\":\"Grid\"},{\"attributes\":{\"active_drag\":\"auto\",\"active_inspect\":\"auto\",\"active_multi\":null,\"active_scroll\":\"auto\",\"active_tap\":\"auto\",\"tools\":[{\"id\":\"1742\"},{\"id\":\"1759\"},{\"id\":\"1760\"},{\"id\":\"1761\"},{\"id\":\"1762\"},{\"id\":\"1763\"}]},\"id\":\"1765\",\"type\":\"Toolbar\"},{\"attributes\":{\"source\":{\"id\":\"1716\"}},\"id\":\"1723\",\"type\":\"CDSView\"},{\"attributes\":{\"factors\":[\"Unique\",\"Duplicate\"],\"palette\":[\"#1f77b3\",\"#ff7e0e\"]},\"id\":\"1309\",\"type\":\"CategoricalColorMapper\"},{\"attributes\":{\"label\":{\"field\":\"Variable\"},\"renderers\":[{\"id\":\"1722\"}]},\"id\":\"1733\",\"type\":\"LegendItem\"},{\"attributes\":{},\"id\":\"1816\",\"type\":\"SaveTool\"},{\"attributes\":{\"fill_alpha\":{\"value\":0.2},\"fill_color\":{\"field\":\"Variable\",\"transform\":{\"id\":\"1195\"}},\"height\":{\"value\":0.8},\"left\":{\"field\":\"bottom\"},\"line_alpha\":{\"value\":0.2},\"right\":{\"field\":\"top\"},\"y\":{\"field\":\"index\"}},\"id\":\"1201\",\"type\":\"HBar\"},{\"attributes\":{\"bottom_units\":\"screen\",\"fill_alpha\":0.5,\"fill_color\":\"lightgrey\",\"left_units\":\"screen\",\"level\":\"overlay\",\"line_alpha\":1.0,\"line_color\":\"black\",\"line_dash\":[4,4],\"line_width\":2,\"right_units\":\"screen\",\"top_units\":\"screen\"},\"id\":\"1650\",\"type\":\"BoxAnnotation\"},{\"attributes\":{\"toolbars\":[{\"id\":\"1651\"},{\"id\":\"1708\"},{\"id\":\"1765\"},{\"id\":\"1822\"}],\"tools\":[{\"id\":\"1628\"},{\"id\":\"1645\"},{\"id\":\"1646\"},{\"id\":\"1647\"},{\"id\":\"1648\"},{\"id\":\"1649\"},{\"id\":\"1685\"},{\"id\":\"1702\"},{\"id\":\"1703\"},{\"id\":\"1704\"},{\"id\":\"1705\"},{\"id\":\"1706\"},{\"id\":\"1742\"},{\"id\":\"1759\"},{\"id\":\"1760\"},{\"id\":\"1761\"},{\"id\":\"1762\"},{\"id\":\"1763\"},{\"id\":\"1799\"},{\"id\":\"1816\"},{\"id\":\"1817\"},{\"id\":\"1818\"},{\"id\":\"1819\"},{\"id\":\"1820\"}]},\"id\":\"1888\",\"type\":\"ProxyToolbar\"},{\"attributes\":{\"factors\":[\"Unique\",\"Duplicate\"],\"palette\":[\"#1f77b3\",\"#ff7e0e\"]},\"id\":\"1772\",\"type\":\"CategoricalColorMapper\"},{\"attributes\":{\"items\":[{\"id\":\"1733\"}],\"location\":[0,0]},\"id\":\"1732\",\"type\":\"Legend\"},{\"attributes\":{},\"id\":\"1116\",\"type\":\"CategoricalScale\"},{\"attributes\":{\"axis\":{\"id\":\"1813\"},\"dimension\":1,\"grid_line_color\":null,\"ticker\":null},\"id\":\"1815\",\"type\":\"Grid\"},{\"attributes\":{\"fill_alpha\":{\"value\":0.1},\"fill_color\":{\"field\":\"Variable\",\"transform\":{\"id\":\"1195\"}},\"height\":{\"value\":0.8},\"left\":{\"field\":\"bottom\"},\"line_alpha\":{\"value\":0.1},\"right\":{\"field\":\"top\"},\"y\":{\"field\":\"index\"}},\"id\":\"1200\",\"type\":\"HBar\"},{\"attributes\":{},\"id\":\"1787\",\"type\":\"UnionRenderers\"},{\"attributes\":{\"align\":null,\"below\":[{\"id\":\"1809\"}],\"center\":[{\"id\":\"1812\"},{\"id\":\"1815\"},{\"id\":\"1846\"}],\"left\":[{\"id\":\"1813\"}],\"margin\":null,\"min_border_bottom\":10,\"min_border_left\":10,\"min_border_right\":10,\"min_border_top\":10,\"plot_height\":100,\"plot_width\":700,\"renderers\":[{\"id\":\"1836\"}],\"right\":[{\"id\":\"1846\"}],\"sizing_mode\":\"fixed\",\"title\":{\"id\":\"1801\"},\"toolbar\":{\"id\":\"1822\"},\"toolbar_location\":null,\"x_range\":{\"id\":\"1106\"},\"x_scale\":{\"id\":\"1805\"},\"y_range\":{\"id\":\"1107\"},\"y_scale\":{\"id\":\"1807\"}},\"id\":\"1800\",\"subtype\":\"Figure\",\"type\":\"Plot\"},{\"attributes\":{\"fill_alpha\":{\"value\":0.1},\"fill_color\":{\"field\":\"Variable\",\"transform\":{\"id\":\"1772\"}},\"height\":{\"value\":0.8},\"left\":{\"field\":\"bottom\"},\"line_alpha\":{\"value\":0.1},\"right\":{\"field\":\"top\"},\"y\":{\"field\":\"index\"}},\"id\":\"1777\",\"type\":\"HBar\"},{\"attributes\":{\"bottom_units\":\"screen\",\"fill_alpha\":0.5,\"fill_color\":\"lightgrey\",\"left_units\":\"screen\",\"level\":\"overlay\",\"line_alpha\":1.0,\"line_color\":\"black\",\"line_dash\":[4,4],\"line_width\":2,\"right_units\":\"screen\",\"top_units\":\"screen\"},\"id\":\"1764\",\"type\":\"BoxAnnotation\"},{\"attributes\":{\"children\":[[{\"id\":\"1109\"},0,0],[{\"id\":\"1166\"},1,0],[{\"id\":\"1223\"},2,0],[{\"id\":\"1280\"},3,0]]},\"id\":\"1367\",\"type\":\"GridBox\"},{\"attributes\":{\"text\":\"Datatypes\",\"text_color\":{\"value\":\"black\"},\"text_font_size\":{\"value\":\"12pt\"}},\"id\":\"1110\",\"type\":\"Title\"},{\"attributes\":{\"bottom_units\":\"screen\",\"fill_alpha\":0.5,\"fill_color\":\"lightgrey\",\"left_units\":\"screen\",\"level\":\"overlay\",\"line_alpha\":1.0,\"line_color\":\"black\",\"line_dash\":[4,4],\"line_width\":2,\"right_units\":\"screen\",\"top_units\":\"screen\"},\"id\":\"1821\",\"type\":\"BoxAnnotation\"},{\"attributes\":{\"text\":\"Duplicate Columns\",\"text_color\":{\"value\":\"black\"},\"text_font_size\":{\"value\":\"12pt\"}},\"id\":\"1281\",\"type\":\"Title\"},{\"attributes\":{\"fill_color\":{\"field\":\"Variable\",\"transform\":{\"id\":\"1772\"}},\"height\":{\"value\":0.8},\"left\":{\"field\":\"bottom\"},\"right\":{\"field\":\"top\"},\"y\":{\"field\":\"index\"}},\"id\":\"1776\",\"type\":\"HBar\"},{\"attributes\":{\"fill_color\":{\"field\":\"Variable\",\"transform\":{\"id\":\"1195\"}},\"height\":{\"value\":0.8},\"left\":{\"field\":\"bottom\"},\"right\":{\"field\":\"top\"},\"y\":{\"field\":\"index\"}},\"id\":\"1199\",\"type\":\"HBar\"},{\"attributes\":{},\"id\":\"1783\",\"type\":\"BasicTickFormatter\"},{\"attributes\":{\"data_source\":{\"id\":\"1773\"},\"glyph\":{\"id\":\"1776\"},\"hover_glyph\":null,\"muted_glyph\":{\"id\":\"1778\"},\"nonselection_glyph\":{\"id\":\"1777\"},\"selection_glyph\":null,\"view\":{\"id\":\"1780\"}},\"id\":\"1779\",\"type\":\"GlyphRenderer\"},{\"attributes\":{},\"id\":\"1320\",\"type\":\"BasicTickFormatter\"},{\"attributes\":{\"callback\":null,\"renderers\":[{\"id\":\"1316\"}],\"tags\":[\"hv_created\"],\"tooltips\":[[\"index\",\"@{index}\"],[\"Variable\",\"@{Variable}\"],[\"value\",\"@{value}\"]]},\"id\":\"1279\",\"type\":\"HoverTool\"},{\"attributes\":{},\"id\":\"1785\",\"type\":\"CategoricalTickFormatter\"},{\"attributes\":{\"margin\":[0,0,0,0],\"tabs\":[{\"id\":\"1625\"},{\"id\":\"2145\"}]},\"id\":\"1105\",\"type\":\"Tabs\"},{\"attributes\":{\"align\":null,\"below\":[{\"id\":\"1289\"}],\"center\":[{\"id\":\"1292\"},{\"id\":\"1295\"},{\"id\":\"1326\"}],\"left\":[{\"id\":\"1293\"}],\"margin\":null,\"min_border_bottom\":10,\"min_border_left\":10,\"min_border_right\":10,\"min_border_top\":10,\"plot_height\":100,\"plot_width\":700,\"renderers\":[{\"id\":\"1316\"}],\"right\":[{\"id\":\"1326\"}],\"sizing_mode\":\"fixed\",\"title\":{\"id\":\"1281\"},\"toolbar\":{\"id\":\"1302\"},\"toolbar_location\":null,\"x_range\":{\"id\":\"1106\"},\"x_scale\":{\"id\":\"1285\"},\"y_range\":{\"id\":\"1107\"},\"y_scale\":{\"id\":\"1287\"}},\"id\":\"1280\",\"subtype\":\"Figure\",\"type\":\"Plot\"},{\"attributes\":{},\"id\":\"1322\",\"type\":\"CategoricalTickFormatter\"},{\"attributes\":{\"source\":{\"id\":\"1773\"}},\"id\":\"1780\",\"type\":\"CDSView\"},{\"attributes\":{\"fill_alpha\":{\"value\":0.2},\"fill_color\":{\"field\":\"Variable\",\"transform\":{\"id\":\"1715\"}},\"height\":{\"value\":0.8},\"left\":{\"field\":\"bottom\"},\"line_alpha\":{\"value\":0.2},\"right\":{\"field\":\"top\"},\"y\":{\"field\":\"index\"}},\"id\":\"1721\",\"type\":\"HBar\"},{\"attributes\":{},\"id\":\"1774\",\"type\":\"Selection\"},{\"attributes\":{},\"id\":\"1228\",\"type\":\"LinearScale\"},{\"attributes\":{\"data_source\":{\"id\":\"1716\"},\"glyph\":{\"id\":\"1719\"},\"hover_glyph\":null,\"muted_glyph\":{\"id\":\"1721\"},\"nonselection_glyph\":{\"id\":\"1720\"},\"selection_glyph\":null,\"view\":{\"id\":\"1723\"}},\"id\":\"1722\",\"type\":\"GlyphRenderer\"},{\"attributes\":{\"data\":{\"Variable\":[\"Available\",\"Missing\"],\"bottom\":{\"__ndarray__\":\"AAAAAAAAAADLmzf7uv9YQA==\",\"dtype\":\"float64\",\"order\":\"little\",\"shape\":[2]},\"index\":[\"values\",\"values\"],\"top\":{\"__ndarray__\":\"y5s3+7r/WEAAAAAAAABZQA==\",\"dtype\":\"float64\",\"order\":\"little\",\"shape\":[2]},\"value\":{\"__ndarray__\":\"y5s3+7r/WEBMNw0ZMkFxPw==\",\"dtype\":\"float64\",\"order\":\"little\",\"shape\":[2]}},\"selected\":{\"id\":\"1197\"},\"selection_policy\":{\"id\":\"1210\"}},\"id\":\"1196\",\"type\":\"ColumnDataSource\"},{\"attributes\":{\"fill_alpha\":{\"value\":0.2},\"fill_color\":{\"field\":\"Variable\",\"transform\":{\"id\":\"1772\"}},\"height\":{\"value\":0.8},\"left\":{\"field\":\"bottom\"},\"line_alpha\":{\"value\":0.2},\"right\":{\"field\":\"top\"},\"y\":{\"field\":\"index\"}},\"id\":\"1778\",\"type\":\"HBar\"},{\"attributes\":{},\"id\":\"1324\",\"type\":\"UnionRenderers\"},{\"attributes\":{\"ticks\":[0]},\"id\":\"1791\",\"type\":\"FixedTicker\"},{\"attributes\":{\"text\":\"Duplicate Columns\",\"text_color\":{\"value\":\"black\"},\"text_font_size\":{\"value\":\"12pt\"}},\"id\":\"1801\",\"type\":\"Title\"},{\"attributes\":{\"label\":{\"field\":\"Variable\"},\"renderers\":[{\"id\":\"1779\"}]},\"id\":\"1790\",\"type\":\"LegendItem\"},{\"attributes\":{\"toolbars\":[{\"id\":\"1131\"},{\"id\":\"1188\"},{\"id\":\"1245\"},{\"id\":\"1302\"}],\"tools\":[{\"id\":\"1108\"},{\"id\":\"1125\"},{\"id\":\"1126\"},{\"id\":\"1127\"},{\"id\":\"1128\"},{\"id\":\"1129\"},{\"id\":\"1165\"},{\"id\":\"1182\"},{\"id\":\"1183\"},{\"id\":\"1184\"},{\"id\":\"1185\"},{\"id\":\"1186\"},{\"id\":\"1222\"},{\"id\":\"1239\"},{\"id\":\"1240\"},{\"id\":\"1241\"},{\"id\":\"1242\"},{\"id\":\"1243\"},{\"id\":\"1279\"},{\"id\":\"1296\"},{\"id\":\"1297\"},{\"id\":\"1298\"},{\"id\":\"1299\"},{\"id\":\"1300\"}]},\"id\":\"1368\",\"type\":\"ProxyToolbar\"},{\"attributes\":{\"axis_label\":\"\",\"bounds\":\"auto\",\"formatter\":{\"id\":\"1840\"},\"major_label_orientation\":\"horizontal\",\"ticker\":{\"id\":\"1848\"}},\"id\":\"1809\",\"type\":\"LinearAxis\"},{\"attributes\":{\"active_drag\":\"auto\",\"active_inspect\":\"auto\",\"active_multi\":null,\"active_scroll\":\"auto\",\"active_tap\":\"auto\",\"tools\":[{\"id\":\"1628\"},{\"id\":\"1645\"},{\"id\":\"1646\"},{\"id\":\"1647\"},{\"id\":\"1648\"},{\"id\":\"1649\"}]},\"id\":\"1651\",\"type\":\"Toolbar\"},{\"attributes\":{\"client_comm_id\":\"98e610d050744770b4459698a8daff1e\",\"comm_id\":\"ceae9d362df845a881d357c18f4aefd2\",\"plot_id\":\"1105\"},\"id\":\"2314\",\"type\":\"panel.models.comm_manager.CommManager\"},{\"attributes\":{},\"id\":\"1805\",\"type\":\"LinearScale\"},{\"attributes\":{},\"id\":\"1149\",\"type\":\"BasicTickFormatter\"},{\"attributes\":{\"factors\":[\"Available\",\"Missing\"],\"palette\":[\"#1f77b3\",\"#ff7e0e\"]},\"id\":\"1195\",\"type\":\"CategoricalColorMapper\"},{\"attributes\":{},\"id\":\"1817\",\"type\":\"PanTool\"},{\"attributes\":{\"axis_label\":\"\",\"bounds\":\"auto\",\"formatter\":{\"id\":\"1208\"},\"major_label_orientation\":\"horizontal\",\"ticker\":{\"id\":\"1180\"}},\"id\":\"1179\",\"type\":\"CategoricalAxis\"},{\"attributes\":{\"align\":null,\"below\":[{\"id\":\"1118\"}],\"center\":[{\"id\":\"1121\"},{\"id\":\"1124\"},{\"id\":\"1155\"}],\"left\":[{\"id\":\"1122\"}],\"margin\":null,\"min_border_bottom\":10,\"min_border_left\":10,\"min_border_right\":10,\"min_border_top\":10,\"plot_height\":100,\"plot_width\":700,\"renderers\":[{\"id\":\"1145\"}],\"right\":[{\"id\":\"1155\"}],\"sizing_mode\":\"fixed\",\"title\":{\"id\":\"1110\"},\"toolbar\":{\"id\":\"1131\"},\"toolbar_location\":null,\"x_range\":{\"id\":\"1106\"},\"x_scale\":{\"id\":\"1114\"},\"y_range\":{\"id\":\"1107\"},\"y_scale\":{\"id\":\"1116\"}},\"id\":\"1109\",\"subtype\":\"Figure\",\"type\":\"Plot\"},{\"attributes\":{\"callback\":null,\"renderers\":[{\"id\":\"1836\"}],\"tags\":[\"hv_created\"],\"tooltips\":[[\"index\",\"@{index}\"],[\"Variable\",\"@{Variable}\"],[\"value\",\"@{value}\"]]},\"id\":\"1799\",\"type\":\"HoverTool\"},{\"attributes\":{},\"id\":\"1807\",\"type\":\"CategoricalScale\"},{\"attributes\":{\"ticks\":[0]},\"id\":\"1328\",\"type\":\"FixedTicker\"},{\"attributes\":{},\"id\":\"1114\",\"type\":\"LinearScale\"},{\"attributes\":{},\"id\":\"1267\",\"type\":\"UnionRenderers\"},{\"attributes\":{\"items\":[{\"id\":\"1790\"}],\"location\":[0,0]},\"id\":\"1789\",\"type\":\"Legend\"},{\"attributes\":{\"text\":\"Duplicate Values\",\"text_color\":{\"value\":\"black\"},\"text_font_size\":{\"value\":\"12pt\"}},\"id\":\"1224\",\"type\":\"Title\"},{\"attributes\":{\"data\":{\"Variable\":[\"Unique\",\"Duplicate\"],\"bottom\":{\"__ndarray__\":\"AAAAAAAAAAAAAAAAAABZQA==\",\"dtype\":\"float64\",\"order\":\"little\",\"shape\":[2]},\"index\":[\"values\",\"values\"],\"top\":{\"__ndarray__\":\"AAAAAAAAWUAAAAAAAABZQA==\",\"dtype\":\"float64\",\"order\":\"little\",\"shape\":[2]},\"value\":{\"__ndarray__\":\"AAAAAAAAWUAAAAAAAAAAAA==\",\"dtype\":\"float64\",\"order\":\"little\",\"shape\":[2]}},\"selected\":{\"id\":\"1831\"},\"selection_policy\":{\"id\":\"1844\"}},\"id\":\"1830\",\"type\":\"ColumnDataSource\"},{\"attributes\":{\"axis_label\":\"\",\"bounds\":\"auto\",\"formatter\":{\"id\":\"1320\"},\"major_label_orientation\":\"horizontal\",\"ticker\":{\"id\":\"1328\"}},\"id\":\"1289\",\"type\":\"LinearAxis\"},{\"attributes\":{\"active_drag\":\"auto\",\"active_inspect\":\"auto\",\"active_multi\":null,\"active_scroll\":\"auto\",\"active_tap\":\"auto\",\"tools\":[{\"id\":\"1108\"},{\"id\":\"1125\"},{\"id\":\"1126\"},{\"id\":\"1127\"},{\"id\":\"1128\"},{\"id\":\"1129\"}]},\"id\":\"1131\",\"type\":\"Toolbar\"},{\"attributes\":{},\"id\":\"1208\",\"type\":\"CategoricalTickFormatter\"},{\"attributes\":{\"label\":{\"field\":\"Variable\"},\"renderers\":[{\"id\":\"1259\"}]},\"id\":\"1270\",\"type\":\"LegendItem\"},{\"attributes\":{\"fill_alpha\":{\"value\":0.2},\"fill_color\":{\"field\":\"Variable\",\"transform\":{\"id\":\"1309\"}},\"height\":{\"value\":0.8},\"left\":{\"field\":\"bottom\"},\"line_alpha\":{\"value\":0.2},\"right\":{\"field\":\"top\"},\"y\":{\"field\":\"index\"}},\"id\":\"1315\",\"type\":\"HBar\"},{\"attributes\":{\"factors\":[\"Numeric\",\"Others\"],\"palette\":[\"#1f77b3\",\"#ff7e0e\"]},\"id\":\"1138\",\"type\":\"CategoricalColorMapper\"},{\"attributes\":{\"axis\":{\"id\":\"1289\"},\"grid_line_color\":null,\"ticker\":null},\"id\":\"1292\",\"type\":\"Grid\"},{\"attributes\":{\"bottom_units\":\"screen\",\"fill_alpha\":0.5,\"fill_color\":\"lightgrey\",\"left_units\":\"screen\",\"level\":\"overlay\",\"line_alpha\":1.0,\"line_color\":\"black\",\"line_dash\":[4,4],\"line_width\":2,\"right_units\":\"screen\",\"top_units\":\"screen\"},\"id\":\"1244\",\"type\":\"BoxAnnotation\"},{\"attributes\":{},\"id\":\"1210\",\"type\":\"UnionRenderers\"},{\"attributes\":{\"axis\":{\"id\":\"1236\"},\"dimension\":1,\"grid_line_color\":null,\"ticker\":null},\"id\":\"1238\",\"type\":\"Grid\"},{\"attributes\":{},\"id\":\"1296\",\"type\":\"SaveTool\"},{\"attributes\":{},\"id\":\"1311\",\"type\":\"Selection\"},{\"attributes\":{},\"id\":\"1243\",\"type\":\"ResetTool\"},{\"attributes\":{\"data\":{\"Variable\":[\"Unique\",\"Duplicate\"],\"bottom\":{\"__ndarray__\":\"AAAAAAAAAAAAAAAAAABZQA==\",\"dtype\":\"float64\",\"order\":\"little\",\"shape\":[2]},\"index\":[\"values\",\"values\"],\"top\":{\"__ndarray__\":\"AAAAAAAAWUAAAAAAAABZQA==\",\"dtype\":\"float64\",\"order\":\"little\",\"shape\":[2]},\"value\":{\"__ndarray__\":\"AAAAAAAAWUAAAAAAAAAAAA==\",\"dtype\":\"float64\",\"order\":\"little\",\"shape\":[2]}},\"selected\":{\"id\":\"1311\"},\"selection_policy\":{\"id\":\"1324\"}},\"id\":\"1310\",\"type\":\"ColumnDataSource\"},{\"attributes\":{\"source\":{\"id\":\"1253\"}},\"id\":\"1260\",\"type\":\"CDSView\"},{\"attributes\":{\"callback\":null,\"renderers\":[{\"id\":\"1145\"}],\"tags\":[\"hv_created\"],\"tooltips\":[[\"index\",\"@{index}\"],[\"Variable\",\"@{Variable}\"],[\"value\",\"@{value}\"]]},\"id\":\"1108\",\"type\":\"HoverTool\"},{\"attributes\":{\"axis_label\":\"\",\"bounds\":\"auto\",\"formatter\":{\"id\":\"1322\"},\"major_label_orientation\":\"horizontal\",\"ticker\":{\"id\":\"1294\"}},\"id\":\"1293\",\"type\":\"CategoricalAxis\"},{\"attributes\":{},\"id\":\"1300\",\"type\":\"ResetTool\"},{\"attributes\":{\"callback\":null,\"renderers\":[{\"id\":\"1202\"}],\"tags\":[\"hv_created\"],\"tooltips\":[[\"index\",\"@{index}\"],[\"Variable\",\"@{Variable}\"],[\"value\",\"@{value}\"]]},\"id\":\"1165\",\"type\":\"HoverTool\"},{\"attributes\":{\"axis_label\":\"\",\"bounds\":\"auto\",\"formatter\":{\"id\":\"1265\"},\"major_label_orientation\":\"horizontal\",\"ticker\":{\"id\":\"1237\"}},\"id\":\"1236\",\"type\":\"CategoricalAxis\"},{\"attributes\":{\"align\":null,\"below\":[{\"id\":\"1175\"}],\"center\":[{\"id\":\"1178\"},{\"id\":\"1181\"},{\"id\":\"1212\"}],\"left\":[{\"id\":\"1179\"}],\"margin\":null,\"min_border_bottom\":10,\"min_border_left\":10,\"min_border_right\":10,\"min_border_top\":10,\"plot_height\":100,\"plot_width\":700,\"renderers\":[{\"id\":\"1202\"}],\"right\":[{\"id\":\"1212\"}],\"sizing_mode\":\"fixed\",\"title\":{\"id\":\"1167\"},\"toolbar\":{\"id\":\"1188\"},\"toolbar_location\":null,\"x_range\":{\"id\":\"1106\"},\"x_scale\":{\"id\":\"1171\"},\"y_range\":{\"id\":\"1107\"},\"y_scale\":{\"id\":\"1173\"}},\"id\":\"1166\",\"subtype\":\"Figure\",\"type\":\"Plot\"},{\"attributes\":{\"items\":[{\"id\":\"1213\"}],\"location\":[0,0]},\"id\":\"1212\",\"type\":\"Legend\"},{\"attributes\":{},\"id\":\"1240\",\"type\":\"PanTool\"},{\"attributes\":{},\"id\":\"1298\",\"type\":\"WheelZoomTool\"},{\"attributes\":{\"bottom_units\":\"screen\",\"fill_alpha\":0.5,\"fill_color\":\"lightgrey\",\"left_units\":\"screen\",\"level\":\"overlay\",\"line_alpha\":1.0,\"line_color\":\"black\",\"line_dash\":[4,4],\"line_width\":2,\"right_units\":\"screen\",\"top_units\":\"screen\"},\"id\":\"1130\",\"type\":\"BoxAnnotation\"},{\"attributes\":{\"label\":{\"field\":\"Variable\"},\"renderers\":[{\"id\":\"1202\"}]},\"id\":\"1213\",\"type\":\"LegendItem\"},{\"attributes\":{\"factors\":[\"values\"],\"tags\":[[[\"index\",\"index\",null]]]},\"id\":\"1107\",\"type\":\"FactorRange\"},{\"attributes\":{},\"id\":\"1294\",\"type\":\"CategoricalTicker\"},{\"attributes\":{\"axis\":{\"id\":\"1293\"},\"dimension\":1,\"grid_line_color\":null,\"ticker\":null},\"id\":\"1295\",\"type\":\"Grid\"},{\"attributes\":{\"end\":100.0,\"reset_end\":100.0,\"reset_start\":0.0,\"tags\":[[[\"value\",\"value\",null]]]},\"id\":\"1106\",\"type\":\"Range1d\"},{\"attributes\":{},\"id\":\"1285\",\"type\":\"LinearScale\"},{\"attributes\":{\"data\":{\"Variable\":[\"Unique\",\"Duplicate\"],\"bottom\":{\"__ndarray__\":\"AAAAAAAAAABUisNZVstYQA==\",\"dtype\":\"float64\",\"order\":\"little\",\"shape\":[2]},\"index\":[\"values\",\"values\"],\"top\":{\"__ndarray__\":\"VIrDWVbLWED///////9YQA==\",\"dtype\":\"float64\",\"order\":\"little\",\"shape\":[2]},\"value\":{\"__ndarray__\":\"VIrDWVbLWEC31Toe01TqPw==\",\"dtype\":\"float64\",\"order\":\"little\",\"shape\":[2]}},\"selected\":{\"id\":\"1254\"},\"selection_policy\":{\"id\":\"1267\"}},\"id\":\"1253\",\"type\":\"ColumnDataSource\"},{\"attributes\":{\"fill_color\":{\"field\":\"Variable\",\"transform\":{\"id\":\"1252\"}},\"height\":{\"value\":0.8},\"left\":{\"field\":\"bottom\"},\"right\":{\"field\":\"top\"},\"y\":{\"field\":\"index\"}},\"id\":\"1256\",\"type\":\"HBar\"},{\"attributes\":{\"fill_alpha\":{\"value\":0.1},\"fill_color\":{\"field\":\"Variable\",\"transform\":{\"id\":\"1252\"}},\"height\":{\"value\":0.8},\"left\":{\"field\":\"bottom\"},\"line_alpha\":{\"value\":0.1},\"right\":{\"field\":\"top\"},\"y\":{\"field\":\"index\"}},\"id\":\"1257\",\"type\":\"HBar\"},{\"attributes\":{\"items\":[{\"id\":\"1270\"}],\"location\":[0,0]},\"id\":\"1269\",\"type\":\"Legend\"},{\"attributes\":{},\"id\":\"1254\",\"type\":\"Selection\"},{\"attributes\":{},\"id\":\"1239\",\"type\":\"SaveTool\"},{\"attributes\":{\"label\":{\"field\":\"Variable\"},\"renderers\":[{\"id\":\"1316\"}]},\"id\":\"1327\",\"type\":\"LegendItem\"},{\"attributes\":{\"active_drag\":\"auto\",\"active_inspect\":\"auto\",\"active_multi\":null,\"active_scroll\":\"auto\",\"active_tap\":\"auto\",\"tools\":[{\"id\":\"1279\"},{\"id\":\"1296\"},{\"id\":\"1297\"},{\"id\":\"1298\"},{\"id\":\"1299\"},{\"id\":\"1300\"}]},\"id\":\"1302\",\"type\":\"Toolbar\"},{\"attributes\":{},\"id\":\"1206\",\"type\":\"BasicTickFormatter\"},{\"attributes\":{},\"id\":\"1297\",\"type\":\"PanTool\"},{\"attributes\":{\"overlay\":{\"id\":\"1301\"}},\"id\":\"1299\",\"type\":\"BoxZoomTool\"},{\"attributes\":{\"child\":{\"id\":\"1372\"},\"name\":\"product_df\",\"title\":\"product_df\"},\"id\":\"1625\",\"type\":\"Panel\"},{\"attributes\":{},\"id\":\"1153\",\"type\":\"UnionRenderers\"},{\"attributes\":{\"fill_color\":{\"field\":\"Variable\",\"transform\":{\"id\":\"1138\"}},\"height\":{\"value\":0.8},\"left\":{\"field\":\"bottom\"},\"right\":{\"field\":\"top\"},\"y\":{\"field\":\"index\"}},\"id\":\"1142\",\"type\":\"HBar\"},{\"attributes\":{\"fill_color\":{\"field\":\"Variable\",\"transform\":{\"id\":\"1309\"}},\"height\":{\"value\":0.8},\"left\":{\"field\":\"bottom\"},\"right\":{\"field\":\"top\"},\"y\":{\"field\":\"index\"}},\"id\":\"1313\",\"type\":\"HBar\"},{\"attributes\":{\"data_source\":{\"id\":\"1310\"},\"glyph\":{\"id\":\"1313\"},\"hover_glyph\":null,\"muted_glyph\":{\"id\":\"1315\"},\"nonselection_glyph\":{\"id\":\"1314\"},\"selection_glyph\":null,\"view\":{\"id\":\"1317\"}},\"id\":\"1316\",\"type\":\"GlyphRenderer\"},{\"attributes\":{\"axis_label\":\"\",\"bounds\":\"auto\",\"formatter\":{\"id\":\"1263\"},\"major_label_orientation\":\"horizontal\",\"ticker\":{\"id\":\"1271\"}},\"id\":\"1232\",\"type\":\"LinearAxis\"},{\"attributes\":{},\"id\":\"1237\",\"type\":\"CategoricalTicker\"},{\"attributes\":{\"children\":[{\"id\":\"1369\"},{\"id\":\"1367\"}]},\"id\":\"1370\",\"type\":\"Column\"},{\"attributes\":{},\"id\":\"1151\",\"type\":\"CategoricalTickFormatter\"},{\"attributes\":{\"style\":{\"white-space\":\"nowrap\"},\"text\":\"<span style=\\\"color:black;font-family:Arial;font-style:bold;font-weight:bold;font-size:12pt\\\">Data Shape:(142431, 8)</span>\",\"width\":450},\"id\":\"1371\",\"type\":\"Div\"},{\"attributes\":{\"children\":[{\"id\":\"1371\"},{\"id\":\"1370\"}]},\"id\":\"1372\",\"type\":\"Column\"},{\"attributes\":{},\"id\":\"1241\",\"type\":\"WheelZoomTool\"},{\"attributes\":{\"source\":{\"id\":\"1196\"}},\"id\":\"1203\",\"type\":\"CDSView\"},{\"attributes\":{\"active_drag\":\"auto\",\"active_inspect\":\"auto\",\"active_multi\":null,\"active_scroll\":\"auto\",\"active_tap\":\"auto\",\"tools\":[{\"id\":\"1222\"},{\"id\":\"1239\"},{\"id\":\"1240\"},{\"id\":\"1241\"},{\"id\":\"1242\"},{\"id\":\"1243\"}]},\"id\":\"1245\",\"type\":\"Toolbar\"},{\"attributes\":{\"items\":[{\"id\":\"1327\"}],\"location\":[0,0]},\"id\":\"1326\",\"type\":\"Legend\"},{\"attributes\":{\"data_source\":{\"id\":\"1196\"},\"glyph\":{\"id\":\"1199\"},\"hover_glyph\":null,\"muted_glyph\":{\"id\":\"1201\"},\"nonselection_glyph\":{\"id\":\"1200\"},\"selection_glyph\":null,\"view\":{\"id\":\"1203\"}},\"id\":\"1202\",\"type\":\"GlyphRenderer\"},{\"attributes\":{\"ticks\":[0]},\"id\":\"1157\",\"type\":\"FixedTicker\"},{\"attributes\":{\"fill_alpha\":{\"value\":0.1},\"fill_color\":{\"field\":\"Variable\",\"transform\":{\"id\":\"1309\"}},\"height\":{\"value\":0.8},\"left\":{\"field\":\"bottom\"},\"line_alpha\":{\"value\":0.1},\"right\":{\"field\":\"top\"},\"y\":{\"field\":\"index\"}},\"id\":\"1314\",\"type\":\"HBar\"},{\"attributes\":{},\"id\":\"1287\",\"type\":\"CategoricalScale\"},{\"attributes\":{\"overlay\":{\"id\":\"1244\"}},\"id\":\"1242\",\"type\":\"BoxZoomTool\"},{\"attributes\":{},\"id\":\"1140\",\"type\":\"Selection\"}],\"root_ids\":[\"1105\",\"2314\"]},\"title\":\"Bokeh Application\",\"version\":\"2.2.3\"}};\n",
       "  var render_items = [{\"docid\":\"9f289030-9c1e-43e2-857b-cfe4c9ca6b28\",\"root_ids\":[\"1105\"],\"roots\":{\"1105\":\"b64aae15-571f-4647-83d3-97e06477d615\"}}];\n",
       "  root.Bokeh.embed.embed_items_notebook(docs_json, render_items);\n",
       "  }\n",
       "if (root.Bokeh !== undefined) {\n",
       "    embed_document(root);\n",
       "  } else {\n",
       "    var attempts = 0;\n",
       "    var timer = setInterval(function(root) {\n",
       "      if (root.Bokeh !== undefined) {\n",
       "        clearInterval(timer);\n",
       "        embed_document(root);\n",
       "      } else if (document.readyState == \"complete\") {\n",
       "        attempts++;\n",
       "        if (attempts > 100) {\n",
       "          clearInterval(timer);\n",
       "          console.log(\"Bokeh: ERROR: Unable to run BokehJS code because BokehJS library is missing\");\n",
       "        }\n",
       "      }\n",
       "    }, 10, root)\n",
       "  }\n",
       "})(window);</script>"
      ],
      "text/plain": [
       "Tabs\n",
       "    [0] HoloViews(Layout, name='product_df')\n",
       "    [1] HoloViews(Layout, name='opportunity_df')"
      ]
     },
     "execution_count": 26,
     "metadata": {
      "application/vnd.holoviews_exec.v0+json": {
       "id": "1105"
      }
     },
     "output_type": "execute_result"
    }
   ],
   "source": [
    "summaries_and_plots = [analysis.get_data_health_summary(data[x], return_plot=True) for x in data.keys()]\n",
    "plots = [x[1] for x in summaries_and_plots]\n",
    "display_as_tabs([(x, plots[idx]) for idx, x in enumerate(data.keys())])"
   ]
  },
  {
   "cell_type": "markdown",
   "metadata": {},
   "source": [
    "**Dev NOTES**\n",
    "\n",
    "<details>\n",
    "1. Datatypes : We have both numeric and other types. The bulk of them seem to be numeric. `Numeric` is defined to be one of [float|int|date] and the rest are categorized as `Others`. A column is assumed to have `date` values if it has the string `date` in the column name.\n",
    "\n",
    "**[TODO]** We prob. need more types: integral, float, bool, dates/timestamps, strings. We have this functionality in Dataprocessor.\n",
    "\n",
    "2. The missing value plot seems to indicate missing values are not present but we do have them. \n",
    "\n",
    "**[TODO]** The plot can be improved to better display small values\n",
    "\n",
    "3. We are looking for duplicate observations (rows in the data). The plot shows the % of rows that are an exact replica of another row (using `df.duplicated`)\n",
    "\n",
    "4. We are looking for duplicate features (columns in the data).\n",
    "\n",
    "**[TODO]** The tigerml code seems complicated but it looks like we compare each column against all other similar columns (numeric/categoric) after dropping nans, infs\n",
    "\n",
    "\n",
    "**[TODO]** We need better data inspectors. The current data inspectors show columns from the dataframe used to construct the plot and **not** the original data. This does not make sense for an end-user who didn't expicitly construct the intermediate data used for the plot. It would be more meaningful to have labels that match the legends (e.g unique_columns:100%, duplicate_columns:0). Also, the y-axis label doesen't tell anything. The x-axis prob. needs an axis (0 to 100%).\n",
    "\n",
    "</details>"
   ]
  },
  {
   "cell_type": "markdown",
   "metadata": {},
   "source": [
    "### Missing Values summary\n",
    "\n",
    "This provides an overall view focussing on amount of missing values in the dataset.\n",
    "\n",
    "**Watch out for:**\n",
    "* A few columns have significant number of missing values \n",
    "* Most columns have significant number of missing values\n"
   ]
  },
  {
   "cell_type": "code",
   "execution_count": 27,
   "metadata": {},
   "outputs": [
    {
     "data": {},
     "metadata": {},
     "output_type": "display_data"
    },
    {
     "data": {},
     "metadata": {},
     "output_type": "display_data"
    },
    {
     "data": {
      "application/vnd.holoviews_exec.v0+json": "",
      "text/html": [
       "<div id='2595'>\n",
       "\n",
       "\n",
       "\n",
       "\n",
       "\n",
       "  <div class=\"bk-root\" id=\"8018d95d-264f-46a7-b0b5-1f59d607c6ac\" data-root-id=\"2595\"></div>\n",
       "</div>\n",
       "<script type=\"application/javascript\">(function(root) {\n",
       "  function embed_document(root) {\n",
       "  var docs_json = {\"cc9ce06a-7835-4ca7-8012-f7f09464ec4f\":{\"roots\":{\"references\":[{\"attributes\":{\"axis\":{\"id\":\"2672\"},\"dimension\":1,\"grid_line_color\":null,\"ticker\":null},\"id\":\"2675\",\"type\":\"Grid\"},{\"attributes\":{},\"id\":\"2646\",\"type\":\"UnionRenderers\"},{\"attributes\":{\"client_comm_id\":\"8f66dba552ef4d12ad6b2b600d64a547\",\"comm_id\":\"409c0f1ce7534af3a984b6775dd91135\",\"plot_id\":\"2595\"},\"id\":\"2766\",\"type\":\"panel.models.comm_manager.CommManager\"},{\"attributes\":{},\"id\":\"2676\",\"type\":\"SaveTool\"},{\"attributes\":{\"overlay\":{\"id\":\"2681\"}},\"id\":\"2679\",\"type\":\"BoxZoomTool\"},{\"attributes\":{},\"id\":\"2673\",\"type\":\"BasicTicker\"},{\"attributes\":{\"text\":\"Missing Variables - Data Shape:(313571, 16)\",\"text_color\":{\"value\":\"black\"},\"text_font_size\":{\"value\":\"12pt\"}},\"id\":\"2661\",\"type\":\"Title\"},{\"attributes\":{\"axis\":{\"id\":\"2669\"},\"grid_line_color\":null,\"ticker\":null},\"id\":\"2671\",\"type\":\"Grid\"},{\"attributes\":{\"axis_label\":\"# of missing observations\",\"bounds\":\"auto\",\"formatter\":{\"id\":\"2697\"},\"major_label_orientation\":\"horizontal\",\"ticker\":{\"id\":\"2670\"}},\"id\":\"2669\",\"type\":\"CategoricalAxis\"},{\"attributes\":{},\"id\":\"2638\",\"type\":\"BasicTickFormatter\"},{\"attributes\":{\"align\":null,\"below\":[{\"id\":\"2669\"}],\"center\":[{\"id\":\"2671\"},{\"id\":\"2675\"}],\"left\":[{\"id\":\"2672\"}],\"margin\":null,\"min_border_bottom\":10,\"min_border_left\":10,\"min_border_right\":10,\"min_border_top\":10,\"plot_height\":300,\"plot_width\":700,\"renderers\":[{\"id\":\"2695\"}],\"sizing_mode\":\"fixed\",\"title\":{\"id\":\"2661\"},\"toolbar\":{\"id\":\"2682\"},\"x_range\":{\"id\":\"2596\"},\"x_scale\":{\"id\":\"2665\"},\"y_range\":{\"id\":\"2597\"},\"y_scale\":{\"id\":\"2667\"}},\"id\":\"2660\",\"subtype\":\"Figure\",\"type\":\"Plot\"},{\"attributes\":{},\"id\":\"2699\",\"type\":\"BasicTickFormatter\"},{\"attributes\":{},\"id\":\"2678\",\"type\":\"WheelZoomTool\"},{\"attributes\":{\"active_drag\":\"auto\",\"active_inspect\":\"auto\",\"active_multi\":null,\"active_scroll\":\"auto\",\"active_tap\":\"auto\",\"tools\":[{\"id\":\"2659\"},{\"id\":\"2676\"},{\"id\":\"2677\"},{\"id\":\"2678\"},{\"id\":\"2679\"},{\"id\":\"2680\"}]},\"id\":\"2682\",\"type\":\"Toolbar\"},{\"attributes\":{\"fill_color\":{\"value\":\"#1f77b3\"},\"top\":{\"field\":\"A_0\"},\"width\":{\"value\":0.8},\"x\":{\"field\":\"index\"}},\"id\":\"2692\",\"type\":\"VBar\"},{\"attributes\":{\"fill_color\":{\"value\":\"#1f77b3\"},\"top\":{\"field\":\"A_0\"},\"width\":{\"value\":0.8},\"x\":{\"field\":\"index\"}},\"id\":\"2631\",\"type\":\"VBar\"},{\"attributes\":{\"margin\":[0,0,0,0],\"tabs\":[{\"id\":\"2656\"},{\"id\":\"2717\"}]},\"id\":\"2595\",\"type\":\"Tabs\"},{\"attributes\":{\"axis\":{\"id\":\"2608\"},\"grid_line_color\":null,\"ticker\":null},\"id\":\"2610\",\"type\":\"Grid\"},{\"attributes\":{},\"id\":\"2677\",\"type\":\"PanTool\"},{\"attributes\":{\"axis_label\":\"# of variables\",\"bounds\":\"auto\",\"formatter\":{\"id\":\"2699\"},\"major_label_orientation\":\"horizontal\",\"ticker\":{\"id\":\"2673\"}},\"id\":\"2672\",\"type\":\"LinearAxis\"},{\"attributes\":{},\"id\":\"2609\",\"type\":\"CategoricalTicker\"},{\"attributes\":{},\"id\":\"2616\",\"type\":\"PanTool\"},{\"attributes\":{},\"id\":\"2707\",\"type\":\"UnionRenderers\"},{\"attributes\":{\"axis_label\":\"# of variables\",\"bounds\":\"auto\",\"formatter\":{\"id\":\"2638\"},\"major_label_orientation\":\"horizontal\",\"ticker\":{\"id\":\"2612\"}},\"id\":\"2611\",\"type\":\"LinearAxis\"},{\"attributes\":{},\"id\":\"2667\",\"type\":\"LinearScale\"},{\"attributes\":{},\"id\":\"2665\",\"type\":\"CategoricalScale\"},{\"attributes\":{\"axis\":{\"id\":\"2611\"},\"dimension\":1,\"grid_line_color\":null,\"ticker\":null},\"id\":\"2614\",\"type\":\"Grid\"},{\"attributes\":{\"fill_alpha\":{\"value\":0.1},\"fill_color\":{\"value\":\"#1f77b3\"},\"line_alpha\":{\"value\":0.1},\"top\":{\"field\":\"A_0\"},\"width\":{\"value\":0.8},\"x\":{\"field\":\"index\"}},\"id\":\"2693\",\"type\":\"VBar\"},{\"attributes\":{},\"id\":\"2690\",\"type\":\"Selection\"},{\"attributes\":{},\"id\":\"2612\",\"type\":\"BasicTicker\"},{\"attributes\":{},\"id\":\"2617\",\"type\":\"WheelZoomTool\"},{\"attributes\":{\"end\":7.7,\"reset_end\":7.7,\"reset_start\":0.0,\"tags\":[[[\"0\",\"0\",null]]]},\"id\":\"2597\",\"type\":\"Range1d\"},{\"attributes\":{},\"id\":\"2680\",\"type\":\"ResetTool\"},{\"attributes\":{\"fill_alpha\":{\"value\":0.2},\"fill_color\":{\"value\":\"#1f77b3\"},\"line_alpha\":{\"value\":0.2},\"top\":{\"field\":\"A_0\"},\"width\":{\"value\":0.8},\"x\":{\"field\":\"index\"}},\"id\":\"2694\",\"type\":\"VBar\"},{\"attributes\":{\"active_drag\":\"auto\",\"active_inspect\":\"auto\",\"active_multi\":null,\"active_scroll\":\"auto\",\"active_tap\":\"auto\",\"tools\":[{\"id\":\"2598\"},{\"id\":\"2615\"},{\"id\":\"2616\"},{\"id\":\"2617\"},{\"id\":\"2618\"},{\"id\":\"2619\"}]},\"id\":\"2621\",\"type\":\"Toolbar\"},{\"attributes\":{},\"id\":\"2615\",\"type\":\"SaveTool\"},{\"attributes\":{\"overlay\":{\"id\":\"2620\"}},\"id\":\"2618\",\"type\":\"BoxZoomTool\"},{\"attributes\":{\"callback\":null,\"renderers\":[{\"id\":\"2695\"}],\"tags\":[\"hv_created\"],\"tooltips\":[[\"index\",\"@{index}\"],[\"0\",\"@{A_0}\"]]},\"id\":\"2659\",\"type\":\"HoverTool\"},{\"attributes\":{},\"id\":\"2619\",\"type\":\"ResetTool\"},{\"attributes\":{},\"id\":\"2670\",\"type\":\"CategoricalTicker\"},{\"attributes\":{\"fill_alpha\":{\"value\":0.1},\"fill_color\":{\"value\":\"#1f77b3\"},\"line_alpha\":{\"value\":0.1},\"top\":{\"field\":\"A_0\"},\"width\":{\"value\":0.8},\"x\":{\"field\":\"index\"}},\"id\":\"2632\",\"type\":\"VBar\"},{\"attributes\":{},\"id\":\"2629\",\"type\":\"Selection\"},{\"attributes\":{\"factors\":[\"No Missing\",\"0-5%\",\"5-10%\",\"10-20%\",\"20-30%\",\"30-40%\",\"40-50%\",\"50-100%\"],\"tags\":[[[\"index\",\"index\",null]]]},\"id\":\"2596\",\"type\":\"FactorRange\"},{\"attributes\":{\"data_source\":{\"id\":\"2689\"},\"glyph\":{\"id\":\"2692\"},\"hover_glyph\":null,\"muted_glyph\":{\"id\":\"2694\"},\"nonselection_glyph\":{\"id\":\"2693\"},\"selection_glyph\":null,\"view\":{\"id\":\"2696\"}},\"id\":\"2695\",\"type\":\"GlyphRenderer\"},{\"attributes\":{\"fill_alpha\":{\"value\":0.2},\"fill_color\":{\"value\":\"#1f77b3\"},\"line_alpha\":{\"value\":0.2},\"top\":{\"field\":\"A_0\"},\"width\":{\"value\":0.8},\"x\":{\"field\":\"index\"}},\"id\":\"2633\",\"type\":\"VBar\"},{\"attributes\":{},\"id\":\"2636\",\"type\":\"CategoricalTickFormatter\"},{\"attributes\":{\"source\":{\"id\":\"2689\"}},\"id\":\"2696\",\"type\":\"CDSView\"},{\"attributes\":{\"text\":\"Missing Variables - Data Shape:(142431, 8)\",\"text_color\":{\"value\":\"black\"},\"text_font_size\":{\"value\":\"12pt\"}},\"id\":\"2600\",\"type\":\"Title\"},{\"attributes\":{\"data\":{\"A_0\":[7,1,0,0,0,0,0,0],\"index\":[\"No Missing\",\"0-5%\",\"5-10%\",\"10-20%\",\"20-30%\",\"30-40%\",\"40-50%\",\"50-100%\"]},\"selected\":{\"id\":\"2629\"},\"selection_policy\":{\"id\":\"2646\"}},\"id\":\"2628\",\"type\":\"ColumnDataSource\"},{\"attributes\":{\"child\":{\"id\":\"2599\"},\"name\":\"product_df\",\"title\":\"product_df\"},\"id\":\"2656\",\"type\":\"Panel\"},{\"attributes\":{},\"id\":\"2697\",\"type\":\"CategoricalTickFormatter\"},{\"attributes\":{\"bottom_units\":\"screen\",\"fill_alpha\":0.5,\"fill_color\":\"lightgrey\",\"left_units\":\"screen\",\"level\":\"overlay\",\"line_alpha\":1.0,\"line_color\":\"black\",\"line_dash\":[4,4],\"line_width\":2,\"right_units\":\"screen\",\"top_units\":\"screen\"},\"id\":\"2681\",\"type\":\"BoxAnnotation\"},{\"attributes\":{\"callback\":null,\"renderers\":[{\"id\":\"2634\"}],\"tags\":[\"hv_created\"],\"tooltips\":[[\"index\",\"@{index}\"],[\"0\",\"@{A_0}\"]]},\"id\":\"2598\",\"type\":\"HoverTool\"},{\"attributes\":{\"data_source\":{\"id\":\"2628\"},\"glyph\":{\"id\":\"2631\"},\"hover_glyph\":null,\"muted_glyph\":{\"id\":\"2633\"},\"nonselection_glyph\":{\"id\":\"2632\"},\"selection_glyph\":null,\"view\":{\"id\":\"2635\"}},\"id\":\"2634\",\"type\":\"GlyphRenderer\"},{\"attributes\":{\"child\":{\"id\":\"2660\"},\"name\":\"opportunity_df\",\"title\":\"opportunity_df\"},\"id\":\"2717\",\"type\":\"Panel\"},{\"attributes\":{},\"id\":\"2604\",\"type\":\"CategoricalScale\"},{\"attributes\":{\"bottom_units\":\"screen\",\"fill_alpha\":0.5,\"fill_color\":\"lightgrey\",\"left_units\":\"screen\",\"level\":\"overlay\",\"line_alpha\":1.0,\"line_color\":\"black\",\"line_dash\":[4,4],\"line_width\":2,\"right_units\":\"screen\",\"top_units\":\"screen\"},\"id\":\"2620\",\"type\":\"BoxAnnotation\"},{\"attributes\":{\"source\":{\"id\":\"2628\"}},\"id\":\"2635\",\"type\":\"CDSView\"},{\"attributes\":{\"align\":null,\"below\":[{\"id\":\"2608\"}],\"center\":[{\"id\":\"2610\"},{\"id\":\"2614\"}],\"left\":[{\"id\":\"2611\"}],\"margin\":null,\"min_border_bottom\":10,\"min_border_left\":10,\"min_border_right\":10,\"min_border_top\":10,\"plot_height\":300,\"plot_width\":700,\"renderers\":[{\"id\":\"2634\"}],\"sizing_mode\":\"fixed\",\"title\":{\"id\":\"2600\"},\"toolbar\":{\"id\":\"2621\"},\"x_range\":{\"id\":\"2596\"},\"x_scale\":{\"id\":\"2604\"},\"y_range\":{\"id\":\"2597\"},\"y_scale\":{\"id\":\"2606\"}},\"id\":\"2599\",\"subtype\":\"Figure\",\"type\":\"Plot\"},{\"attributes\":{\"data\":{\"A_0\":[11,3,1,0,0,0,0,1],\"index\":[\"No Missing\",\"0-5%\",\"5-10%\",\"10-20%\",\"20-30%\",\"30-40%\",\"40-50%\",\"50-100%\"]},\"selected\":{\"id\":\"2690\"},\"selection_policy\":{\"id\":\"2707\"}},\"id\":\"2689\",\"type\":\"ColumnDataSource\"},{\"attributes\":{\"axis_label\":\"# of missing observations\",\"bounds\":\"auto\",\"formatter\":{\"id\":\"2636\"},\"major_label_orientation\":\"horizontal\",\"ticker\":{\"id\":\"2609\"}},\"id\":\"2608\",\"type\":\"CategoricalAxis\"},{\"attributes\":{},\"id\":\"2606\",\"type\":\"LinearScale\"}],\"root_ids\":[\"2595\",\"2766\"]},\"title\":\"Bokeh Application\",\"version\":\"2.2.3\"}};\n",
       "  var render_items = [{\"docid\":\"cc9ce06a-7835-4ca7-8012-f7f09464ec4f\",\"root_ids\":[\"2595\"],\"roots\":{\"2595\":\"8018d95d-264f-46a7-b0b5-1f59d607c6ac\"}}];\n",
       "  root.Bokeh.embed.embed_items_notebook(docs_json, render_items);\n",
       "  }\n",
       "if (root.Bokeh !== undefined) {\n",
       "    embed_document(root);\n",
       "  } else {\n",
       "    var attempts = 0;\n",
       "    var timer = setInterval(function(root) {\n",
       "      if (root.Bokeh !== undefined) {\n",
       "        clearInterval(timer);\n",
       "        embed_document(root);\n",
       "      } else if (document.readyState == \"complete\") {\n",
       "        attempts++;\n",
       "        if (attempts > 100) {\n",
       "          clearInterval(timer);\n",
       "          console.log(\"Bokeh: ERROR: Unable to run BokehJS code because BokehJS library is missing\");\n",
       "        }\n",
       "      }\n",
       "    }, 10, root)\n",
       "  }\n",
       "})(window);</script>"
      ],
      "text/plain": [
       "Tabs\n",
       "    [0] HoloViews(Bars, name='product_df')\n",
       "    [1] HoloViews(Bars, name='opportunity_df')"
      ]
     },
     "execution_count": 27,
     "metadata": {
      "application/vnd.holoviews_exec.v0+json": {
       "id": "2595"
      }
     },
     "output_type": "execute_result"
    }
   ],
   "source": [
    "summaries_and_plots = [analysis.get_missing_values_summary(data[x], return_plot=True) for x in data.keys()]\n",
    "plots = [x[1] for x in summaries_and_plots]\n",
    "display_as_tabs([(x, plots[idx]) for idx, x in enumerate(data.keys())])"
   ]
  },
  {
   "cell_type": "markdown",
   "metadata": {},
   "source": [
    "**Dev notes:**\n",
    "\n",
    "<details>\n",
    "    \n",
    "    * By default, the following are considered missing/NA values : `[np.Nan, pd.NaT, 'NA', None]`\n",
    "    * additional values can be passed to tigerml (add_additional_na_values)\n",
    "    * these are applied to all columns.\n",
    "    \n",
    "    * some of the above information can be learnt from the data discovery step (see discussion below)\n",
    "    \n",
    "</details>"
   ]
  },
  {
   "cell_type": "markdown",
   "metadata": {},
   "source": [
    "### Duplicate Columns"
   ]
  },
  {
   "cell_type": "code",
   "execution_count": 28,
   "metadata": {},
   "outputs": [
    {
     "data": {},
     "metadata": {},
     "output_type": "display_data"
    },
    {
     "data": {
      "application/vnd.holoviews_exec.v0+json": "",
      "text/html": [
       "<div id='2847'>\n",
       "\n",
       "\n",
       "\n",
       "\n",
       "\n",
       "  <div class=\"bk-root\" id=\"d91679f3-5634-46bc-84bb-fed8d44ee0ef\" data-root-id=\"2847\"></div>\n",
       "</div>\n",
       "<script type=\"application/javascript\">(function(root) {\n",
       "  function embed_document(root) {\n",
       "  var docs_json = {\"537dfacd-3bd5-44dd-893b-0ff26c1b6093\":{\"roots\":{\"references\":[{\"attributes\":{\"margin\":[0,0,0,0],\"tabs\":[{\"id\":\"2849\"},{\"id\":\"2851\"}]},\"id\":\"2847\",\"type\":\"Tabs\"},{\"attributes\":{\"child\":{\"id\":\"2848\"},\"name\":\"product_df\",\"title\":\"product_df\"},\"id\":\"2849\",\"type\":\"Panel\"},{\"attributes\":{\"css_classes\":[\"markdown\"],\"margin\":[5,5,5,5],\"name\":\"product_df\",\"text\":\"&lt;p&gt;No duplicate variables&lt;/p&gt;\"},\"id\":\"2848\",\"type\":\"panel.models.markup.HTML\"},{\"attributes\":{\"client_comm_id\":\"fb67c6fcc79f418d9a1985ac635b2cf9\",\"comm_id\":\"df3aa06d4054479cbf71fc93e0a5cb47\",\"plot_id\":\"2847\"},\"id\":\"2852\",\"type\":\"panel.models.comm_manager.CommManager\"},{\"attributes\":{\"child\":{\"id\":\"2850\"},\"name\":\"opportunity_df\",\"title\":\"opportunity_df\"},\"id\":\"2851\",\"type\":\"Panel\"},{\"attributes\":{\"css_classes\":[\"markdown\"],\"margin\":[5,5,5,5],\"name\":\"opportunity_df\",\"text\":\"&lt;p&gt;No duplicate variables&lt;/p&gt;\"},\"id\":\"2850\",\"type\":\"panel.models.markup.HTML\"}],\"root_ids\":[\"2847\",\"2852\"]},\"title\":\"Bokeh Application\",\"version\":\"2.2.3\"}};\n",
       "  var render_items = [{\"docid\":\"537dfacd-3bd5-44dd-893b-0ff26c1b6093\",\"root_ids\":[\"2847\"],\"roots\":{\"2847\":\"d91679f3-5634-46bc-84bb-fed8d44ee0ef\"}}];\n",
       "  root.Bokeh.embed.embed_items_notebook(docs_json, render_items);\n",
       "  }\n",
       "if (root.Bokeh !== undefined) {\n",
       "    embed_document(root);\n",
       "  } else {\n",
       "    var attempts = 0;\n",
       "    var timer = setInterval(function(root) {\n",
       "      if (root.Bokeh !== undefined) {\n",
       "        clearInterval(timer);\n",
       "        embed_document(root);\n",
       "      } else if (document.readyState == \"complete\") {\n",
       "        attempts++;\n",
       "        if (attempts > 100) {\n",
       "          clearInterval(timer);\n",
       "          console.log(\"Bokeh: ERROR: Unable to run BokehJS code because BokehJS library is missing\");\n",
       "        }\n",
       "      }\n",
       "    }, 10, root)\n",
       "  }\n",
       "})(window);</script>"
      ],
      "text/plain": [
       "Tabs\n",
       "    [0] Markdown(str, name='product_df')\n",
       "    [1] Markdown(str, name='opportunity_df')"
      ]
     },
     "execution_count": 28,
     "metadata": {
      "application/vnd.holoviews_exec.v0+json": {
       "id": "2847"
      }
     },
     "output_type": "execute_result"
    }
   ],
   "source": [
    "summaries = [analysis.get_duplicate_columns(data[x]) for x in data.keys()]\n",
    "display_as_tabs([(x, summaries[idx]) for idx, x in enumerate(data.keys())])"
   ]
  },
  {
   "cell_type": "markdown",
   "metadata": {},
   "source": [
    "### Outlier Checks"
   ]
  },
  {
   "cell_type": "code",
   "execution_count": 29,
   "metadata": {},
   "outputs": [
    {
     "data": {},
     "metadata": {},
     "output_type": "display_data"
    },
    {
     "data": {
      "application/vnd.holoviews_exec.v0+json": "",
      "text/html": [
       "<div id='2853'>\n",
       "\n",
       "\n",
       "\n",
       "\n",
       "\n",
       "  <div class=\"bk-root\" id=\"31f4c10a-70d6-46fd-82a6-1c56558c7e5a\" data-root-id=\"2853\"></div>\n",
       "</div>\n",
       "<script type=\"application/javascript\">(function(root) {\n",
       "  function embed_document(root) {\n",
       "  var docs_json = {\"69777784-f058-4c15-91f6-c3284572cee4\":{\"roots\":{\"references\":[{\"attributes\":{\"source\":{\"id\":\"2854\"}},\"id\":\"2891\",\"type\":\"CDSView\"},{\"attributes\":{\"margin\":[0,0,0,0],\"tabs\":[{\"id\":\"2893\"},{\"id\":\"2933\"}]},\"id\":\"2853\",\"type\":\"Tabs\"},{\"attributes\":{\"editor\":{\"id\":\"2926\"},\"field\":\"('Data Shape:(313571, 16)', '+inf')\",\"formatter\":{\"id\":\"2925\"},\"title\":\"('Data Shape:(313571, 16)', '+inf')\",\"width\":null},\"id\":\"2927\",\"type\":\"TableColumn\"},{\"attributes\":{},\"id\":\"2855\",\"type\":\"StringFormatter\"},{\"attributes\":{},\"id\":\"2926\",\"type\":\"IntEditor\"},{\"attributes\":{},\"id\":\"2871\",\"type\":\"IntEditor\"},{\"attributes\":{},\"id\":\"2861\",\"type\":\"IntEditor\"},{\"attributes\":{\"editor\":{\"id\":\"2856\"},\"field\":\"index\",\"formatter\":{\"id\":\"2855\"},\"title\":\"index\",\"width\":null},\"id\":\"2857\",\"type\":\"TableColumn\"},{\"attributes\":{\"editor\":{\"id\":\"2881\"},\"field\":\"('Data Shape:(142431, 8)', '-inf')\",\"formatter\":{\"id\":\"2880\"},\"title\":\"('Data Shape:(142431, 8)', '-inf')\",\"width\":null},\"id\":\"2882\",\"type\":\"TableColumn\"},{\"attributes\":{\"editor\":{\"id\":\"2866\"},\"field\":\"('Data Shape:(142431, 8)', '> (mean+3*std)')\",\"formatter\":{\"id\":\"2865\"},\"title\":\"('Data Shape:(142431, 8)', '> (mean+3*std)')\",\"width\":null},\"id\":\"2867\",\"type\":\"TableColumn\"},{\"attributes\":{},\"id\":\"2915\",\"type\":\"NumberFormatter\"},{\"attributes\":{},\"id\":\"2932\",\"type\":\"Selection\"},{\"attributes\":{},\"id\":\"2881\",\"type\":\"IntEditor\"},{\"attributes\":{},\"id\":\"2865\",\"type\":\"NumberFormatter\"},{\"attributes\":{},\"id\":\"2866\",\"type\":\"IntEditor\"},{\"attributes\":{\"editor\":{\"id\":\"2896\"},\"field\":\"index\",\"formatter\":{\"id\":\"2895\"},\"title\":\"index\",\"width\":null},\"id\":\"2897\",\"type\":\"TableColumn\"},{\"attributes\":{},\"id\":\"2911\",\"type\":\"IntEditor\"},{\"attributes\":{\"columns\":[{\"id\":\"2857\"},{\"id\":\"2862\"},{\"id\":\"2867\"},{\"id\":\"2872\"},{\"id\":\"2877\"},{\"id\":\"2882\"},{\"id\":\"2887\"}],\"editable\":true,\"fit_columns\":true,\"height\":155,\"index_position\":null,\"margin\":[5,10,5,10],\"name\":\"product_df\",\"source\":{\"id\":\"2854\"},\"view\":{\"id\":\"2891\"}},\"id\":\"2890\",\"type\":\"DataTable\"},{\"attributes\":{},\"id\":\"2905\",\"type\":\"NumberFormatter\"},{\"attributes\":{},\"id\":\"2856\",\"type\":\"StringEditor\"},{\"attributes\":{},\"id\":\"2900\",\"type\":\"NumberFormatter\"},{\"attributes\":{\"editor\":{\"id\":\"2906\"},\"field\":\"('Data Shape:(313571, 16)', '> (mean+3*std)')\",\"formatter\":{\"id\":\"2905\"},\"title\":\"('Data Shape:(313571, 16)', '> (mean+3*std)')\",\"width\":null},\"id\":\"2907\",\"type\":\"TableColumn\"},{\"attributes\":{},\"id\":\"2895\",\"type\":\"StringFormatter\"},{\"attributes\":{},\"id\":\"2921\",\"type\":\"IntEditor\"},{\"attributes\":{},\"id\":\"2901\",\"type\":\"IntEditor\"},{\"attributes\":{},\"id\":\"2875\",\"type\":\"NumberFormatter\"},{\"attributes\":{},\"id\":\"2916\",\"type\":\"IntEditor\"},{\"attributes\":{},\"id\":\"2934\",\"type\":\"UnionRenderers\"},{\"attributes\":{\"editor\":{\"id\":\"2911\"},\"field\":\"('Data Shape:(313571, 16)', '< (1stQ - 1.5 * IQR)')\",\"formatter\":{\"id\":\"2910\"},\"title\":\"('Data Shape:(313571, 16)', '< (1stQ - 1.5 * IQR)')\",\"width\":null},\"id\":\"2912\",\"type\":\"TableColumn\"},{\"attributes\":{},\"id\":\"2896\",\"type\":\"StringEditor\"},{\"attributes\":{},\"id\":\"2892\",\"type\":\"Selection\"},{\"attributes\":{},\"id\":\"2910\",\"type\":\"NumberFormatter\"},{\"attributes\":{\"data\":{\"('Data Shape:(313571, 16)', '+inf')\":[0,0,0,0],\"('Data Shape:(313571, 16)', '-inf')\":[0,0,0,0],\"('Data Shape:(313571, 16)', '< (1stQ - 1.5 * IQR)')\":[0,71980,71980,267],\"('Data Shape:(313571, 16)', '< (mean-3*std)')\":[0,0,0,102],\"('Data Shape:(313571, 16)', '> (3rdQ + 1.5 * IQR)')\":[23189,0,0,1914],\"('Data Shape:(313571, 16)', '> (mean+3*std)')\":[4780,0,0,740],\"index\":[\"opportunity id\",\"transition to timestamp\",\"transition from timestamp\",\"decision date\"]},\"selected\":{\"id\":\"2932\"},\"selection_policy\":{\"id\":\"2936\"}},\"id\":\"2894\",\"type\":\"ColumnDataSource\"},{\"attributes\":{\"source\":{\"id\":\"2894\"}},\"id\":\"2931\",\"type\":\"CDSView\"},{\"attributes\":{\"editor\":{\"id\":\"2921\"},\"field\":\"('Data Shape:(313571, 16)', '-inf')\",\"formatter\":{\"id\":\"2920\"},\"title\":\"('Data Shape:(313571, 16)', '-inf')\",\"width\":null},\"id\":\"2922\",\"type\":\"TableColumn\"},{\"attributes\":{\"child\":{\"id\":\"2890\"},\"name\":\"product_df\",\"title\":\"product_df\"},\"id\":\"2893\",\"type\":\"Panel\"},{\"attributes\":{\"editor\":{\"id\":\"2916\"},\"field\":\"('Data Shape:(313571, 16)', '> (3rdQ + 1.5 * IQR)')\",\"formatter\":{\"id\":\"2915\"},\"title\":\"('Data Shape:(313571, 16)', '> (3rdQ + 1.5 * IQR)')\",\"width\":null},\"id\":\"2917\",\"type\":\"TableColumn\"},{\"attributes\":{\"data\":{\"('Data Shape:(142431, 8)', '+inf')\":[0,0,0,0,0],\"('Data Shape:(142431, 8)', '-inf')\":[0,0,0,0,0],\"('Data Shape:(142431, 8)', '< (1stQ - 1.5 * IQR)')\":[0,0,0,216,0],\"('Data Shape:(142431, 8)', '< (mean-3*std)')\":[0,0,0,0,0],\"('Data Shape:(142431, 8)', '> (3rdQ + 1.5 * IQR)')\":[374,18741,19242,4399,10979],\"('Data Shape:(142431, 8)', '> (mean+3*std)')\":[374,705,544,43,10979],\"index\":[\"opportunity id\",\"product $\",\"product quantity\",\"decision date\",\"snapshot time\"]},\"selected\":{\"id\":\"2892\"},\"selection_policy\":{\"id\":\"2934\"}},\"id\":\"2854\",\"type\":\"ColumnDataSource\"},{\"attributes\":{\"columns\":[{\"id\":\"2897\"},{\"id\":\"2902\"},{\"id\":\"2907\"},{\"id\":\"2912\"},{\"id\":\"2917\"},{\"id\":\"2922\"},{\"id\":\"2927\"}],\"editable\":true,\"fit_columns\":true,\"height\":130,\"index_position\":null,\"margin\":[5,10,5,10],\"name\":\"opportunity_df\",\"source\":{\"id\":\"2894\"},\"view\":{\"id\":\"2931\"}},\"id\":\"2930\",\"type\":\"DataTable\"},{\"attributes\":{},\"id\":\"2925\",\"type\":\"NumberFormatter\"},{\"attributes\":{},\"id\":\"2906\",\"type\":\"IntEditor\"},{\"attributes\":{\"editor\":{\"id\":\"2886\"},\"field\":\"('Data Shape:(142431, 8)', '+inf')\",\"formatter\":{\"id\":\"2885\"},\"title\":\"('Data Shape:(142431, 8)', '+inf')\",\"width\":null},\"id\":\"2887\",\"type\":\"TableColumn\"},{\"attributes\":{},\"id\":\"2936\",\"type\":\"UnionRenderers\"},{\"attributes\":{},\"id\":\"2860\",\"type\":\"NumberFormatter\"},{\"attributes\":{},\"id\":\"2885\",\"type\":\"NumberFormatter\"},{\"attributes\":{\"editor\":{\"id\":\"2861\"},\"field\":\"('Data Shape:(142431, 8)', '< (mean-3*std)')\",\"formatter\":{\"id\":\"2860\"},\"title\":\"('Data Shape:(142431, 8)', '< (mean-3*std)')\",\"width\":null},\"id\":\"2862\",\"type\":\"TableColumn\"},{\"attributes\":{\"editor\":{\"id\":\"2876\"},\"field\":\"('Data Shape:(142431, 8)', '> (3rdQ + 1.5 * IQR)')\",\"formatter\":{\"id\":\"2875\"},\"title\":\"('Data Shape:(142431, 8)', '> (3rdQ + 1.5 * IQR)')\",\"width\":null},\"id\":\"2877\",\"type\":\"TableColumn\"},{\"attributes\":{\"editor\":{\"id\":\"2901\"},\"field\":\"('Data Shape:(313571, 16)', '< (mean-3*std)')\",\"formatter\":{\"id\":\"2900\"},\"title\":\"('Data Shape:(313571, 16)', '< (mean-3*std)')\",\"width\":null},\"id\":\"2902\",\"type\":\"TableColumn\"},{\"attributes\":{},\"id\":\"2886\",\"type\":\"IntEditor\"},{\"attributes\":{},\"id\":\"2880\",\"type\":\"NumberFormatter\"},{\"attributes\":{\"child\":{\"id\":\"2930\"},\"name\":\"opportunity_df\",\"title\":\"opportunity_df\"},\"id\":\"2933\",\"type\":\"Panel\"},{\"attributes\":{},\"id\":\"2920\",\"type\":\"NumberFormatter\"},{\"attributes\":{\"client_comm_id\":\"b1e388a8e73f469c96c124ef5a233467\",\"comm_id\":\"94f9928059b84866a95db22df6c1e054\",\"plot_id\":\"2853\"},\"id\":\"2946\",\"type\":\"panel.models.comm_manager.CommManager\"},{\"attributes\":{},\"id\":\"2870\",\"type\":\"NumberFormatter\"},{\"attributes\":{\"editor\":{\"id\":\"2871\"},\"field\":\"('Data Shape:(142431, 8)', '< (1stQ - 1.5 * IQR)')\",\"formatter\":{\"id\":\"2870\"},\"title\":\"('Data Shape:(142431, 8)', '< (1stQ - 1.5 * IQR)')\",\"width\":null},\"id\":\"2872\",\"type\":\"TableColumn\"},{\"attributes\":{},\"id\":\"2876\",\"type\":\"IntEditor\"}],\"root_ids\":[\"2853\",\"2946\"]},\"title\":\"Bokeh Application\",\"version\":\"2.2.3\"}};\n",
       "  var render_items = [{\"docid\":\"69777784-f058-4c15-91f6-c3284572cee4\",\"root_ids\":[\"2853\"],\"roots\":{\"2853\":\"31f4c10a-70d6-46fd-82a6-1c56558c7e5a\"}}];\n",
       "  root.Bokeh.embed.embed_items_notebook(docs_json, render_items);\n",
       "  }\n",
       "if (root.Bokeh !== undefined) {\n",
       "    embed_document(root);\n",
       "  } else {\n",
       "    var attempts = 0;\n",
       "    var timer = setInterval(function(root) {\n",
       "      if (root.Bokeh !== undefined) {\n",
       "        clearInterval(timer);\n",
       "        embed_document(root);\n",
       "      } else if (document.readyState == \"complete\") {\n",
       "        attempts++;\n",
       "        if (attempts > 100) {\n",
       "          clearInterval(timer);\n",
       "          console.log(\"Bokeh: ERROR: Unable to run BokehJS code because BokehJS library is missing\");\n",
       "        }\n",
       "      }\n",
       "    }, 10, root)\n",
       "  }\n",
       "})(window);</script>"
      ],
      "text/plain": [
       "Tabs\n",
       "    [0] DataFrame(name='product_df', value=                  ('Data S...)\n",
       "    [1] DataFrame(name='opportunity_df', value=                          ...)"
      ]
     },
     "execution_count": 29,
     "metadata": {
      "application/vnd.holoviews_exec.v0+json": {
       "id": "2853"
      }
     },
     "output_type": "execute_result"
    }
   ],
   "source": [
    "summaries = [analysis.get_outliers(data[x]) for x in data.keys()]\n",
    "display_as_tabs([(x, summaries[idx]) for idx, x in enumerate(data.keys())])"
   ]
  },
  {
   "cell_type": "markdown",
   "metadata": {},
   "source": [
    "## Health Analysis report\n",
    "\n",
    "Generate a report that has all the above data in a single html. This could be useful to submit to a client"
   ]
  },
  {
   "cell_type": "code",
   "execution_count": 32,
   "metadata": {},
   "outputs": [],
   "source": [
    "os.environ['DEBUG'] = 'true'\n",
    "health_reports_gen = [health.summary_report(data[x],save_path=r'./health_report_'+x+'.html') for x in data.keys()]"
   ]
  }
 ],
 "metadata": {
  "kernelspec": {
   "display_name": "Python 3",
   "language": "python",
   "name": "python3"
  },
  "language_info": {
   "codemirror_mode": {
    "name": "ipython",
    "version": 3
   },
   "file_extension": ".py",
   "mimetype": "text/x-python",
   "name": "python",
   "nbconvert_exporter": "python",
   "pygments_lexer": "ipython3",
   "version": "3.8.11"
  }
 },
 "nbformat": 4,
 "nbformat_minor": 4
}
